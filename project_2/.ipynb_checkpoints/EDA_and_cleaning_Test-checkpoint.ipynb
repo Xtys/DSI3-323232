{
 "cells": [
  {
   "cell_type": "markdown",
   "id": "b7d51ec8",
   "metadata": {},
   "source": [
    "# Project 2: Ames Housing Data"
   ]
  },
  {
   "cell_type": "markdown",
   "id": "6b608bcf",
   "metadata": {},
   "source": [
    "**Part 2 EDA and Data Cleaning (Test)**"
   ]
  },
  {
   "cell_type": "markdown",
   "id": "40a7f371",
   "metadata": {},
   "source": [
    "**Import libraries**"
   ]
  },
  {
   "cell_type": "code",
   "execution_count": 1,
   "id": "f81f5120",
   "metadata": {},
   "outputs": [],
   "source": [
    "import numpy as np\n",
    "import pandas as pd\n",
    "import matplotlib.pyplot as plt\n",
    "import seaborn as sns\n",
    "\n",
    "%matplotlib inline"
   ]
  },
  {
   "cell_type": "code",
   "execution_count": 2,
   "id": "7c8cfa82",
   "metadata": {},
   "outputs": [],
   "source": [
    "#create a func to modify test data\n",
    "def change_test (data):\n",
    "    \n",
    "    ##Rename Columns\n",
    "    data.columns = [x.replace(' ', '_').lower() for x in data.columns]\n",
    "    \n",
    "    ##Drop Columns\n",
    "    data.drop(columns = ['pid'], axis=1, inplace=True)\n",
    "    \n",
    "    ##Fillna for Misc Feature, Alley, Fence and Fireplace Quality\n",
    "    for i in ['misc_feature','alley','fence']:\n",
    "        data[i] = data[i].fillna('None')\n",
    "    \n",
    "    ##Fillna for lot_frontage\n",
    "    frontage_mean = data.lot_frontage.mean()\n",
    "    data['lot_frontage'].fillna(frontage_mean, inplace = True)\n",
    "    \n",
    "    ##Fillna for garage variables\n",
    "    for j in ['garage_finish','garage_yr_blt','garage_type']:\n",
    "        data[j] = data[j].fillna('None')\n",
    "    \n",
    "    \n",
    "    ##Fillna for bsmt variables\n",
    "    for i in ['bsmtfin_type_2','bsmtfin_type_1']:\n",
    "        data[i] = data[i].fillna('None')\n",
    "\n",
    "\n",
    "    ##Fillna for mas variables    \n",
    "    data['mas_vnr_type'] = data['mas_vnr_type'].fillna('None')\n",
    "    data['mas_vnr_area'] = data['mas_vnr_area'].fillna(0)\n",
    "    \n",
    "    #Convert ordinal values in variables\n",
    "    # Variables with Ex, Gd, TA, Fa, & Po\n",
    "    for x in ['exter_qual','exter_cond','kitchen_qual', 'heating_qc']:\n",
    "        data[x] = data[x].map({'Ex':5,'Gd':4,'TA':3,'Fa':2,'Po':1})\n",
    "    #Fillna\n",
    "    for i in ['exter_qual','exter_cond','kitchen_qual', 'heating_qc']:\n",
    "        data[i] = data[i].fillna('None')\n",
    "    \n",
    "    # Variables with Ex, Gd, TA, Fa, Po, & NA\n",
    "    for y in ['bsmt_qual','bsmt_cond','fireplace_qu', 'garage_qual', 'garage_cond']:\n",
    "        data[y] = data[y].map({'Ex':5,'Gd':4,'TA':3,'Fa':2,'Po':1, 'NA':0})\n",
    "    #Fillna\n",
    "    for i in ['bsmt_qual','bsmt_cond','fireplace_qu', 'garage_qual', 'garage_cond']:\n",
    "        data[i] = data[i].fillna('None')\n",
    "    \n",
    "    # Exposure \n",
    "    data['bsmt_exposure'] = data['bsmt_exposure'].map({'Gd':3,'Av':2,'Mn':1,'No':0,'None':0})\n",
    "    data['bsmt_exposure'] = data['bsmt_exposure'].fillna('None')\n",
    "    \n",
    "    # Pool_qc\n",
    "    data['pool_qc'] = data['pool_qc'].map({'Ex':4,'Gd':3,'TA':2,'Fa':1,'NA':0})\n",
    "    data['pool_qc'] = data['pool_qc'].fillna('None')\n",
    "    \n",
    "    # Binarize Central air \n",
    "    data['central_air'] = data['central_air'].map(lambda x: '1' if x == 'Y' else '0')\n",
    "    \n",
    "    # Binarize Street\n",
    "    data['street'] = data['street'].map(lambda x: '1' if x == 'Pave' else '2')\n",
    "    \n",
    "    # concatenating the square feet of the house\n",
    "    data['total_sf'] = (data['total_bsmt_sf'] + \n",
    "                     data['1st_flr_sf'] + \n",
    "                     data['2nd_flr_sf'] + \n",
    "                     data['wood_deck_sf'] + \n",
    "                     data['open_porch_sf'])\n",
    "    \n",
    "    # Calculate total age of house\n",
    "    data['housing_age'] = data['yr_sold'] - data['year_built']\n",
    "    \n",
    "    # Calculate age after Remodeling \n",
    "    data['age_after_remod'] = data['yr_sold'] - data['year_remod/add']\n",
    "\n",
    "    \n",
    "    #Create seasons variable to group months \n",
    "    data['seasons'] = data['mo_sold'].map(lambda x : '4' if x <= 2 else '1' \n",
    "                                        if x < 6 else \"2\" \n",
    "                                        if x < 9 else \"3\" \n",
    "                                        if x < 12 else \"4\")\n",
    "    \n",
    "    #Create dummies for categorical variables\n",
    "    data = pd.get_dummies(data, columns=['ms_subclass','ms_zoning','street','alley', \n",
    "                                               'lot_shape', 'land_contour', 'utilities','lot_config',\n",
    "                                               'land_slope','condition_1','condition_2','bldg_type',\n",
    "                                               'house_style','roof_style','roof_matl','exterior_1st',\n",
    "                                               'exterior_2nd','mas_vnr_type','foundation','bsmtfin_type_1',\n",
    "                                               'bsmtfin_type_2','heating','central_air','electrical',\n",
    "                                               'functional','garage_type','garage_finish','paved_drive',\n",
    "                                               'fence', 'misc_feature','sale_type', 'neighborhood',\n",
    "                                               'year_built', 'year_remod/add', 'garage_yr_blt'], \n",
    "                               drop_first=True)\n",
    "\n",
    "    return data"
   ]
  },
  {
   "cell_type": "code",
   "execution_count": 3,
   "id": "15557057",
   "metadata": {},
   "outputs": [
    {
     "data": {
      "text/plain": [
       "(878, 80)"
      ]
     },
     "execution_count": 3,
     "metadata": {},
     "output_type": "execute_result"
    }
   ],
   "source": [
    "test_data = pd.read_csv(\"D:/GA/DSI3lab/dsi3test/project_2/datasets/test.csv\")\n",
    "test_data.shape"
   ]
  },
  {
   "cell_type": "code",
   "execution_count": 4,
   "id": "e334b22a",
   "metadata": {},
   "outputs": [
    {
     "data": {
      "text/plain": [
       "(878, 484)"
      ]
     },
     "execution_count": 4,
     "metadata": {},
     "output_type": "execute_result"
    }
   ],
   "source": [
    "#apply to test.csv\n",
    "test_data = change_test(test_data)\n",
    "test_data.shape"
   ]
  },
  {
   "cell_type": "markdown",
   "id": "da1dd73b",
   "metadata": {},
   "source": [
    "**Export test data**"
   ]
  },
  {
   "cell_type": "code",
   "execution_count": 5,
   "id": "0cf02d1a",
   "metadata": {},
   "outputs": [],
   "source": [
    "test_data.to_csv('D:/GA/DSI3lab/dsi3test/project_2/datasets/test_final.csv')"
   ]
  }
 ],
 "metadata": {
  "kernelspec": {
   "display_name": "Python 3",
   "language": "python",
   "name": "python3"
  },
  "language_info": {
   "codemirror_mode": {
    "name": "ipython",
    "version": 3
   },
   "file_extension": ".py",
   "mimetype": "text/x-python",
   "name": "python",
   "nbconvert_exporter": "python",
   "pygments_lexer": "ipython3",
   "version": "3.8.8"
  }
 },
 "nbformat": 4,
 "nbformat_minor": 5
}
