{
 "cells": [
  {
   "cell_type": "markdown",
   "id": "c2d14a53",
   "metadata": {},
   "source": [
    "# Project 2: Ames Housing Data"
   ]
  },
  {
   "cell_type": "markdown",
   "id": "350c09f8",
   "metadata": {},
   "source": [
    "**Part 2 Preprocessing and Feature Engineering** "
   ]
  },
  {
   "cell_type": "markdown",
   "id": "5f4466d8",
   "metadata": {},
   "source": [
    "**Table of content**\n",
    "1. Feature Engineering\n",
    "2. Create Dummy Variables\n",
    "3. Save Data for Part 3"
   ]
  },
  {
   "cell_type": "markdown",
   "id": "83b481dc",
   "metadata": {},
   "source": [
    "**Import Libraries**"
   ]
  },
  {
   "cell_type": "code",
   "execution_count": 1,
   "id": "8b033bd3",
   "metadata": {},
   "outputs": [],
   "source": [
    "import numpy as np\n",
    "import pandas as pd\n",
    "import matplotlib.pyplot as plt\n",
    "import seaborn as sns\n",
    "\n",
    "from sklearn.linear_model import Ridge, Lasso, ElasticNet, LinearRegression, RidgeCV, LassoCV, ElasticNetCV\n",
    "from sklearn.model_selection import cross_val_score, train_test_split\n",
    "from sklearn.preprocessing import StandardScaler, PolynomialFeatures\n",
    "import sklearn.preprocessing\n",
    "import sklearn.model_selection\n",
    "import sklearn.linear_model\n",
    "import sklearn.metrics\n",
    "\n",
    "%matplotlib inline"
   ]
  },
  {
   "cell_type": "code",
   "execution_count": 23,
   "id": "1226e72f",
   "metadata": {},
   "outputs": [
    {
     "data": {
      "text/plain": [
       "Series([], dtype: int64)"
      ]
     },
     "execution_count": 23,
     "metadata": {},
     "output_type": "execute_result"
    }
   ],
   "source": [
    "# import Cleaned Data\n",
    "train_final = pd.read_csv('./datasets/train_final.csv')\n",
    "\n",
    "#Set id as index \n",
    "train_final.set_index('id', inplace=True)\n",
    "\n",
    "# Check for nulls\n",
    "(train_final.isnull().sum())[train_final.isnull().sum() > 0].sort_values(ascending=False)"
   ]
  },
  {
   "cell_type": "code",
   "execution_count": 3,
   "id": "0f3c9e29",
   "metadata": {},
   "outputs": [
    {
     "data": {
      "text/plain": [
       "(2044, 81)"
      ]
     },
     "execution_count": 3,
     "metadata": {},
     "output_type": "execute_result"
    }
   ],
   "source": [
    "train_final.shape"
   ]
  },
  {
   "cell_type": "markdown",
   "id": "b3cdc6cd",
   "metadata": {},
   "source": [
    "**Feature Engineering**"
   ]
  },
  {
   "cell_type": "code",
   "execution_count": 4,
   "id": "8d7174c2",
   "metadata": {},
   "outputs": [
    {
     "data": {
      "text/plain": [
       "(2044, 82)"
      ]
     },
     "execution_count": 4,
     "metadata": {},
     "output_type": "execute_result"
    }
   ],
   "source": [
    "train_final['total_sf'] = (train_final['total_bsmt_sf'] + \n",
    "                     train_final['1st_flr_sf'] + \n",
    "                     train_final['2nd_flr_sf'] + \n",
    "                     train_final['wood_deck_sf'] + \n",
    "                     train_final['open_porch_sf'])\n",
    "train_final.shape"
   ]
  },
  {
   "cell_type": "code",
   "execution_count": 5,
   "id": "28c5c2fa",
   "metadata": {},
   "outputs": [
    {
     "data": {
      "text/plain": [
       "count    2044.000000\n",
       "mean       36.004892\n",
       "std        30.156534\n",
       "min         0.000000\n",
       "25%         7.000000\n",
       "50%        34.000000\n",
       "75%        54.000000\n",
       "max       136.000000\n",
       "Name: housing_age, dtype: float64"
      ]
     },
     "execution_count": 5,
     "metadata": {},
     "output_type": "execute_result"
    }
   ],
   "source": [
    "#Creating column for age standardise against different years sold\n",
    "train_final['housing_age'] = train_final['yr_sold'] - train_final['year_built']\n",
    "train_final['housing_age'].describe()"
   ]
  },
  {
   "cell_type": "code",
   "execution_count": 6,
   "id": "94094ec8",
   "metadata": {},
   "outputs": [
    {
     "data": {
      "text/plain": [
       "count    2044.000000\n",
       "mean       23.614971\n",
       "std        21.022818\n",
       "min        -1.000000\n",
       "25%         4.000000\n",
       "50%        15.000000\n",
       "75%        43.000000\n",
       "max        60.000000\n",
       "Name: age_after_remod, dtype: float64"
      ]
     },
     "execution_count": 6,
     "metadata": {},
     "output_type": "execute_result"
    }
   ],
   "source": [
    "# knowing how old after remodeling\n",
    "train_final['age_after_remod'] = train_final['yr_sold'] - train_final['year_remod/add']\n",
    "train_final['age_after_remod'].describe()"
   ]
  },
  {
   "cell_type": "code",
   "execution_count": 7,
   "id": "c49e24f2",
   "metadata": {},
   "outputs": [
    {
     "data": {
      "text/html": [
       "<div>\n",
       "<style scoped>\n",
       "    .dataframe tbody tr th:only-of-type {\n",
       "        vertical-align: middle;\n",
       "    }\n",
       "\n",
       "    .dataframe tbody tr th {\n",
       "        vertical-align: top;\n",
       "    }\n",
       "\n",
       "    .dataframe thead th {\n",
       "        text-align: right;\n",
       "    }\n",
       "</style>\n",
       "<table border=\"1\" class=\"dataframe\">\n",
       "  <thead>\n",
       "    <tr style=\"text-align: right;\">\n",
       "      <th></th>\n",
       "      <th>pid</th>\n",
       "      <th>ms_subclass</th>\n",
       "      <th>ms_zoning</th>\n",
       "      <th>lot_frontage</th>\n",
       "      <th>lot_area</th>\n",
       "      <th>street</th>\n",
       "      <th>alley</th>\n",
       "      <th>lot_shape</th>\n",
       "      <th>land_contour</th>\n",
       "      <th>utilities</th>\n",
       "      <th>...</th>\n",
       "      <th>misc_feature</th>\n",
       "      <th>misc_val</th>\n",
       "      <th>mo_sold</th>\n",
       "      <th>yr_sold</th>\n",
       "      <th>sale_type</th>\n",
       "      <th>saleprice</th>\n",
       "      <th>log_saleprice</th>\n",
       "      <th>total_sf</th>\n",
       "      <th>housing_age</th>\n",
       "      <th>age_after_remod</th>\n",
       "    </tr>\n",
       "    <tr>\n",
       "      <th>id</th>\n",
       "      <th></th>\n",
       "      <th></th>\n",
       "      <th></th>\n",
       "      <th></th>\n",
       "      <th></th>\n",
       "      <th></th>\n",
       "      <th></th>\n",
       "      <th></th>\n",
       "      <th></th>\n",
       "      <th></th>\n",
       "      <th></th>\n",
       "      <th></th>\n",
       "      <th></th>\n",
       "      <th></th>\n",
       "      <th></th>\n",
       "      <th></th>\n",
       "      <th></th>\n",
       "      <th></th>\n",
       "      <th></th>\n",
       "      <th></th>\n",
       "      <th></th>\n",
       "    </tr>\n",
       "  </thead>\n",
       "  <tbody>\n",
       "    <tr>\n",
       "      <th>1703</th>\n",
       "      <td>528120010</td>\n",
       "      <td>60</td>\n",
       "      <td>RL</td>\n",
       "      <td>134.0</td>\n",
       "      <td>16659</td>\n",
       "      <td>Pave</td>\n",
       "      <td>None</td>\n",
       "      <td>IR1</td>\n",
       "      <td>Lvl</td>\n",
       "      <td>AllPub</td>\n",
       "      <td>...</td>\n",
       "      <td>None</td>\n",
       "      <td>0</td>\n",
       "      <td>6</td>\n",
       "      <td>2007</td>\n",
       "      <td>New</td>\n",
       "      <td>260116</td>\n",
       "      <td>12.468883</td>\n",
       "      <td>4102.0</td>\n",
       "      <td>0</td>\n",
       "      <td>-1</td>\n",
       "    </tr>\n",
       "  </tbody>\n",
       "</table>\n",
       "<p>1 rows × 84 columns</p>\n",
       "</div>"
      ],
      "text/plain": [
       "            pid  ms_subclass ms_zoning  lot_frontage  lot_area street alley  \\\n",
       "id                                                                            \n",
       "1703  528120010           60        RL         134.0     16659   Pave  None   \n",
       "\n",
       "     lot_shape land_contour utilities  ... misc_feature misc_val mo_sold  \\\n",
       "id                                     ...                                 \n",
       "1703       IR1          Lvl    AllPub  ...         None        0       6   \n",
       "\n",
       "     yr_sold sale_type saleprice log_saleprice  total_sf  housing_age  \\\n",
       "id                                                                      \n",
       "1703    2007       New    260116     12.468883    4102.0            0   \n",
       "\n",
       "      age_after_remod  \n",
       "id                     \n",
       "1703               -1  \n",
       "\n",
       "[1 rows x 84 columns]"
      ]
     },
     "execution_count": 7,
     "metadata": {},
     "output_type": "execute_result"
    }
   ],
   "source": [
    "#dropping it since , it affect our data\n",
    "train_final[train_final['age_after_remod'] == -1]"
   ]
  },
  {
   "cell_type": "code",
   "execution_count": 8,
   "id": "c05ca8b3",
   "metadata": {},
   "outputs": [],
   "source": [
    "train_final.drop([1703], inplace=True)"
   ]
  },
  {
   "cell_type": "code",
   "execution_count": 9,
   "id": "51edb46e",
   "metadata": {},
   "outputs": [
    {
     "data": {
      "text/plain": [
       "count    2043.000000\n",
       "mean        2.108174\n",
       "std         0.983979\n",
       "min         1.000000\n",
       "25%         1.000000\n",
       "50%         2.000000\n",
       "75%         3.000000\n",
       "max         4.000000\n",
       "Name: seasons, dtype: float64"
      ]
     },
     "execution_count": 9,
     "metadata": {},
     "output_type": "execute_result"
    }
   ],
   "source": [
    "#checking the seasons \n",
    "train_final['seasons'] = train_final['mo_sold'].map(lambda x : 4 if x <= 2 else 1\n",
    "                                        if x < 6 else 2 \n",
    "                                        if x < 9 else 3 \n",
    "                                        if x < 12 else 4)\n",
    "train_final['seasons'].describe()"
   ]
  },
  {
   "cell_type": "code",
   "execution_count": 10,
   "id": "43324879",
   "metadata": {},
   "outputs": [
    {
     "data": {
      "text/html": [
       "<div>\n",
       "<style scoped>\n",
       "    .dataframe tbody tr th:only-of-type {\n",
       "        vertical-align: middle;\n",
       "    }\n",
       "\n",
       "    .dataframe tbody tr th {\n",
       "        vertical-align: top;\n",
       "    }\n",
       "\n",
       "    .dataframe thead th {\n",
       "        text-align: right;\n",
       "    }\n",
       "</style>\n",
       "<table border=\"1\" class=\"dataframe\">\n",
       "  <thead>\n",
       "    <tr style=\"text-align: right;\">\n",
       "      <th></th>\n",
       "      <th>pid</th>\n",
       "      <th>lot_frontage</th>\n",
       "      <th>lot_area</th>\n",
       "      <th>overall_qual</th>\n",
       "      <th>overall_cond</th>\n",
       "      <th>mas_vnr_area</th>\n",
       "      <th>exter_qual</th>\n",
       "      <th>exter_cond</th>\n",
       "      <th>bsmt_qual</th>\n",
       "      <th>bsmt_cond</th>\n",
       "      <th>...</th>\n",
       "      <th>garage_yr_blt_2003.0</th>\n",
       "      <th>garage_yr_blt_2004.0</th>\n",
       "      <th>garage_yr_blt_2005.0</th>\n",
       "      <th>garage_yr_blt_2006.0</th>\n",
       "      <th>garage_yr_blt_2007.0</th>\n",
       "      <th>garage_yr_blt_2008.0</th>\n",
       "      <th>garage_yr_blt_2009.0</th>\n",
       "      <th>garage_yr_blt_2010.0</th>\n",
       "      <th>garage_yr_blt_2207.0</th>\n",
       "      <th>garage_yr_blt_None</th>\n",
       "    </tr>\n",
       "    <tr>\n",
       "      <th>id</th>\n",
       "      <th></th>\n",
       "      <th></th>\n",
       "      <th></th>\n",
       "      <th></th>\n",
       "      <th></th>\n",
       "      <th></th>\n",
       "      <th></th>\n",
       "      <th></th>\n",
       "      <th></th>\n",
       "      <th></th>\n",
       "      <th></th>\n",
       "      <th></th>\n",
       "      <th></th>\n",
       "      <th></th>\n",
       "      <th></th>\n",
       "      <th></th>\n",
       "      <th></th>\n",
       "      <th></th>\n",
       "      <th></th>\n",
       "      <th></th>\n",
       "      <th></th>\n",
       "    </tr>\n",
       "  </thead>\n",
       "  <tbody>\n",
       "    <tr>\n",
       "      <th>1</th>\n",
       "      <td>526301100</td>\n",
       "      <td>141.0</td>\n",
       "      <td>31770</td>\n",
       "      <td>6</td>\n",
       "      <td>5</td>\n",
       "      <td>112.0</td>\n",
       "      <td>None</td>\n",
       "      <td>None</td>\n",
       "      <td>None</td>\n",
       "      <td>None</td>\n",
       "      <td>...</td>\n",
       "      <td>0</td>\n",
       "      <td>0</td>\n",
       "      <td>0</td>\n",
       "      <td>0</td>\n",
       "      <td>0</td>\n",
       "      <td>0</td>\n",
       "      <td>0</td>\n",
       "      <td>0</td>\n",
       "      <td>0</td>\n",
       "      <td>0</td>\n",
       "    </tr>\n",
       "    <tr>\n",
       "      <th>3</th>\n",
       "      <td>526351010</td>\n",
       "      <td>81.0</td>\n",
       "      <td>14267</td>\n",
       "      <td>6</td>\n",
       "      <td>6</td>\n",
       "      <td>108.0</td>\n",
       "      <td>None</td>\n",
       "      <td>None</td>\n",
       "      <td>None</td>\n",
       "      <td>None</td>\n",
       "      <td>...</td>\n",
       "      <td>0</td>\n",
       "      <td>0</td>\n",
       "      <td>0</td>\n",
       "      <td>0</td>\n",
       "      <td>0</td>\n",
       "      <td>0</td>\n",
       "      <td>0</td>\n",
       "      <td>0</td>\n",
       "      <td>0</td>\n",
       "      <td>0</td>\n",
       "    </tr>\n",
       "    <tr>\n",
       "      <th>5</th>\n",
       "      <td>527105010</td>\n",
       "      <td>74.0</td>\n",
       "      <td>13830</td>\n",
       "      <td>5</td>\n",
       "      <td>5</td>\n",
       "      <td>0.0</td>\n",
       "      <td>None</td>\n",
       "      <td>None</td>\n",
       "      <td>None</td>\n",
       "      <td>None</td>\n",
       "      <td>...</td>\n",
       "      <td>0</td>\n",
       "      <td>0</td>\n",
       "      <td>0</td>\n",
       "      <td>0</td>\n",
       "      <td>0</td>\n",
       "      <td>0</td>\n",
       "      <td>0</td>\n",
       "      <td>0</td>\n",
       "      <td>0</td>\n",
       "      <td>0</td>\n",
       "    </tr>\n",
       "    <tr>\n",
       "      <th>8</th>\n",
       "      <td>527145080</td>\n",
       "      <td>43.0</td>\n",
       "      <td>5005</td>\n",
       "      <td>8</td>\n",
       "      <td>5</td>\n",
       "      <td>0.0</td>\n",
       "      <td>None</td>\n",
       "      <td>None</td>\n",
       "      <td>None</td>\n",
       "      <td>None</td>\n",
       "      <td>...</td>\n",
       "      <td>0</td>\n",
       "      <td>0</td>\n",
       "      <td>0</td>\n",
       "      <td>0</td>\n",
       "      <td>0</td>\n",
       "      <td>0</td>\n",
       "      <td>0</td>\n",
       "      <td>0</td>\n",
       "      <td>0</td>\n",
       "      <td>0</td>\n",
       "    </tr>\n",
       "    <tr>\n",
       "      <th>9</th>\n",
       "      <td>527146030</td>\n",
       "      <td>39.0</td>\n",
       "      <td>5389</td>\n",
       "      <td>8</td>\n",
       "      <td>5</td>\n",
       "      <td>0.0</td>\n",
       "      <td>None</td>\n",
       "      <td>None</td>\n",
       "      <td>None</td>\n",
       "      <td>None</td>\n",
       "      <td>...</td>\n",
       "      <td>0</td>\n",
       "      <td>0</td>\n",
       "      <td>0</td>\n",
       "      <td>0</td>\n",
       "      <td>0</td>\n",
       "      <td>0</td>\n",
       "      <td>0</td>\n",
       "      <td>0</td>\n",
       "      <td>0</td>\n",
       "      <td>0</td>\n",
       "    </tr>\n",
       "  </tbody>\n",
       "</table>\n",
       "<p>5 rows × 512 columns</p>\n",
       "</div>"
      ],
      "text/plain": [
       "          pid  lot_frontage  lot_area  overall_qual  overall_cond  \\\n",
       "id                                                                  \n",
       "1   526301100         141.0     31770             6             5   \n",
       "3   526351010          81.0     14267             6             6   \n",
       "5   527105010          74.0     13830             5             5   \n",
       "8   527145080          43.0      5005             8             5   \n",
       "9   527146030          39.0      5389             8             5   \n",
       "\n",
       "    mas_vnr_area exter_qual exter_cond bsmt_qual bsmt_cond  ...  \\\n",
       "id                                                          ...   \n",
       "1          112.0       None       None      None      None  ...   \n",
       "3          108.0       None       None      None      None  ...   \n",
       "5            0.0       None       None      None      None  ...   \n",
       "8            0.0       None       None      None      None  ...   \n",
       "9            0.0       None       None      None      None  ...   \n",
       "\n",
       "   garage_yr_blt_2003.0  garage_yr_blt_2004.0  garage_yr_blt_2005.0  \\\n",
       "id                                                                    \n",
       "1                     0                     0                     0   \n",
       "3                     0                     0                     0   \n",
       "5                     0                     0                     0   \n",
       "8                     0                     0                     0   \n",
       "9                     0                     0                     0   \n",
       "\n",
       "    garage_yr_blt_2006.0  garage_yr_blt_2007.0 garage_yr_blt_2008.0  \\\n",
       "id                                                                    \n",
       "1                      0                     0                    0   \n",
       "3                      0                     0                    0   \n",
       "5                      0                     0                    0   \n",
       "8                      0                     0                    0   \n",
       "9                      0                     0                    0   \n",
       "\n",
       "    garage_yr_blt_2009.0  garage_yr_blt_2010.0  garage_yr_blt_2207.0  \\\n",
       "id                                                                     \n",
       "1                      0                     0                     0   \n",
       "3                      0                     0                     0   \n",
       "5                      0                     0                     0   \n",
       "8                      0                     0                     0   \n",
       "9                      0                     0                     0   \n",
       "\n",
       "    garage_yr_blt_None  \n",
       "id                      \n",
       "1                    0  \n",
       "3                    0  \n",
       "5                    0  \n",
       "8                    0  \n",
       "9                    0  \n",
       "\n",
       "[5 rows x 512 columns]"
      ]
     },
     "execution_count": 10,
     "metadata": {},
     "output_type": "execute_result"
    }
   ],
   "source": [
    "#Create dummies for categorical variables\n",
    "\n",
    "train_final = pd.get_dummies(train_final, columns=['ms_subclass','ms_zoning','street','alley', \n",
    "                                               'lot_shape', 'land_contour', 'utilities','lot_config',\n",
    "                                               'land_slope','condition_1','condition_2','bldg_type',\n",
    "                                               'house_style','roof_style','roof_matl','exterior_1st',\n",
    "                                               'exterior_2nd','mas_vnr_type','foundation','bsmtfin_type_1',\n",
    "                                               'bsmtfin_type_2','heating','central_air','electrical',\n",
    "                                               'functional','garage_type','garage_finish','paved_drive',\n",
    "                                               'fence', 'misc_feature','sale_type', 'neighborhood',\n",
    "                                               'year_built', 'year_remod/add', 'garage_yr_blt'], \n",
    "                               drop_first=True)\n",
    "train_final.head()"
   ]
  },
  {
   "cell_type": "code",
   "execution_count": 17,
   "id": "5af85dbd",
   "metadata": {},
   "outputs": [
    {
     "data": {
      "image/png": "[encoded data removed]",
      "text/plain": [
       "<Figure size 1368x648 with 2 Axes>"
      ]
     },
     "metadata": {
      "needs_background": "light"
     },
     "output_type": "display_data"
    }
   ],
   "source": [
    "# Variables has highest positive correlation against Sale Price with added Variables and dummies\n",
    "plt.figure(figsize = (19,9))\n",
    "train_final_corr = train_final.corr()[['saleprice']].sort_values('saleprice', ascending=False)\n",
    "positive_corr = train_final_corr.head(20)\n",
    "\n",
    "sns.heatmap(positive_corr, annot = True, cmap='Reds');"
   ]
  },
  {
   "cell_type": "code",
   "execution_count": 18,
   "id": "b5e97612",
   "metadata": {},
   "outputs": [
    {
     "data": {
      "image/png": "[encoded data removed]",
      "text/plain": [
       "<Figure size 1080x360 with 2 Axes>"
      ]
     },
     "metadata": {
      "needs_background": "light"
     },
     "output_type": "display_data"
    }
   ],
   "source": [
    "# Variables has highest negative correlation against Sale Price with added Variables and dummies\n",
    "plt.figure(figsize = (15,5))\n",
    "train_final_corr = train_final.corr()[['saleprice']].sort_values('saleprice', ascending=False)\n",
    "positive_corr = train_final_corr.tail(15)\n",
    "\n",
    "sns.heatmap(positive_corr, annot = True, cmap='Reds');"
   ]
  },
  {
   "cell_type": "code",
   "execution_count": 22,
   "id": "1fdf3368",
   "metadata": {},
   "outputs": [],
   "source": [
    "#export engineered Data\n",
    "train_final.to_csv('./datasets/train_dummies.csv')"
   ]
  }
 ],
 "metadata": {
  "kernelspec": {
   "display_name": "Python 3",
   "language": "python",
   "name": "python3"
  },
  "language_info": {
   "codemirror_mode": {
    "name": "ipython",
    "version": 3
   },
   "file_extension": ".py",
   "mimetype": "text/x-python",
   "name": "python",
   "nbconvert_exporter": "python",
   "pygments_lexer": "ipython3",
   "version": "3.8.8"
  }
 },
 "nbformat": 4,
 "nbformat_minor": 5
}
