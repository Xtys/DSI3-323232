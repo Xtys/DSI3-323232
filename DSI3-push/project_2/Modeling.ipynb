{
 "cells": [
  {
   "cell_type": "markdown",
   "id": "6cdd569e",
   "metadata": {},
   "source": [
    "# Project 2: Ames Housing Data"
   ]
  },
  {
   "cell_type": "markdown",
   "id": "341f9453",
   "metadata": {},
   "source": [
    "**Part 3 Modelling**"
   ]
  },
  {
   "cell_type": "markdown",
   "id": "b5ba203e",
   "metadata": {},
   "source": [
    "**1. Import Libraries**"
   ]
  },
  {
   "cell_type": "code",
   "execution_count": 52,
   "id": "fef086f0",
   "metadata": {},
   "outputs": [],
   "source": [
    "import numpy as np\n",
    "import pandas as pd\n",
    "import matplotlib.pyplot as plt\n",
    "import seaborn as sns\n",
    "\n",
    "from sklearn.linear_model import Ridge, Lasso, ElasticNet, LinearRegression, RidgeCV, LassoCV, ElasticNetCV\n",
    "from sklearn.model_selection import cross_val_score, train_test_split\n",
    "from sklearn.preprocessing import StandardScaler, PolynomialFeatures\n",
    "import sklearn.preprocessing\n",
    "import sklearn.model_selection\n",
    "import sklearn.linear_model\n",
    "import sklearn.metrics\n",
    "from sklearn.metrics import r2_score\n",
    "\n",
    "from sklearn.metrics import mean_squared_error\n",
    "\n",
    "%matplotlib inline"
   ]
  },
  {
   "cell_type": "code",
   "execution_count": 53,
   "id": "dc626118",
   "metadata": {},
   "outputs": [
    {
     "data": {
      "text/plain": [
       "Series([], dtype: int64)"
      ]
     },
     "execution_count": 53,
     "metadata": {},
     "output_type": "execute_result"
    }
   ],
   "source": [
    "# importing engineered Data\n",
    "df_train = pd.read_csv('D:/GA/DSI3lab/dsi3test/project_2/datasets/train_dummies.csv')\n",
    "\n",
    "#Set id as index \n",
    "df_train.set_index('id', inplace=True)\n",
    "\n",
    "# Check for nulls\n",
    "(df_train.isnull().sum())[df_train.isnull().sum() > 0].sort_values(ascending=False)"
   ]
  },
  {
   "cell_type": "code",
   "execution_count": 54,
   "id": "a31146b8",
   "metadata": {},
   "outputs": [
    {
     "data": {
      "text/plain": [
       "(2043, 512)"
      ]
     },
     "execution_count": 54,
     "metadata": {},
     "output_type": "execute_result"
    }
   ],
   "source": [
    "df_train.shape"
   ]
  },
  {
   "cell_type": "markdown",
   "id": "8d4712d8",
   "metadata": {},
   "source": [
    "**2. Features and targeting vector**"
   ]
  },
  {
   "cell_type": "code",
   "execution_count": 55,
   "id": "f48cb327",
   "metadata": {},
   "outputs": [],
   "source": [
    "features = [col for col in df_train._get_numeric_data().columns if col != 'saleprice']\n",
    "X = df_train[features]\n",
    "y = df_train['saleprice']"
   ]
  },
  {
   "cell_type": "code",
   "execution_count": 56,
   "id": "df91b15f",
   "metadata": {},
   "outputs": [],
   "source": [
    "X_train, X_test, y_train, y_test = train_test_split(X, y)"
   ]
  },
  {
   "cell_type": "code",
   "execution_count": 57,
   "id": "5944b8f8",
   "metadata": {},
   "outputs": [],
   "source": [
    "#scaling \n",
    "ss =StandardScaler()\n",
    "ss.fit(X_train)\n",
    "X_train_ss = ss.transform(X_train)\n",
    "X_test_ss = ss.transform(X_test)"
   ]
  },
  {
   "cell_type": "code",
   "execution_count": 58,
   "id": "81a91227",
   "metadata": {},
   "outputs": [],
   "source": [
    "#Instantiate Models\n",
    "lr = LinearRegression()\n",
    "lasso = LassoCV(n_alphas = 200)\n",
    "ridge = RidgeCV(alphas = np.linspace(.1, 10, 100))"
   ]
  },
  {
   "cell_type": "markdown",
   "id": "09067d59",
   "metadata": {},
   "source": [
    "**3.Cross-val all model**"
   ]
  },
  {
   "cell_type": "code",
   "execution_count": 59,
   "id": "da297031",
   "metadata": {},
   "outputs": [
    {
     "data": {
      "text/plain": [
       "-6.083427221696505e+24"
      ]
     },
     "execution_count": 59,
     "metadata": {},
     "output_type": "execute_result"
    }
   ],
   "source": [
    "# Linear Regression\n",
    "lr_scores = cross_val_score(lr, X_train_ss, y_train, cv=5)\n",
    "lr_scores.mean()"
   ]
  },
  {
   "cell_type": "code",
   "execution_count": 60,
   "id": "c61fb171",
   "metadata": {},
   "outputs": [
    {
     "name": "stdout",
     "output_type": "stream",
     "text": [
      "32.17641750250737\n"
     ]
    }
   ],
   "source": [
    "# Ridge\n",
    "# Find optimal value for ridge regression alpha\n",
    "ridge_alphas = np.logspace(0, 5, 200)\n",
    "\n",
    "optimal_ridge = RidgeCV(alphas=ridge_alphas, cv=10)\n",
    "optimal_ridge.fit(X_train_ss, y_train)\n",
    "\n",
    "print (optimal_ridge.alpha_)"
   ]
  },
  {
   "cell_type": "code",
   "execution_count": 61,
   "id": "f184a21a",
   "metadata": {},
   "outputs": [
    {
     "data": {
      "text/plain": [
       "0.936987277620761"
      ]
     },
     "execution_count": 61,
     "metadata": {},
     "output_type": "execute_result"
    }
   ],
   "source": [
    "# Cross-validate the Ridge regression with the optimal alpha.\n",
    "ridge = Ridge(alpha=optimal_ridge.alpha_)\n",
    "\n",
    "ridge_scores = cross_val_score(ridge, X_train_ss, y_train, cv=5)\n",
    "ridge_scores.mean()"
   ]
  },
  {
   "cell_type": "code",
   "execution_count": 62,
   "id": "00ad045d",
   "metadata": {},
   "outputs": [
    {
     "name": "stderr",
     "output_type": "stream",
     "text": [
      "[Parallel(n_jobs=1)]: Using backend SequentialBackend with 1 concurrent workers.\n",
      "..................................................................................................................................................................................................................................................................................................................................................................................................................................................................................................................................................................................................................................................................................................................................................................................................................................................................................................................................................................................................................................................................................................................................................................................................................................................................................................................................................................................................................................................................................................................................................................................................................................................................................................................................................................................................................................................................................................................................................................................................................................................................................................................................................................................................................................................................................................................................................................................................................................................................................................................................................................................................................................................................................................................................................................................................................................................................................................................................................................................................................................................................................................................................................................................................................................................................................................................................................................................................................................................................................................................................................................................................................................................................................................................................................................................................................................................................................................................................................................................................................................................................................................................................................................................................................................................................................................................................................................................................................................................................................................................................................................................................................................................................................................................................................................................................................................................................................................................................................................................................................................................................................................................................................................................................."
     ]
    },
    {
     "name": "stdout",
     "output_type": "stream",
     "text": [
      "667.1565680623577\n"
     ]
    },
    {
     "name": "stderr",
     "output_type": "stream",
     "text": [
      ".....[Parallel(n_jobs=1)]: Done  10 out of  10 | elapsed:    2.4s finished\n"
     ]
    }
   ],
   "source": [
    "# Lasso\n",
    "# Find optimal value for lasso regression alpha\n",
    "optimal_lasso = LassoCV(n_alphas=500, cv=10, verbose=1)\n",
    "optimal_lasso.fit(X_train_ss, y_train)\n",
    "\n",
    "print (optimal_lasso.alpha_)"
   ]
  },
  {
   "cell_type": "code",
   "execution_count": 63,
   "id": "8c06fbae",
   "metadata": {},
   "outputs": [
    {
     "data": {
      "text/plain": [
       "0.9432443291885182"
      ]
     },
     "execution_count": 63,
     "metadata": {},
     "output_type": "execute_result"
    }
   ],
   "source": [
    "# Lasso\n",
    "lasso = Lasso(alpha=optimal_lasso.alpha_)\n",
    "\n",
    "lasso_scores = cross_val_score(lasso, X_train_ss, y_train, cv=5)\n",
    "lasso_scores.mean()"
   ]
  },
  {
   "cell_type": "markdown",
   "id": "7fe9ea85",
   "metadata": {},
   "source": [
    "The mean R^2 of Linear Regression model is extremely negative which might be an indication of overfitting where there are a large number of (Noise) variables that are affecting the coefficients.\n",
    "\n",
    "However as Ridge is able to manage multicollinearity, the mean R^2 improves drastically\n",
    "\n",
    "The Lasso here performs only slightly better than the Ridge because it is pretty similar to Ridge. However, lasso has feature selection which of valuable variables, which also eliminate those that are not useful."
   ]
  },
  {
   "cell_type": "code",
   "execution_count": 64,
   "id": "f14da6e9",
   "metadata": {},
   "outputs": [
    {
     "data": {
      "text/html": [
       "<div>\n",
       "<style scoped>\n",
       "    .dataframe tbody tr th:only-of-type {\n",
       "        vertical-align: middle;\n",
       "    }\n",
       "\n",
       "    .dataframe tbody tr th {\n",
       "        vertical-align: top;\n",
       "    }\n",
       "\n",
       "    .dataframe thead th {\n",
       "        text-align: right;\n",
       "    }\n",
       "</style>\n",
       "<table border=\"1\" class=\"dataframe\">\n",
       "  <thead>\n",
       "    <tr style=\"text-align: right;\">\n",
       "      <th></th>\n",
       "      <th>variable</th>\n",
       "      <th>coef</th>\n",
       "      <th>abs_coef</th>\n",
       "    </tr>\n",
       "  </thead>\n",
       "  <tbody>\n",
       "    <tr>\n",
       "      <th>33</th>\n",
       "      <td>log_saleprice</td>\n",
       "      <td>58021.632256</td>\n",
       "      <td>58021.632256</td>\n",
       "    </tr>\n",
       "    <tr>\n",
       "      <th>34</th>\n",
       "      <td>total_sf</td>\n",
       "      <td>6597.094828</td>\n",
       "      <td>6597.094828</td>\n",
       "    </tr>\n",
       "    <tr>\n",
       "      <th>220</th>\n",
       "      <td>neighborhood_NridgHt</td>\n",
       "      <td>5343.145255</td>\n",
       "      <td>5343.145255</td>\n",
       "    </tr>\n",
       "    <tr>\n",
       "      <th>5</th>\n",
       "      <td>mas_vnr_area</td>\n",
       "      <td>4592.231067</td>\n",
       "      <td>4592.231067</td>\n",
       "    </tr>\n",
       "    <tr>\n",
       "      <th>226</th>\n",
       "      <td>neighborhood_StoneBr</td>\n",
       "      <td>4088.929051</td>\n",
       "      <td>4088.929051</td>\n",
       "    </tr>\n",
       "    <tr>\n",
       "      <th>172</th>\n",
       "      <td>functional_Sal</td>\n",
       "      <td>3724.827645</td>\n",
       "      <td>3724.827645</td>\n",
       "    </tr>\n",
       "    <tr>\n",
       "      <th>38</th>\n",
       "      <td>ms_subclass_30</td>\n",
       "      <td>3054.079117</td>\n",
       "      <td>3054.079117</td>\n",
       "    </tr>\n",
       "    <tr>\n",
       "      <th>337</th>\n",
       "      <td>year_built_2008</td>\n",
       "      <td>3023.971040</td>\n",
       "      <td>3023.971040</td>\n",
       "    </tr>\n",
       "    <tr>\n",
       "      <th>6</th>\n",
       "      <td>bsmtfin_sf_1</td>\n",
       "      <td>2959.500473</td>\n",
       "      <td>2959.500473</td>\n",
       "    </tr>\n",
       "    <tr>\n",
       "      <th>219</th>\n",
       "      <td>neighborhood_NoRidge</td>\n",
       "      <td>2762.338808</td>\n",
       "      <td>2762.338808</td>\n",
       "    </tr>\n",
       "    <tr>\n",
       "      <th>13</th>\n",
       "      <td>gr_liv_area</td>\n",
       "      <td>2536.529452</td>\n",
       "      <td>2536.529452</td>\n",
       "    </tr>\n",
       "    <tr>\n",
       "      <th>199</th>\n",
       "      <td>sale_type_New</td>\n",
       "      <td>2519.078182</td>\n",
       "      <td>2519.078182</td>\n",
       "    </tr>\n",
       "    <tr>\n",
       "      <th>417</th>\n",
       "      <td>garage_yr_blt_1928.0</td>\n",
       "      <td>2445.350335</td>\n",
       "      <td>2445.350335</td>\n",
       "    </tr>\n",
       "    <tr>\n",
       "      <th>115</th>\n",
       "      <td>exterior_1st_CemntBd</td>\n",
       "      <td>2286.387979</td>\n",
       "      <td>2286.387979</td>\n",
       "    </tr>\n",
       "    <tr>\n",
       "      <th>150</th>\n",
       "      <td>bsmtfin_type_1_None</td>\n",
       "      <td>2150.830303</td>\n",
       "      <td>2150.830303</td>\n",
       "    </tr>\n",
       "    <tr>\n",
       "      <th>399</th>\n",
       "      <td>year_remod/add_2010</td>\n",
       "      <td>2037.622841</td>\n",
       "      <td>2037.622841</td>\n",
       "    </tr>\n",
       "    <tr>\n",
       "      <th>163</th>\n",
       "      <td>central_air_Y</td>\n",
       "      <td>-1918.882146</td>\n",
       "      <td>1918.882146</td>\n",
       "    </tr>\n",
       "    <tr>\n",
       "      <th>496</th>\n",
       "      <td>garage_yr_blt_2009.0</td>\n",
       "      <td>1894.273906</td>\n",
       "      <td>1894.273906</td>\n",
       "    </tr>\n",
       "    <tr>\n",
       "      <th>65</th>\n",
       "      <td>land_contour_HLS</td>\n",
       "      <td>1828.564135</td>\n",
       "      <td>1828.564135</td>\n",
       "    </tr>\n",
       "    <tr>\n",
       "      <th>18</th>\n",
       "      <td>bedroom_abvgr</td>\n",
       "      <td>-1770.943391</td>\n",
       "      <td>1770.943391</td>\n",
       "    </tr>\n",
       "  </tbody>\n",
       "</table>\n",
       "</div>"
      ],
      "text/plain": [
       "                 variable          coef      abs_coef\n",
       "33          log_saleprice  58021.632256  58021.632256\n",
       "34               total_sf   6597.094828   6597.094828\n",
       "220  neighborhood_NridgHt   5343.145255   5343.145255\n",
       "5            mas_vnr_area   4592.231067   4592.231067\n",
       "226  neighborhood_StoneBr   4088.929051   4088.929051\n",
       "172        functional_Sal   3724.827645   3724.827645\n",
       "38         ms_subclass_30   3054.079117   3054.079117\n",
       "337       year_built_2008   3023.971040   3023.971040\n",
       "6            bsmtfin_sf_1   2959.500473   2959.500473\n",
       "219  neighborhood_NoRidge   2762.338808   2762.338808\n",
       "13            gr_liv_area   2536.529452   2536.529452\n",
       "199         sale_type_New   2519.078182   2519.078182\n",
       "417  garage_yr_blt_1928.0   2445.350335   2445.350335\n",
       "115  exterior_1st_CemntBd   2286.387979   2286.387979\n",
       "150   bsmtfin_type_1_None   2150.830303   2150.830303\n",
       "399   year_remod/add_2010   2037.622841   2037.622841\n",
       "163         central_air_Y  -1918.882146   1918.882146\n",
       "496  garage_yr_blt_2009.0   1894.273906   1894.273906\n",
       "65       land_contour_HLS   1828.564135   1828.564135\n",
       "18          bedroom_abvgr  -1770.943391   1770.943391"
      ]
     },
     "execution_count": 64,
     "metadata": {},
     "output_type": "execute_result"
    }
   ],
   "source": [
    "# Refit outside cross_val_score\n",
    "lasso.fit(X_train_ss, y_train)\n",
    "\n",
    "# coefficients for variables in the Lasso\n",
    "lasso_coefs = pd.DataFrame({'variable':X.columns,\n",
    "                            'coef':lasso.coef_,\n",
    "                            'abs_coef':np.abs(lasso.coef_)})\n",
    "\n",
    "lasso_coefs.sort_values('abs_coef', inplace=True, ascending=False)\n",
    "\n",
    "lasso_coefs.head(20)"
   ]
  },
  {
   "cell_type": "code",
   "execution_count": 65,
   "id": "2e9c1748",
   "metadata": {},
   "outputs": [
    {
     "name": "stdout",
     "output_type": "stream",
     "text": [
      "Percent variables zeroed out: 0.20509055310817426\n"
     ]
    }
   ],
   "source": [
    "print ('Percent variables zeroed out:', np.sum((lasso.coef_ == 0))/float(X.shape[0]))"
   ]
  },
  {
   "cell_type": "code",
   "execution_count": 66,
   "id": "060bebac",
   "metadata": {},
   "outputs": [],
   "source": [
    "lasso_coefs.to_csv('D:/GA/DSI3lab/dsi3test/project_2/datasets/lasso_coef.csv')"
   ]
  },
  {
   "cell_type": "markdown",
   "id": "923d38cc",
   "metadata": {},
   "source": [
    "**Inferential Visualizations**"
   ]
  },
  {
   "cell_type": "markdown",
   "id": "d56f091d",
   "metadata": {},
   "source": [
    "**1. Model Fitting and Evaluate**"
   ]
  },
  {
   "cell_type": "code",
   "execution_count": 67,
   "id": "3ec901bd",
   "metadata": {},
   "outputs": [
    {
     "data": {
      "text/plain": [
       "0.961651237270741"
      ]
     },
     "execution_count": 67,
     "metadata": {},
     "output_type": "execute_result"
    }
   ],
   "source": [
    "lasso.fit(X_train_ss, y_train)\n",
    "lasso.score(X_train_ss, y_train)"
   ]
  },
  {
   "cell_type": "code",
   "execution_count": 68,
   "id": "4160b560",
   "metadata": {},
   "outputs": [
    {
     "data": {
      "text/plain": [
       "0.9482342097229239"
      ]
     },
     "execution_count": 68,
     "metadata": {},
     "output_type": "execute_result"
    }
   ],
   "source": [
    "lasso.score(X_test_ss, y_test)"
   ]
  },
  {
   "cell_type": "code",
   "execution_count": 69,
   "id": "405e5b14",
   "metadata": {},
   "outputs": [
    {
     "data": {
      "text/plain": [
       "0.9482342097229239"
      ]
     },
     "execution_count": 69,
     "metadata": {},
     "output_type": "execute_result"
    }
   ],
   "source": [
    "#Predict target values\n",
    "pred = lasso.predict(X_test_ss)\n",
    "r2_score(y_test, pred)"
   ]
  },
  {
   "cell_type": "code",
   "execution_count": 70,
   "id": "1a18e378",
   "metadata": {},
   "outputs": [
    {
     "data": {
      "image/png": "[encoded data removed]",
      "text/plain": [
       "<Figure size 1080x432 with 1 Axes>"
      ]
     },
     "metadata": {
      "needs_background": "light"
     },
     "output_type": "display_data"
    }
   ],
   "source": [
    "#Plot of the Errors\n",
    "residuals = y_test - pred\n",
    "\n",
    "plt.figure(figsize=(15,6))\n",
    "plt.scatter(pred, residuals);"
   ]
  },
  {
   "cell_type": "markdown",
   "id": "5147cb96",
   "metadata": {},
   "source": [
    "**2. Ridge and Lasso Comparison**"
   ]
  },
  {
   "cell_type": "code",
   "execution_count": 71,
   "id": "fb908d83",
   "metadata": {},
   "outputs": [
    {
     "data": {
      "text/plain": [
       "0.973404960135063"
      ]
     },
     "execution_count": 71,
     "metadata": {},
     "output_type": "execute_result"
    }
   ],
   "source": [
    "ridge.fit(X_train_ss, y_train)\n",
    "ridge.score(X_train_ss, y_train)"
   ]
  },
  {
   "cell_type": "code",
   "execution_count": 72,
   "id": "9fa8591c",
   "metadata": {},
   "outputs": [
    {
     "data": {
      "text/plain": [
       "0.9207287228690891"
      ]
     },
     "execution_count": 72,
     "metadata": {},
     "output_type": "execute_result"
    }
   ],
   "source": [
    "ridge.score(X_test_ss, y_test)"
   ]
  },
  {
   "cell_type": "code",
   "execution_count": 73,
   "id": "6353e031",
   "metadata": {},
   "outputs": [
    {
     "data": {
      "text/plain": [
       "0.9207287228690891"
      ]
     },
     "execution_count": 73,
     "metadata": {},
     "output_type": "execute_result"
    }
   ],
   "source": [
    "pred_r = ridge.predict(X_test_ss)\n",
    "r2_score(y_test, pred_r)"
   ]
  },
  {
   "cell_type": "markdown",
   "id": "2c9ecea8",
   "metadata": {},
   "source": [
    "**MSE and RMSE**"
   ]
  },
  {
   "cell_type": "code",
   "execution_count": 86,
   "id": "1352c2b4",
   "metadata": {},
   "outputs": [
    {
     "data": {
      "text/plain": [
       "526216971.84853715"
      ]
     },
     "execution_count": 86,
     "metadata": {},
     "output_type": "execute_result"
    }
   ],
   "source": [
    "mse = sklearn.metrics.mean_squared_error(y_test, pred_r)\n",
    "mse"
   ]
  },
  {
   "cell_type": "code",
   "execution_count": 83,
   "id": "e4a7cc1c",
   "metadata": {},
   "outputs": [],
   "source": [
    "import math "
   ]
  },
  {
   "cell_type": "code",
   "execution_count": 87,
   "id": "0fc9aea6",
   "metadata": {},
   "outputs": [
    {
     "data": {
      "text/plain": [
       "22939.41960574716"
      ]
     },
     "execution_count": 87,
     "metadata": {},
     "output_type": "execute_result"
    }
   ],
   "source": [
    "rmse = math.sqrt(mse)\n",
    "rmse"
   ]
  },
  {
   "cell_type": "markdown",
   "id": "35a89d95",
   "metadata": {},
   "source": [
    "**3.Import data(test) from EDA_test**"
   ]
  },
  {
   "cell_type": "code",
   "execution_count": null,
   "id": "d4d0b031",
   "metadata": {},
   "outputs": [],
   "source": [
    "df_test = pd.read_csv(\"./datasets/test_final.csv\")\n",
    "df_test.shape"
   ]
  },
  {
   "cell_type": "code",
   "execution_count": null,
   "id": "5b4521a6",
   "metadata": {},
   "outputs": [],
   "source": [
    "# #compare against train df\n",
    "df_train.shape"
   ]
  },
  {
   "cell_type": "markdown",
   "id": "04227ba2",
   "metadata": {},
   "source": [
    "Further exploration is required. Feature number dont tally "
   ]
  },
  {
   "cell_type": "markdown",
   "id": "a62dd696",
   "metadata": {},
   "source": [
    "**4. Missing columns**"
   ]
  },
  {
   "cell_type": "code",
   "execution_count": null,
   "id": "e4664062",
   "metadata": {},
   "outputs": [],
   "source": [
    "# As only certain columns are used to run the models, \n",
    "# we will be looking at the features instead\n",
    "features = [col for col in df_train._get_numeric_data().columns if col != 'saleprice']\n",
    "\n",
    "missing_features = [col for col in features if ~np.isin(col,df_test.columns)]\n",
    "missing_features"
   ]
  },
  {
   "cell_type": "code",
   "execution_count": null,
   "id": "e6882f31",
   "metadata": {},
   "outputs": [],
   "source": [
    "df_test = pd.concat([df_test, pd.DataFrame(columns = missing_features)]).fillna(0)\n",
    "df_test[features].shape"
   ]
  },
  {
   "cell_type": "code",
   "execution_count": null,
   "id": "52176873",
   "metadata": {},
   "outputs": [],
   "source": [
    "#Check for null values\n",
    "(df_test.isnull().sum())[df_test.isnull().sum() > 0].sort_values(ascending=False)"
   ]
  },
  {
   "cell_type": "code",
   "execution_count": null,
   "id": "edf56a55",
   "metadata": {},
   "outputs": [],
   "source": [
    "# Check for any duplicates\n",
    "df_test.duplicated().sum()"
   ]
  },
  {
   "cell_type": "code",
   "execution_count": null,
   "id": "a020ebe4",
   "metadata": {},
   "outputs": [],
   "source": [
    "#features = [col for col in df_test._get_numeric_data().columns if col != 'saleprice']\n",
    "prediction = df_test[features]\n",
    "X_testdf_ss = ss.transform(df_test[features])\n",
    "df_test['saleprice'] = lasso.predict(X_testdf_ss)\n",
    "df_test['id'] = df_test['id'].astype(int)\n",
    "kaggle_submission = df_test[['id','saleprice']].set_index('id')"
   ]
  },
  {
   "cell_type": "code",
   "execution_count": null,
   "id": "fde05357",
   "metadata": {},
   "outputs": [],
   "source": [
    "kaggle_submission.to_csv('./datasets/kaggle_submission.csv')"
   ]
  },
  {
   "cell_type": "code",
   "execution_count": null,
   "id": "7f021a31",
   "metadata": {},
   "outputs": [],
   "source": []
  }
 ],
 "metadata": {
  "kernelspec": {
   "display_name": "Python 3",
   "language": "python",
   "name": "python3"
  },
  "language_info": {
   "codemirror_mode": {
    "name": "ipython",
    "version": 3
   },
   "file_extension": ".py",
   "mimetype": "text/x-python",
   "name": "python",
   "nbconvert_exporter": "python",
   "pygments_lexer": "ipython3",
   "version": "3.8.8"
  }
 },
 "nbformat": 4,
 "nbformat_minor": 5
}
