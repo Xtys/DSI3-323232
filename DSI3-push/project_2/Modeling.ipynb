{
 "cells": [
  {
   "cell_type": "markdown",
   "id": "6cdd569e",
   "metadata": {},
   "source": [
    "# Project 2: Ames Housing Data"
   ]
  },
  {
   "cell_type": "markdown",
   "id": "341f9453",
   "metadata": {},
   "source": [
    "**Part 3 Modelling**"
   ]
  },
  {
   "cell_type": "markdown",
   "id": "b5ba203e",
   "metadata": {},
   "source": [
    "**1. Import Libraries**"
   ]
  },
  {
   "cell_type": "code",
   "execution_count": 1,
   "id": "fef086f0",
   "metadata": {},
   "outputs": [],
   "source": [
    "import numpy as np\n",
    "import pandas as pd\n",
    "import matplotlib.pyplot as plt\n",
    "import seaborn as sns\n",
    "\n",
    "from sklearn.linear_model import Ridge, Lasso, ElasticNet, LinearRegression, RidgeCV, LassoCV, ElasticNetCV\n",
    "from sklearn.model_selection import cross_val_score, train_test_split\n",
    "from sklearn.preprocessing import StandardScaler, PolynomialFeatures\n",
    "import sklearn.preprocessing\n",
    "import sklearn.model_selection\n",
    "import sklearn.linear_model\n",
    "import sklearn.metrics\n",
    "from sklearn.metrics import r2_score\n",
    "\n",
    "%matplotlib inline"
   ]
  },
  {
   "cell_type": "code",
   "execution_count": 2,
   "id": "dc626118",
   "metadata": {},
   "outputs": [
    {
     "data": {
      "text/plain": [
       "Series([], dtype: int64)"
      ]
     },
     "execution_count": 2,
     "metadata": {},
     "output_type": "execute_result"
    }
   ],
   "source": [
    "# importing engineered Data\n",
    "df_train = pd.read_csv('D:/GA/DSI3lab/dsi3test/project_2/datasets/train_dummies.csv')\n",
    "\n",
    "#Set id as index \n",
    "df_train.set_index('id', inplace=True)\n",
    "\n",
    "# Check for nulls\n",
    "(df_train.isnull().sum())[df_train.isnull().sum() > 0].sort_values(ascending=False)"
   ]
  },
  {
   "cell_type": "code",
   "execution_count": 3,
   "id": "a31146b8",
   "metadata": {},
   "outputs": [
    {
     "data": {
      "text/plain": [
       "(2043, 512)"
      ]
     },
     "execution_count": 3,
     "metadata": {},
     "output_type": "execute_result"
    }
   ],
   "source": [
    "df_train.shape"
   ]
  },
  {
   "cell_type": "markdown",
   "id": "8d4712d8",
   "metadata": {},
   "source": [
    "**2. Features and targeting vector**"
   ]
  },
  {
   "cell_type": "code",
   "execution_count": 4,
   "id": "f48cb327",
   "metadata": {},
   "outputs": [],
   "source": [
    "features = [col for col in df_train._get_numeric_data().columns if col != 'saleprice']\n",
    "X = df_train[features]\n",
    "y = df_train['saleprice']"
   ]
  },
  {
   "cell_type": "code",
   "execution_count": 5,
   "id": "df91b15f",
   "metadata": {},
   "outputs": [],
   "source": [
    "X_train, X_test, y_train, y_test = train_test_split(X, y)"
   ]
  },
  {
   "cell_type": "code",
   "execution_count": 6,
   "id": "5944b8f8",
   "metadata": {},
   "outputs": [],
   "source": [
    "#scaling \n",
    "ss =StandardScaler()\n",
    "ss.fit(X_train)\n",
    "X_train_ss = ss.transform(X_train)\n",
    "X_test_ss = ss.transform(X_test)"
   ]
  },
  {
   "cell_type": "code",
   "execution_count": 7,
   "id": "81a91227",
   "metadata": {},
   "outputs": [],
   "source": [
    "#Instantiate Models\n",
    "lr = LinearRegression()\n",
    "lasso = LassoCV(n_alphas = 200)\n",
    "ridge = RidgeCV(alphas = np.linspace(.1, 10, 100))"
   ]
  },
  {
   "cell_type": "markdown",
   "id": "09067d59",
   "metadata": {},
   "source": [
    "**3.Cross-val all model**"
   ]
  },
  {
   "cell_type": "code",
   "execution_count": 8,
   "id": "da297031",
   "metadata": {},
   "outputs": [
    {
     "data": {
      "text/plain": [
       "-2.425306489215784e+24"
      ]
     },
     "execution_count": 8,
     "metadata": {},
     "output_type": "execute_result"
    }
   ],
   "source": [
    "# Linear Regression\n",
    "lr_scores = cross_val_score(lr, X_train_ss, y_train, cv=5)\n",
    "lr_scores.mean()"
   ]
  },
  {
   "cell_type": "code",
   "execution_count": 9,
   "id": "c61fb171",
   "metadata": {},
   "outputs": [
    {
     "name": "stdout",
     "output_type": "stream",
     "text": [
      "36.12342699709432\n"
     ]
    }
   ],
   "source": [
    "# Ridge\n",
    "# Find optimal value for ridge regression alpha\n",
    "ridge_alphas = np.logspace(0, 5, 200)\n",
    "\n",
    "optimal_ridge = RidgeCV(alphas=ridge_alphas, cv=10)\n",
    "optimal_ridge.fit(X_train_ss, y_train)\n",
    "\n",
    "print (optimal_ridge.alpha_)"
   ]
  },
  {
   "cell_type": "code",
   "execution_count": 10,
   "id": "f184a21a",
   "metadata": {},
   "outputs": [
    {
     "data": {
      "text/plain": [
       "0.9366250145737804"
      ]
     },
     "execution_count": 10,
     "metadata": {},
     "output_type": "execute_result"
    }
   ],
   "source": [
    "# Cross-validate the Ridge regression with the optimal alpha.\n",
    "ridge = Ridge(alpha=optimal_ridge.alpha_)\n",
    "\n",
    "ridge_scores = cross_val_score(ridge, X_train_ss, y_train, cv=5)\n",
    "ridge_scores.mean()"
   ]
  },
  {
   "cell_type": "code",
   "execution_count": 11,
   "id": "00ad045d",
   "metadata": {},
   "outputs": [
    {
     "name": "stderr",
     "output_type": "stream",
     "text": [
      "[Parallel(n_jobs=1)]: Using backend SequentialBackend with 1 concurrent workers.\n",
      ".............................................................................................................................................................................................................................................................................................................................................................................................................................................................................................................................................................................................................................................................................................................................................................................................................................................................................................................................................................................................................................................................................................................................................................................................................................................................................................................................................................................................................................................................................................................................................................................................................................................................................................................................................................................................................................................................................................................................................................................................................................................................................................................................................................................................................................................................................................................................................................................................................................................................................................................................................................................................................................................................................................................................................................................................................................................................................................................................................................................................................................................................................................................................................................................................................................................................................................................................................................................................................................................................................................................................................................................................................................................................................................................................................................................................................................................................................................................................................................................................................................................................................................................................................................................................................................................................................................................................................................................................................................................................................................................................................................................................................................................................................................................................................................................................................................................................................................................................................................................................................................................................................................................................................................................................."
     ]
    },
    {
     "name": "stdout",
     "output_type": "stream",
     "text": [
      "391.11987398410054\n"
     ]
    },
    {
     "name": "stderr",
     "output_type": "stream",
     "text": [
      "..........[Parallel(n_jobs=1)]: Done  10 out of  10 | elapsed:    2.4s finished\n"
     ]
    }
   ],
   "source": [
    "# Lasso\n",
    "# Find optimal value for lasso regression alpha\n",
    "optimal_lasso = LassoCV(n_alphas=500, cv=10, verbose=1)\n",
    "optimal_lasso.fit(X_train_ss, y_train)\n",
    "\n",
    "print (optimal_lasso.alpha_)"
   ]
  },
  {
   "cell_type": "code",
   "execution_count": 12,
   "id": "8c06fbae",
   "metadata": {},
   "outputs": [
    {
     "data": {
      "text/plain": [
       "0.9499303053806454"
      ]
     },
     "execution_count": 12,
     "metadata": {},
     "output_type": "execute_result"
    }
   ],
   "source": [
    "# Lasso\n",
    "lasso = Lasso(alpha=optimal_lasso.alpha_)\n",
    "\n",
    "lasso_scores = cross_val_score(lasso, X_train_ss, y_train, cv=5)\n",
    "lasso_scores.mean()"
   ]
  },
  {
   "cell_type": "markdown",
   "id": "7fe9ea85",
   "metadata": {},
   "source": [
    "The mean R^2 of Linear Regression model is extremely negative which might be an indication of overfitting where there are a large number of redundant variables that are affecting the coefficients in a certain ways.\n",
    "\n",
    "However as Ridge is able to manage multicollinearity, the mean R^2 improves drastically\n",
    "\n",
    "The Lasso here performs only slightly better than the Ridge but that is because it is pretty similar to Ridge. But on top of that it does feature selection which of valuable variables, which also eliminate those that are not useful."
   ]
  },
  {
   "cell_type": "code",
   "execution_count": 13,
   "id": "f14da6e9",
   "metadata": {},
   "outputs": [
    {
     "data": {
      "text/html": [
       "<div>\n",
       "<style scoped>\n",
       "    .dataframe tbody tr th:only-of-type {\n",
       "        vertical-align: middle;\n",
       "    }\n",
       "\n",
       "    .dataframe tbody tr th {\n",
       "        vertical-align: top;\n",
       "    }\n",
       "\n",
       "    .dataframe thead th {\n",
       "        text-align: right;\n",
       "    }\n",
       "</style>\n",
       "<table border=\"1\" class=\"dataframe\">\n",
       "  <thead>\n",
       "    <tr style=\"text-align: right;\">\n",
       "      <th></th>\n",
       "      <th>variable</th>\n",
       "      <th>coef</th>\n",
       "      <th>abs_coef</th>\n",
       "    </tr>\n",
       "  </thead>\n",
       "  <tbody>\n",
       "    <tr>\n",
       "      <th>33</th>\n",
       "      <td>log_saleprice</td>\n",
       "      <td>56671.786988</td>\n",
       "      <td>56671.786988</td>\n",
       "    </tr>\n",
       "    <tr>\n",
       "      <th>34</th>\n",
       "      <td>total_sf</td>\n",
       "      <td>9388.619304</td>\n",
       "      <td>9388.619304</td>\n",
       "    </tr>\n",
       "    <tr>\n",
       "      <th>220</th>\n",
       "      <td>neighborhood_NridgHt</td>\n",
       "      <td>6275.273472</td>\n",
       "      <td>6275.273472</td>\n",
       "    </tr>\n",
       "    <tr>\n",
       "      <th>6</th>\n",
       "      <td>bsmtfin_sf_1</td>\n",
       "      <td>4102.431269</td>\n",
       "      <td>4102.431269</td>\n",
       "    </tr>\n",
       "    <tr>\n",
       "      <th>226</th>\n",
       "      <td>neighborhood_StoneBr</td>\n",
       "      <td>3990.719753</td>\n",
       "      <td>3990.719753</td>\n",
       "    </tr>\n",
       "    <tr>\n",
       "      <th>5</th>\n",
       "      <td>mas_vnr_area</td>\n",
       "      <td>3315.553695</td>\n",
       "      <td>3315.553695</td>\n",
       "    </tr>\n",
       "    <tr>\n",
       "      <th>48</th>\n",
       "      <td>ms_subclass_120</td>\n",
       "      <td>-3275.064833</td>\n",
       "      <td>3275.064833</td>\n",
       "    </tr>\n",
       "    <tr>\n",
       "      <th>337</th>\n",
       "      <td>year_built_2008</td>\n",
       "      <td>2975.613400</td>\n",
       "      <td>2975.613400</td>\n",
       "    </tr>\n",
       "    <tr>\n",
       "      <th>38</th>\n",
       "      <td>ms_subclass_30</td>\n",
       "      <td>2884.453511</td>\n",
       "      <td>2884.453511</td>\n",
       "    </tr>\n",
       "    <tr>\n",
       "      <th>18</th>\n",
       "      <td>bedroom_abvgr</td>\n",
       "      <td>-2754.208506</td>\n",
       "      <td>2754.208506</td>\n",
       "    </tr>\n",
       "    <tr>\n",
       "      <th>219</th>\n",
       "      <td>neighborhood_NoRidge</td>\n",
       "      <td>2742.257072</td>\n",
       "      <td>2742.257072</td>\n",
       "    </tr>\n",
       "    <tr>\n",
       "      <th>417</th>\n",
       "      <td>garage_yr_blt_1928.0</td>\n",
       "      <td>2486.484419</td>\n",
       "      <td>2486.484419</td>\n",
       "    </tr>\n",
       "    <tr>\n",
       "      <th>163</th>\n",
       "      <td>central_air_Y</td>\n",
       "      <td>-2478.289556</td>\n",
       "      <td>2478.289556</td>\n",
       "    </tr>\n",
       "    <tr>\n",
       "      <th>115</th>\n",
       "      <td>exterior_1st_CemntBd</td>\n",
       "      <td>2434.551388</td>\n",
       "      <td>2434.551388</td>\n",
       "    </tr>\n",
       "    <tr>\n",
       "      <th>150</th>\n",
       "      <td>bsmtfin_type_1_None</td>\n",
       "      <td>2347.048516</td>\n",
       "      <td>2347.048516</td>\n",
       "    </tr>\n",
       "    <tr>\n",
       "      <th>65</th>\n",
       "      <td>land_contour_HLS</td>\n",
       "      <td>2218.452000</td>\n",
       "      <td>2218.452000</td>\n",
       "    </tr>\n",
       "    <tr>\n",
       "      <th>182</th>\n",
       "      <td>garage_finish_RFn</td>\n",
       "      <td>-2215.695482</td>\n",
       "      <td>2215.695482</td>\n",
       "    </tr>\n",
       "    <tr>\n",
       "      <th>3</th>\n",
       "      <td>overall_qual</td>\n",
       "      <td>2055.121754</td>\n",
       "      <td>2055.121754</td>\n",
       "    </tr>\n",
       "    <tr>\n",
       "      <th>199</th>\n",
       "      <td>sale_type_New</td>\n",
       "      <td>1856.474082</td>\n",
       "      <td>1856.474082</td>\n",
       "    </tr>\n",
       "    <tr>\n",
       "      <th>255</th>\n",
       "      <td>year_built_1923</td>\n",
       "      <td>1771.280633</td>\n",
       "      <td>1771.280633</td>\n",
       "    </tr>\n",
       "  </tbody>\n",
       "</table>\n",
       "</div>"
      ],
      "text/plain": [
       "                 variable          coef      abs_coef\n",
       "33          log_saleprice  56671.786988  56671.786988\n",
       "34               total_sf   9388.619304   9388.619304\n",
       "220  neighborhood_NridgHt   6275.273472   6275.273472\n",
       "6            bsmtfin_sf_1   4102.431269   4102.431269\n",
       "226  neighborhood_StoneBr   3990.719753   3990.719753\n",
       "5            mas_vnr_area   3315.553695   3315.553695\n",
       "48        ms_subclass_120  -3275.064833   3275.064833\n",
       "337       year_built_2008   2975.613400   2975.613400\n",
       "38         ms_subclass_30   2884.453511   2884.453511\n",
       "18          bedroom_abvgr  -2754.208506   2754.208506\n",
       "219  neighborhood_NoRidge   2742.257072   2742.257072\n",
       "417  garage_yr_blt_1928.0   2486.484419   2486.484419\n",
       "163         central_air_Y  -2478.289556   2478.289556\n",
       "115  exterior_1st_CemntBd   2434.551388   2434.551388\n",
       "150   bsmtfin_type_1_None   2347.048516   2347.048516\n",
       "65       land_contour_HLS   2218.452000   2218.452000\n",
       "182     garage_finish_RFn  -2215.695482   2215.695482\n",
       "3            overall_qual   2055.121754   2055.121754\n",
       "199         sale_type_New   1856.474082   1856.474082\n",
       "255       year_built_1923   1771.280633   1771.280633"
      ]
     },
     "execution_count": 13,
     "metadata": {},
     "output_type": "execute_result"
    }
   ],
   "source": [
    "# Refit outside cross_val_score\n",
    "lasso.fit(X_train_ss, y_train)\n",
    "\n",
    "# coefficients for variables in the Lasso\n",
    "lasso_coefs = pd.DataFrame({'variable':X.columns,\n",
    "                            'coef':lasso.coef_,\n",
    "                            'abs_coef':np.abs(lasso.coef_)})\n",
    "\n",
    "lasso_coefs.sort_values('abs_coef', inplace=True, ascending=False)\n",
    "\n",
    "lasso_coefs.head(20)"
   ]
  },
  {
   "cell_type": "code",
   "execution_count": 14,
   "id": "2e9c1748",
   "metadata": {},
   "outputs": [
    {
     "name": "stdout",
     "output_type": "stream",
     "text": [
      "Percent variables zeroed out: 0.17180616740088106\n"
     ]
    }
   ],
   "source": [
    "print ('Percent variables zeroed out:', np.sum((lasso.coef_ == 0))/float(X.shape[0]))"
   ]
  },
  {
   "cell_type": "code",
   "execution_count": 15,
   "id": "060bebac",
   "metadata": {},
   "outputs": [],
   "source": [
    "lasso_coefs.to_csv('D:/GA/DSI3lab/dsi3test/project_2/datasets/lasso_coefs.csv')"
   ]
  },
  {
   "cell_type": "markdown",
   "id": "923d38cc",
   "metadata": {},
   "source": [
    "**Inferential Visualizations**"
   ]
  },
  {
   "cell_type": "markdown",
   "id": "d56f091d",
   "metadata": {},
   "source": [
    "**1. Model Fitting and Evaluate**"
   ]
  },
  {
   "cell_type": "code",
   "execution_count": 16,
   "id": "3ec901bd",
   "metadata": {},
   "outputs": [
    {
     "data": {
      "text/plain": [
       "0.9657520880463718"
      ]
     },
     "execution_count": 16,
     "metadata": {},
     "output_type": "execute_result"
    }
   ],
   "source": [
    "lasso.fit(X_train_ss, y_train)\n",
    "lasso.score(X_train_ss, y_train)"
   ]
  },
  {
   "cell_type": "code",
   "execution_count": 17,
   "id": "4160b560",
   "metadata": {},
   "outputs": [
    {
     "data": {
      "text/plain": [
       "0.9482736241646486"
      ]
     },
     "execution_count": 17,
     "metadata": {},
     "output_type": "execute_result"
    }
   ],
   "source": [
    "lasso.score(X_test_ss, y_test)"
   ]
  },
  {
   "cell_type": "code",
   "execution_count": 18,
   "id": "405e5b14",
   "metadata": {},
   "outputs": [
    {
     "data": {
      "text/plain": [
       "0.9482736241646486"
      ]
     },
     "execution_count": 18,
     "metadata": {},
     "output_type": "execute_result"
    }
   ],
   "source": [
    "#Predict target values\n",
    "pred = lasso.predict(X_test_ss)\n",
    "r2_score(y_test, pred)"
   ]
  },
  {
   "cell_type": "code",
   "execution_count": 19,
   "id": "1a18e378",
   "metadata": {},
   "outputs": [
    {
     "data": {
      "image/png": "[encoded data removed]",
      "text/plain": [
       "<Figure size 1080x432 with 1 Axes>"
      ]
     },
     "metadata": {
      "needs_background": "light"
     },
     "output_type": "display_data"
    }
   ],
   "source": [
    "#Plot of the Errors\n",
    "residuals = y_test - pred\n",
    "\n",
    "plt.figure(figsize=(15,6))\n",
    "plt.scatter(pred, residuals);"
   ]
  },
  {
   "cell_type": "markdown",
   "id": "5147cb96",
   "metadata": {},
   "source": [
    "**2. Ridge and Lasso Comparison**"
   ]
  },
  {
   "cell_type": "code",
   "execution_count": 20,
   "id": "fb908d83",
   "metadata": {},
   "outputs": [
    {
     "data": {
      "text/plain": [
       "0.9720784972483679"
      ]
     },
     "execution_count": 20,
     "metadata": {},
     "output_type": "execute_result"
    }
   ],
   "source": [
    "ridge.fit(X_train_ss, y_train)\n",
    "ridge.score(X_train_ss, y_train)"
   ]
  },
  {
   "cell_type": "code",
   "execution_count": 21,
   "id": "9fa8591c",
   "metadata": {},
   "outputs": [
    {
     "data": {
      "text/plain": [
       "0.9422198633506109"
      ]
     },
     "execution_count": 21,
     "metadata": {},
     "output_type": "execute_result"
    }
   ],
   "source": [
    "ridge.score(X_test_ss, y_test)"
   ]
  },
  {
   "cell_type": "code",
   "execution_count": 22,
   "id": "6353e031",
   "metadata": {},
   "outputs": [
    {
     "data": {
      "text/plain": [
       "0.9422198633506109"
      ]
     },
     "execution_count": 22,
     "metadata": {},
     "output_type": "execute_result"
    }
   ],
   "source": [
    "pred_r = ridge.predict(X_test_ss)\n",
    "r2_score(y_test, pred_r)"
   ]
  },
  {
   "cell_type": "markdown",
   "id": "35a89d95",
   "metadata": {},
   "source": [
    "**3.Import data(test) from EDA_test**"
   ]
  },
  {
   "cell_type": "code",
   "execution_count": 23,
   "id": "d4d0b031",
   "metadata": {},
   "outputs": [
    {
     "data": {
      "text/plain": [
       "(878, 485)"
      ]
     },
     "execution_count": 23,
     "metadata": {},
     "output_type": "execute_result"
    }
   ],
   "source": [
    "df_test = pd.read_csv(\"./datasets/test_final.csv\")\n",
    "df_test.shape"
   ]
  },
  {
   "cell_type": "code",
   "execution_count": 24,
   "id": "5b4521a6",
   "metadata": {},
   "outputs": [
    {
     "data": {
      "text/plain": [
       "(2043, 512)"
      ]
     },
     "execution_count": 24,
     "metadata": {},
     "output_type": "execute_result"
    }
   ],
   "source": [
    "# #compare against train df\n",
    "df_train.shape"
   ]
  },
  {
   "cell_type": "markdown",
   "id": "04227ba2",
   "metadata": {},
   "source": [
    "Further exploration is required. Feature number dont tally "
   ]
  },
  {
   "cell_type": "markdown",
   "id": "a62dd696",
   "metadata": {},
   "source": [
    "**4. Missing columns**"
   ]
  },
  {
   "cell_type": "code",
   "execution_count": 25,
   "id": "e4664062",
   "metadata": {},
   "outputs": [
    {
     "data": {
      "text/plain": [
       "['pid',\n",
       " 'log_saleprice',\n",
       " 'ms_subclass_150',\n",
       " 'ms_zoning_C (all)',\n",
       " 'street_Pave',\n",
       " 'utilities_NoSeWa',\n",
       " 'condition_2_Feedr',\n",
       " 'condition_2_PosN',\n",
       " 'condition_2_RRAe',\n",
       " 'condition_2_RRAn',\n",
       " 'condition_2_RRNn',\n",
       " 'roof_matl_Membran',\n",
       " 'exterior_1st_CBlock',\n",
       " 'exterior_1st_ImStucc',\n",
       " 'exterior_1st_Stone',\n",
       " 'exterior_2nd_Stone',\n",
       " 'heating_OthW',\n",
       " 'heating_Wall',\n",
       " 'central_air_Y',\n",
       " 'electrical_Mix',\n",
       " 'functional_Sal',\n",
       " 'functional_Sev',\n",
       " 'misc_feature_TenC',\n",
       " 'neighborhood_GrnHill',\n",
       " 'neighborhood_Landmrk',\n",
       " 'year_built_1875',\n",
       " 'year_built_1879',\n",
       " 'year_built_1880',\n",
       " 'year_built_1893',\n",
       " 'year_built_1895',\n",
       " 'year_built_1896',\n",
       " 'year_built_1898',\n",
       " 'year_built_1901',\n",
       " 'year_built_1911',\n",
       " 'year_built_1913',\n",
       " 'year_built_1929',\n",
       " 'year_built_1942',\n",
       " 'garage_yr_blt_1896.0',\n",
       " 'garage_yr_blt_1900.0',\n",
       " 'garage_yr_blt_1914.0',\n",
       " 'garage_yr_blt_1919.0',\n",
       " 'garage_yr_blt_1929.0',\n",
       " 'garage_yr_blt_1933.0',\n",
       " 'garage_yr_blt_1936.0',\n",
       " 'garage_yr_blt_1942.0',\n",
       " 'garage_yr_blt_1945.0',\n",
       " 'garage_yr_blt_2207.0']"
      ]
     },
     "execution_count": 25,
     "metadata": {},
     "output_type": "execute_result"
    }
   ],
   "source": [
    "# As only certain columns are used to run the models, \n",
    "# we will be looking at the features instead\n",
    "features = [col for col in df_train._get_numeric_data().columns if col != 'saleprice']\n",
    "\n",
    "missing_features = [col for col in features if ~np.isin(col,df_test.columns)]\n",
    "missing_features"
   ]
  },
  {
   "cell_type": "code",
   "execution_count": 26,
   "id": "e6882f31",
   "metadata": {},
   "outputs": [
    {
     "data": {
      "text/plain": [
       "(878, 500)"
      ]
     },
     "execution_count": 26,
     "metadata": {},
     "output_type": "execute_result"
    }
   ],
   "source": [
    "df_test = pd.concat([df_test, pd.DataFrame(columns = missing_features)]).fillna(0)\n",
    "df_test[features].shape"
   ]
  },
  {
   "cell_type": "code",
   "execution_count": 27,
   "id": "52176873",
   "metadata": {},
   "outputs": [
    {
     "data": {
      "text/plain": [
       "Series([], dtype: int64)"
      ]
     },
     "execution_count": 27,
     "metadata": {},
     "output_type": "execute_result"
    }
   ],
   "source": [
    "#Check for null values\n",
    "(df_test.isnull().sum())[df_test.isnull().sum() > 0].sort_values(ascending=False)"
   ]
  },
  {
   "cell_type": "code",
   "execution_count": 28,
   "id": "edf56a55",
   "metadata": {},
   "outputs": [
    {
     "data": {
      "text/plain": [
       "0"
      ]
     },
     "execution_count": 28,
     "metadata": {},
     "output_type": "execute_result"
    }
   ],
   "source": [
    "# Check for any duplicates\n",
    "df_test.duplicated().sum()"
   ]
  },
  {
   "cell_type": "code",
   "execution_count": 29,
   "id": "a020ebe4",
   "metadata": {},
   "outputs": [],
   "source": [
    "#features = [col for col in df_test._get_numeric_data().columns if col != 'saleprice']\n",
    "prediction = df_test[features]\n",
    "X_testdf_ss = ss.transform(df_test[features])\n",
    "df_test['saleprice'] = lasso.predict(X_testdf_ss)\n",
    "df_test['id'] = df_test['id'].astype(int)\n",
    "kaggle_submission = df_test[['id','saleprice']].set_index('id')"
   ]
  },
  {
   "cell_type": "code",
   "execution_count": 30,
   "id": "fde05357",
   "metadata": {},
   "outputs": [],
   "source": [
    "kaggle_submission.to_csv('./datasets/kaggle_submission.csv')"
   ]
  },
  {
   "cell_type": "code",
   "execution_count": null,
   "id": "7f021a31",
   "metadata": {},
   "outputs": [],
   "source": []
  }
 ],
 "metadata": {
  "kernelspec": {
   "display_name": "Python 3",
   "language": "python",
   "name": "python3"
  },
  "language_info": {
   "codemirror_mode": {
    "name": "ipython",
    "version": 3
   },
   "file_extension": ".py",
   "mimetype": "text/x-python",
   "name": "python",
   "nbconvert_exporter": "python",
   "pygments_lexer": "ipython3",
   "version": "3.8.8"
  }
 },
 "nbformat": 4,
 "nbformat_minor": 5
}
