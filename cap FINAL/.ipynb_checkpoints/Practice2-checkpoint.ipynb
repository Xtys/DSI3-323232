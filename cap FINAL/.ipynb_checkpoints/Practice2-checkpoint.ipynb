{
 "cells": [
  {
   "cell_type": "markdown",
   "id": "15998fc0",
   "metadata": {},
   "source": [
    "In the past decades, oil markets have been seen as something close to perfect competition, impenetrable and prone to exogenous shocks, political, economic or other. Gas & Oil giants, Bunker trading firms would want to secure market competitiveness by having successful transactions with the best costing outcome.\n",
    "\n",
    "My Goal is to build a Time Series model to predict bunker price using Brent Crude. With the aid of 20 Major Ports price Average and Brent Crude Datasets, I would explore the relationships between commodities prices and determine the best model to companies stakeholders who entrsut their investing on. \n",
    "\n",
    "Nonetheless my main focus of product would be VLSFO Fuel Oil, IMO 2020 Grade, 0.5% as a new product available in the market."
   ]
  },
  {
   "cell_type": "markdown",
   "id": "a1058dcf",
   "metadata": {},
   "source": [
    "Datasets:\n",
    "- Avg 20 major Port Bunker price \n",
    "- Brent Crude Price \n",
    "\n",
    "- 20 Major Ports:\n",
    "   - Busan, Colombo, Durban, Fujairah, Gibraltar, Hong Kong, Houston, Istanbul, LA/Long Beach, Las Palmas, Mumbai, New York, Panama, Piraeus, Rotterdam, Santos, Shanghai, Singapore, St Petersburg, Tokyo"
   ]
  },
  {
   "cell_type": "code",
   "execution_count": 1,
   "id": "30e3440a",
   "metadata": {},
   "outputs": [],
   "source": [
    "import pandas as pd\n",
    "import numpy as np\n",
    "import matplotlib.pyplot as plt\n",
    "import seaborn as sns "
   ]
  },
  {
   "cell_type": "code",
   "execution_count": 2,
   "id": "92698d2a",
   "metadata": {},
   "outputs": [],
   "source": [
    "#Dated 1987 to 2022\n",
    "df= pd.read_csv('./data/Daily_Brent2022.csv', index_col='Date',parse_dates= True)"
   ]
  },
  {
   "cell_type": "code",
   "execution_count": 3,
   "id": "01d78249",
   "metadata": {},
   "outputs": [
    {
     "data": {
      "text/html": [
       "<div>\n",
       "<style scoped>\n",
       "    .dataframe tbody tr th:only-of-type {\n",
       "        vertical-align: middle;\n",
       "    }\n",
       "\n",
       "    .dataframe tbody tr th {\n",
       "        vertical-align: top;\n",
       "    }\n",
       "\n",
       "    .dataframe thead th {\n",
       "        text-align: right;\n",
       "    }\n",
       "</style>\n",
       "<table border=\"1\" class=\"dataframe\">\n",
       "  <thead>\n",
       "    <tr style=\"text-align: right;\">\n",
       "      <th></th>\n",
       "      <th>Price</th>\n",
       "    </tr>\n",
       "    <tr>\n",
       "      <th>Date</th>\n",
       "      <th></th>\n",
       "    </tr>\n",
       "  </thead>\n",
       "  <tbody>\n",
       "    <tr>\n",
       "      <th>1987-12-31</th>\n",
       "      <td>2964.13</td>\n",
       "    </tr>\n",
       "    <tr>\n",
       "      <th>1988-12-31</th>\n",
       "      <td>3800.88</td>\n",
       "    </tr>\n",
       "    <tr>\n",
       "      <th>1989-12-31</th>\n",
       "      <td>4629.97</td>\n",
       "    </tr>\n",
       "    <tr>\n",
       "      <th>1990-12-31</th>\n",
       "      <td>6082.93</td>\n",
       "    </tr>\n",
       "    <tr>\n",
       "      <th>1991-12-31</th>\n",
       "      <td>5150.57</td>\n",
       "    </tr>\n",
       "  </tbody>\n",
       "</table>\n",
       "</div>"
      ],
      "text/plain": [
       "              Price\n",
       "Date               \n",
       "1987-12-31  2964.13\n",
       "1988-12-31  3800.88\n",
       "1989-12-31  4629.97\n",
       "1990-12-31  6082.93\n",
       "1991-12-31  5150.57"
      ]
     },
     "execution_count": 3,
     "metadata": {},
     "output_type": "execute_result"
    }
   ],
   "source": [
    "#By yearly \n",
    "df1=df.resample('Y').sum()\n",
    "df1.head()"
   ]
  },
  {
   "cell_type": "code",
   "execution_count": 4,
   "id": "e464960f",
   "metadata": {},
   "outputs": [
    {
     "data": {
      "text/html": [
       "<div>\n",
       "<style scoped>\n",
       "    .dataframe tbody tr th:only-of-type {\n",
       "        vertical-align: middle;\n",
       "    }\n",
       "\n",
       "    .dataframe tbody tr th {\n",
       "        vertical-align: top;\n",
       "    }\n",
       "\n",
       "    .dataframe thead th {\n",
       "        text-align: right;\n",
       "    }\n",
       "</style>\n",
       "<table border=\"1\" class=\"dataframe\">\n",
       "  <thead>\n",
       "    <tr style=\"text-align: right;\">\n",
       "      <th></th>\n",
       "      <th>Price</th>\n",
       "    </tr>\n",
       "    <tr>\n",
       "      <th>Date</th>\n",
       "      <th></th>\n",
       "    </tr>\n",
       "  </thead>\n",
       "  <tbody>\n",
       "    <tr>\n",
       "      <th>1987-05-31</th>\n",
       "      <td>148.64</td>\n",
       "    </tr>\n",
       "    <tr>\n",
       "      <th>1987-06-30</th>\n",
       "      <td>396.07</td>\n",
       "    </tr>\n",
       "    <tr>\n",
       "      <th>1987-07-31</th>\n",
       "      <td>456.70</td>\n",
       "    </tr>\n",
       "    <tr>\n",
       "      <th>1987-08-31</th>\n",
       "      <td>398.57</td>\n",
       "    </tr>\n",
       "    <tr>\n",
       "      <th>1987-09-30</th>\n",
       "      <td>402.89</td>\n",
       "    </tr>\n",
       "  </tbody>\n",
       "</table>\n",
       "</div>"
      ],
      "text/plain": [
       "             Price\n",
       "Date              \n",
       "1987-05-31  148.64\n",
       "1987-06-30  396.07\n",
       "1987-07-31  456.70\n",
       "1987-08-31  398.57\n",
       "1987-09-30  402.89"
      ]
     },
     "execution_count": 4,
     "metadata": {},
     "output_type": "execute_result"
    }
   ],
   "source": [
    "#By Monthly \n",
    "df2= pd.read_csv('./data/Daily_Brent_Crude_Oil_Spot_Prices2022.csv', index_col='Date',parse_dates= True)\n",
    "df2=df2.resample('M').sum()\n",
    "df2.head()"
   ]
  },
  {
   "cell_type": "code",
   "execution_count": 5,
   "id": "bc973d41",
   "metadata": {},
   "outputs": [
    {
     "data": {
      "text/html": [
       "<div>\n",
       "<style scoped>\n",
       "    .dataframe tbody tr th:only-of-type {\n",
       "        vertical-align: middle;\n",
       "    }\n",
       "\n",
       "    .dataframe tbody tr th {\n",
       "        vertical-align: top;\n",
       "    }\n",
       "\n",
       "    .dataframe thead th {\n",
       "        text-align: right;\n",
       "    }\n",
       "</style>\n",
       "<table border=\"1\" class=\"dataframe\">\n",
       "  <thead>\n",
       "    <tr style=\"text-align: right;\">\n",
       "      <th></th>\n",
       "      <th>Price</th>\n",
       "    </tr>\n",
       "    <tr>\n",
       "      <th>Date</th>\n",
       "      <th></th>\n",
       "    </tr>\n",
       "  </thead>\n",
       "  <tbody>\n",
       "    <tr>\n",
       "      <th>1987-05-24</th>\n",
       "      <td>55.63</td>\n",
       "    </tr>\n",
       "    <tr>\n",
       "      <th>1987-05-31</th>\n",
       "      <td>93.01</td>\n",
       "    </tr>\n",
       "    <tr>\n",
       "      <th>1987-06-07</th>\n",
       "      <td>93.51</td>\n",
       "    </tr>\n",
       "    <tr>\n",
       "      <th>1987-06-14</th>\n",
       "      <td>93.77</td>\n",
       "    </tr>\n",
       "    <tr>\n",
       "      <th>1987-06-21</th>\n",
       "      <td>76.03</td>\n",
       "    </tr>\n",
       "  </tbody>\n",
       "</table>\n",
       "</div>"
      ],
      "text/plain": [
       "            Price\n",
       "Date             \n",
       "1987-05-24  55.63\n",
       "1987-05-31  93.01\n",
       "1987-06-07  93.51\n",
       "1987-06-14  93.77\n",
       "1987-06-21  76.03"
      ]
     },
     "execution_count": 5,
     "metadata": {},
     "output_type": "execute_result"
    }
   ],
   "source": [
    "#By weekly\n",
    "df3= pd.read_csv('./data/Daily_Brent_Crude_Oil_Spot_Prices2022.csv', index_col='Date',parse_dates= True)\n",
    "df3=df3.resample('W').sum()\n",
    "df3.head()"
   ]
  },
  {
   "cell_type": "code",
   "execution_count": 6,
   "id": "06bbbafe",
   "metadata": {},
   "outputs": [],
   "source": [
    "#new blend VLSFO (dated 2020 to 2022 Q1)\n",
    "#mpa20= pd.read_csv('./data/Daily_Bunker_Fuel_Prices.csv')"
   ]
  },
  {
   "cell_type": "code",
   "execution_count": 7,
   "id": "41adaa5a",
   "metadata": {},
   "outputs": [],
   "source": [
    "# Def function for EDA on dataframe\n",
    "def eda(dataframe):\n",
    "    print(\"dataframe types \\n\", dataframe.dtypes, '\\n')\n",
    "    print(\"dataframe describe \\n\", dataframe.describe(), '\\n')\n",
    "    print(\"missing values \\n\", dataframe.isnull().sum(), '\\n')\n",
    "    print(\"duplicate values \\n\", dataframe.duplicated().sum(), '\\n')\n",
    "    print(\"dataframe columns \\n\", dataframe.columns, '\\n')\n",
    "    \n",
    "#check if column is unique\n",
    "    for i in dataframe.columns:\n",
    "        print('{} is unique: {}'.format(i, dataframe[i].is_unique))"
   ]
  },
  {
   "cell_type": "markdown",
   "id": "9a1040dd",
   "metadata": {},
   "source": [
    "Data Exploration"
   ]
  },
  {
   "cell_type": "code",
   "execution_count": 8,
   "id": "6c3ba7df",
   "metadata": {},
   "outputs": [
    {
     "name": "stdout",
     "output_type": "stream",
     "text": [
      "Shape of Data:\n",
      " (8815, 1)\n",
      "Data:\n",
      "             Price\n",
      "Date             \n",
      "1987-05-20  18.63\n",
      "1987-05-21  18.45\n",
      "1987-05-22  18.55\n",
      "1987-05-25  18.60\n",
      "1987-05-26  18.63\n"
     ]
    }
   ],
   "source": [
    "# Brent Crude\n",
    "print ('Shape of Data:\\n',df.shape)\n",
    "print ('Data:\\n',df.head())"
   ]
  },
  {
   "cell_type": "code",
   "execution_count": 9,
   "id": "7f2fdfb2",
   "metadata": {},
   "outputs": [
    {
     "name": "stdout",
     "output_type": "stream",
     "text": [
      "dataframe types \n",
      " Price    float64\n",
      "dtype: object \n",
      "\n",
      "dataframe describe \n",
      "              Price\n",
      "count  8815.000000\n",
      "mean     47.157345\n",
      "std      32.052617\n",
      "min       9.100000\n",
      "25%      18.950000\n",
      "50%      35.720000\n",
      "75%      68.415000\n",
      "max     143.950000 \n",
      "\n",
      "missing values \n",
      " Price    0\n",
      "dtype: int64 \n",
      "\n",
      "duplicate values \n",
      " 3948 \n",
      "\n",
      "dataframe columns \n",
      " Index(['Price'], dtype='object') \n",
      "\n",
      "Price is unique: False\n"
     ]
    }
   ],
   "source": [
    "eda(df)"
   ]
  },
  {
   "cell_type": "code",
   "execution_count": 10,
   "id": "9fb4d258",
   "metadata": {},
   "outputs": [
    {
     "data": {
      "text/html": [
       "<div>\n",
       "<style scoped>\n",
       "    .dataframe tbody tr th:only-of-type {\n",
       "        vertical-align: middle;\n",
       "    }\n",
       "\n",
       "    .dataframe tbody tr th {\n",
       "        vertical-align: top;\n",
       "    }\n",
       "\n",
       "    .dataframe thead th {\n",
       "        text-align: right;\n",
       "    }\n",
       "</style>\n",
       "<table border=\"1\" class=\"dataframe\">\n",
       "  <thead>\n",
       "    <tr style=\"text-align: right;\">\n",
       "      <th></th>\n",
       "      <th>Price</th>\n",
       "    </tr>\n",
       "    <tr>\n",
       "      <th>Date</th>\n",
       "      <th></th>\n",
       "    </tr>\n",
       "  </thead>\n",
       "  <tbody>\n",
       "    <tr>\n",
       "      <th>1987-05-20</th>\n",
       "      <td>18.63</td>\n",
       "    </tr>\n",
       "    <tr>\n",
       "      <th>1987-05-21</th>\n",
       "      <td>18.45</td>\n",
       "    </tr>\n",
       "    <tr>\n",
       "      <th>1987-05-22</th>\n",
       "      <td>18.55</td>\n",
       "    </tr>\n",
       "    <tr>\n",
       "      <th>1987-05-25</th>\n",
       "      <td>18.60</td>\n",
       "    </tr>\n",
       "    <tr>\n",
       "      <th>1987-05-26</th>\n",
       "      <td>18.63</td>\n",
       "    </tr>\n",
       "  </tbody>\n",
       "</table>\n",
       "</div>"
      ],
      "text/plain": [
       "            Price\n",
       "Date             \n",
       "1987-05-20  18.63\n",
       "1987-05-21  18.45\n",
       "1987-05-22  18.55\n",
       "1987-05-25  18.60\n",
       "1987-05-26  18.63"
      ]
     },
     "execution_count": 10,
     "metadata": {},
     "output_type": "execute_result"
    }
   ],
   "source": [
    "df.head()"
   ]
  },
  {
   "cell_type": "code",
   "execution_count": 11,
   "id": "34ffb6b4",
   "metadata": {},
   "outputs": [
    {
     "name": "stdout",
     "output_type": "stream",
     "text": [
      "<class 'pandas.core.frame.DataFrame'>\n",
      "DatetimeIndex: 8815 entries, 1987-05-20 to 2022-02-07\n",
      "Data columns (total 1 columns):\n",
      " #   Column  Non-Null Count  Dtype  \n",
      "---  ------  --------------  -----  \n",
      " 0   Price   8815 non-null   float64\n",
      "dtypes: float64(1)\n",
      "memory usage: 137.7 KB\n"
     ]
    }
   ],
   "source": [
    "df.info()"
   ]
  },
  {
   "cell_type": "code",
   "execution_count": 12,
   "id": "f447da72",
   "metadata": {},
   "outputs": [
    {
     "data": {
      "text/plain": [
       "18.48    0.002950\n",
       "18.15    0.002496\n",
       "16.85    0.002269\n",
       "18.63    0.002042\n",
       "17.00    0.002042\n",
       "           ...   \n",
       "45.54    0.000113\n",
       "68.53    0.000113\n",
       "28.83    0.000113\n",
       "18.76    0.000113\n",
       "55.06    0.000113\n",
       "Name: Price, Length: 4867, dtype: float64"
      ]
     },
     "execution_count": 12,
     "metadata": {},
     "output_type": "execute_result"
    }
   ],
   "source": [
    "df['Price'].value_counts(normalize=True)"
   ]
  },
  {
   "cell_type": "code",
   "execution_count": 13,
   "id": "947c1593",
   "metadata": {},
   "outputs": [
    {
     "data": {
      "text/plain": [
       "<seaborn.axisgrid.PairGrid at 0x1d2f4d27250>"
      ]
     },
     "execution_count": 13,
     "metadata": {},
     "output_type": "execute_result"
    },
    {
     "data": {
      "image/png": "[encoded data removed]",
      "text/plain": [
       "<Figure size 180x180 with 2 Axes>"
      ]
     },
     "metadata": {
      "needs_background": "light"
     },
     "output_type": "display_data"
    }
   ],
   "source": [
    "sns.pairplot(df)"
   ]
  },
  {
   "cell_type": "code",
   "execution_count": 14,
   "id": "8b4379e2",
   "metadata": {},
   "outputs": [
    {
     "data": {
      "text/plain": [
       "<AxesSubplot:xlabel='Date'>"
      ]
     },
     "execution_count": 14,
     "metadata": {},
     "output_type": "execute_result"
    },
    {
     "data": {
      "image/png": "[encoded data removed]",
      "text/plain": [
       "<Figure size 864x432 with 1 Axes>"
      ]
     },
     "metadata": {
      "needs_background": "light"
     },
     "output_type": "display_data"
    }
   ],
   "source": [
    "df['Price'].plot(figsize=(12,6))"
   ]
  },
  {
   "cell_type": "code",
   "execution_count": 15,
   "id": "0451507f",
   "metadata": {},
   "outputs": [
    {
     "data": {
      "text/plain": [
       "<AxesSubplot:xlabel='Date'>"
      ]
     },
     "execution_count": 15,
     "metadata": {},
     "output_type": "execute_result"
    },
    {
     "data": {
      "image/png": "[encoded data removed]",
      "text/plain": [
       "<Figure size 864x504 with 1 Axes>"
      ]
     },
     "metadata": {
      "needs_background": "light"
     },
     "output_type": "display_data"
    }
   ],
   "source": [
    "df1.columns=['Price']\n",
    "df1.plot(figsize=(12,7))"
   ]
  },
  {
   "cell_type": "code",
   "execution_count": 16,
   "id": "40598ca5",
   "metadata": {},
   "outputs": [
    {
     "data": {
      "text/plain": [
       "<AxesSubplot:xlabel='Date'>"
      ]
     },
     "execution_count": 16,
     "metadata": {},
     "output_type": "execute_result"
    },
    {
     "data": {
      "image/png": "[encoded data removed]",
      "text/plain": [
       "<Figure size 864x504 with 1 Axes>"
      ]
     },
     "metadata": {
      "needs_background": "light"
     },
     "output_type": "display_data"
    }
   ],
   "source": [
    "df2.columns=['Price']\n",
    "df2.plot(figsize=(12,7))"
   ]
  },
  {
   "cell_type": "code",
   "execution_count": 17,
   "id": "431ac9e1",
   "metadata": {},
   "outputs": [
    {
     "data": {
      "text/plain": [
       "<AxesSubplot:xlabel='Date'>"
      ]
     },
     "execution_count": 17,
     "metadata": {},
     "output_type": "execute_result"
    },
    {
     "data": {
      "image/png": "[encoded data removed]",
      "text/plain": [
       "<Figure size 864x504 with 1 Axes>"
      ]
     },
     "metadata": {
      "needs_background": "light"
     },
     "output_type": "display_data"
    }
   ],
   "source": [
    "df3.columns=['Price']\n",
    "df3.plot(figsize=(12,7))"
   ]
  },
  {
   "cell_type": "code",
   "execution_count": 18,
   "id": "92b5d102",
   "metadata": {},
   "outputs": [
    {
     "data": {
      "image/png": "[encoded data removed]",
      "text/plain": [
       "<Figure size 432x288 with 1 Axes>"
      ]
     },
     "metadata": {
      "needs_background": "light"
     },
     "output_type": "display_data"
    }
   ],
   "source": [
    "#ACF test\n",
    "import pmdarima as pm\n",
    "from pmdarima import datasets\n",
    "\n",
    "y = df['Price']\n",
    "pm.plot_pacf(y)"
   ]
  },
  {
   "cell_type": "markdown",
   "id": "be2410e0",
   "metadata": {},
   "source": [
    "ADF Test, Check for Stationary of Data"
   ]
  },
  {
   "cell_type": "code",
   "execution_count": 19,
   "id": "c305a820",
   "metadata": {},
   "outputs": [],
   "source": [
    "#from sklearn.model_selection import train_test_split\n",
    "#import pmdarima as pm\n",
    "#from pmdarima.arima import ADFTest"
   ]
  },
  {
   "cell_type": "code",
   "execution_count": 20,
   "id": "5c42026f",
   "metadata": {},
   "outputs": [],
   "source": [
    "#import Augmented Dickey-Fuller\n",
    "from pmdarima.arima.stationarity import ADFTest\n",
    "\n",
    "adf_test = ADFTest(alpha=0.05)\n",
    "p_val,should_diff = adf_test.should_diff(y)"
   ]
  },
  {
   "cell_type": "code",
   "execution_count": 21,
   "id": "2e7b9140",
   "metadata": {},
   "outputs": [
    {
     "data": {
      "text/plain": [
       "0.2792344912779797"
      ]
     },
     "execution_count": 21,
     "metadata": {},
     "output_type": "execute_result"
    }
   ],
   "source": [
    "p_val"
   ]
  },
  {
   "cell_type": "code",
   "execution_count": 22,
   "id": "c1fff21b",
   "metadata": {},
   "outputs": [
    {
     "data": {
      "text/plain": [
       "True"
      ]
     },
     "execution_count": 22,
     "metadata": {},
     "output_type": "execute_result"
    }
   ],
   "source": [
    "should_diff\n",
    "#Since the ADF test show True means data should do differencing "
   ]
  },
  {
   "cell_type": "code",
   "execution_count": 23,
   "id": "ce6d4d7f",
   "metadata": {},
   "outputs": [],
   "source": [
    "#import Augmented Dickey-Fuller \n",
    "from statsmodels.tsa.stattools import adfuller"
   ]
  },
  {
   "cell_type": "code",
   "execution_count": 24,
   "id": "e87229ea",
   "metadata": {},
   "outputs": [],
   "source": [
    "adftest = adfuller(df['Price'], autolag= 'AIC')"
   ]
  },
  {
   "cell_type": "code",
   "execution_count": 25,
   "id": "9306e405",
   "metadata": {},
   "outputs": [
    {
     "name": "stdout",
     "output_type": "stream",
     "text": [
      " ADF: -1.8997715641726622\n",
      "P-value: 0.33216858177501263\n",
      "Num of lags: 35\n",
      "Num of Observation used for ADF Regression & Critical value Calculation: 8779\n",
      "Critical value:\n",
      "\t 1% : -3.43109509774388\n",
      "\t 5% : -2.8618692838372026\n",
      "\t 10% : -2.566945272806482\n"
     ]
    }
   ],
   "source": [
    "print(' ADF:',adftest[0])\n",
    "print('P-value:',adftest[1])\n",
    "print('Num of lags:',adftest[2])\n",
    "print('Num of Observation used for ADF Regression & Critical value Calculation:',adftest[3])\n",
    "print('Critical value:')\n",
    "for key, val in adftest[4].items():\n",
    "    print('\\t' ,key, \":\", val)\n",
    "    "
   ]
  },
  {
   "cell_type": "markdown",
   "id": "e4e853e9",
   "metadata": {},
   "source": [
    "Observation: p-value = 0.3 < 0.5, means dataset is somewhat stationary "
   ]
  },
  {
   "cell_type": "markdown",
   "id": "86fcbe7e",
   "metadata": {},
   "source": [
    "**Estimating d parameter more directly**"
   ]
  },
  {
   "cell_type": "code",
   "execution_count": 26,
   "id": "66b4dcea",
   "metadata": {},
   "outputs": [],
   "source": [
    "from pmdarima.arima.utils import ndiffs"
   ]
  },
  {
   "cell_type": "code",
   "execution_count": 27,
   "id": "e553894a",
   "metadata": {},
   "outputs": [],
   "source": [
    "# KPSS test (auto_arima default):\n",
    "n_kpss = ndiffs(y, test='kpss')  # -> 0\n"
   ]
  },
  {
   "cell_type": "code",
   "execution_count": 28,
   "id": "53fc7a9c",
   "metadata": {},
   "outputs": [
    {
     "data": {
      "text/plain": [
       "1"
      ]
     },
     "execution_count": 28,
     "metadata": {},
     "output_type": "execute_result"
    }
   ],
   "source": [
    "#assert n_adf == n_kpss == n_pp == 0\n",
    "n_kpss\n",
    "#integration order of the seasonal process=1"
   ]
  },
  {
   "cell_type": "markdown",
   "id": "263dc898",
   "metadata": {},
   "source": [
    "***Determine the Order of Arima Model***"
   ]
  },
  {
   "cell_type": "code",
   "execution_count": 29,
   "id": "83e14c82",
   "metadata": {},
   "outputs": [],
   "source": [
    "from pmdarima import auto_arima\n",
    "import warnings\n",
    "%config InlineBackend.figure_format = 'retina'\n",
    "warnings.filterwarnings('ignore')"
   ]
  },
  {
   "cell_type": "code",
   "execution_count": 30,
   "id": "8ef5aaa0",
   "metadata": {},
   "outputs": [
    {
     "name": "stdout",
     "output_type": "stream",
     "text": [
      "Performing stepwise search to minimize aic\n",
      " ARIMA(2,1,2)(0,0,0)[0] intercept   : AIC=26912.697, Time=1.31 sec\n",
      " ARIMA(0,1,0)(0,0,0)[0] intercept   : AIC=26912.069, Time=0.23 sec\n",
      " ARIMA(1,1,0)(0,0,0)[0] intercept   : AIC=26907.380, Time=0.92 sec\n",
      " ARIMA(0,1,1)(0,0,0)[0] intercept   : AIC=26907.265, Time=1.01 sec\n",
      " ARIMA(0,1,0)(0,0,0)[0]             : AIC=26910.635, Time=0.16 sec\n",
      " ARIMA(1,1,1)(0,0,0)[0] intercept   : AIC=26908.719, Time=1.01 sec\n",
      " ARIMA(0,1,2)(0,0,0)[0] intercept   : AIC=26908.701, Time=1.22 sec\n",
      " ARIMA(1,1,2)(0,0,0)[0] intercept   : AIC=26900.815, Time=8.10 sec\n",
      " ARIMA(1,1,3)(0,0,0)[0] intercept   : AIC=26910.470, Time=6.85 sec\n",
      " ARIMA(0,1,3)(0,0,0)[0] intercept   : AIC=26910.697, Time=1.51 sec\n",
      " ARIMA(2,1,1)(0,0,0)[0] intercept   : AIC=26910.693, Time=1.31 sec\n",
      " ARIMA(2,1,3)(0,0,0)[0] intercept   : AIC=26912.493, Time=9.93 sec\n",
      " ARIMA(1,1,2)(0,0,0)[0]             : AIC=26899.182, Time=2.29 sec\n",
      " ARIMA(0,1,2)(0,0,0)[0]             : AIC=26907.245, Time=0.78 sec\n",
      " ARIMA(1,1,1)(0,0,0)[0]             : AIC=26907.262, Time=0.60 sec\n",
      " ARIMA(2,1,2)(0,0,0)[0]             : AIC=26911.242, Time=0.53 sec\n",
      " ARIMA(1,1,3)(0,0,0)[0]             : AIC=26909.010, Time=2.27 sec\n",
      " ARIMA(0,1,1)(0,0,0)[0]             : AIC=26905.802, Time=0.34 sec\n",
      " ARIMA(0,1,3)(0,0,0)[0]             : AIC=26909.242, Time=0.76 sec\n",
      " ARIMA(2,1,1)(0,0,0)[0]             : AIC=26909.238, Time=0.53 sec\n",
      " ARIMA(2,1,3)(0,0,0)[0]             : AIC=26911.034, Time=3.22 sec\n",
      "\n",
      "Best model:  ARIMA(1,1,2)(0,0,0)[0]          \n",
      "Total fit time: 44.894 seconds\n"
     ]
    }
   ],
   "source": [
    "stepwise_fit=auto_arima(df['Price'], trace=True,\n",
    "                       suppress_warings=True)\n"
   ]
  },
  {
   "cell_type": "code",
   "execution_count": 31,
   "id": "22fdc22f",
   "metadata": {},
   "outputs": [
    {
     "data": {
      "text/html": [
       "<table class=\"simpletable\">\n",
       "<caption>SARIMAX Results</caption>\n",
       "<tr>\n",
       "  <th>Dep. Variable:</th>           <td>y</td>        <th>  No. Observations:  </th>    <td>8815</td>   \n",
       "</tr>\n",
       "<tr>\n",
       "  <th>Model:</th>           <td>SARIMAX(1, 1, 2)</td> <th>  Log Likelihood     </th> <td>-13445.591</td>\n",
       "</tr>\n",
       "<tr>\n",
       "  <th>Date:</th>            <td>Thu, 31 Mar 2022</td> <th>  AIC                </th>  <td>26899.182</td>\n",
       "</tr>\n",
       "<tr>\n",
       "  <th>Time:</th>                <td>01:14:59</td>     <th>  BIC                </th>  <td>26927.518</td>\n",
       "</tr>\n",
       "<tr>\n",
       "  <th>Sample:</th>                  <td>0</td>        <th>  HQIC               </th>  <td>26908.834</td>\n",
       "</tr>\n",
       "<tr>\n",
       "  <th></th>                      <td> - 8815</td>     <th>                     </th>      <td> </td>    \n",
       "</tr>\n",
       "<tr>\n",
       "  <th>Covariance Type:</th>        <td>opg</td>       <th>                     </th>      <td> </td>    \n",
       "</tr>\n",
       "</table>\n",
       "<table class=\"simpletable\">\n",
       "<tr>\n",
       "     <td></td>       <th>coef</th>     <th>std err</th>      <th>z</th>      <th>P>|z|</th>  <th>[0.025</th>    <th>0.975]</th>  \n",
       "</tr>\n",
       "<tr>\n",
       "  <th>ar.L1</th>  <td>    0.9659</td> <td>    0.013</td> <td>   71.951</td> <td> 0.000</td> <td>    0.940</td> <td>    0.992</td>\n",
       "</tr>\n",
       "<tr>\n",
       "  <th>ma.L1</th>  <td>   -0.9391</td> <td>    0.015</td> <td>  -63.102</td> <td> 0.000</td> <td>   -0.968</td> <td>   -0.910</td>\n",
       "</tr>\n",
       "<tr>\n",
       "  <th>ma.L2</th>  <td>   -0.0166</td> <td>    0.007</td> <td>   -2.362</td> <td> 0.018</td> <td>   -0.030</td> <td>   -0.003</td>\n",
       "</tr>\n",
       "<tr>\n",
       "  <th>sigma2</th> <td>    1.2375</td> <td>    0.008</td> <td>  152.896</td> <td> 0.000</td> <td>    1.222</td> <td>    1.253</td>\n",
       "</tr>\n",
       "</table>\n",
       "<table class=\"simpletable\">\n",
       "<tr>\n",
       "  <th>Ljung-Box (L1) (Q):</th>     <td>0.00</td> <th>  Jarque-Bera (JB):  </th> <td>29177.52</td>\n",
       "</tr>\n",
       "<tr>\n",
       "  <th>Prob(Q):</th>                <td>0.97</td> <th>  Prob(JB):          </th>   <td>0.00</td>  \n",
       "</tr>\n",
       "<tr>\n",
       "  <th>Heteroskedasticity (H):</th> <td>8.07</td> <th>  Skew:              </th>   <td>-0.38</td> \n",
       "</tr>\n",
       "<tr>\n",
       "  <th>Prob(H) (two-sided):</th>    <td>0.00</td> <th>  Kurtosis:          </th>   <td>11.88</td> \n",
       "</tr>\n",
       "</table><br/><br/>Warnings:<br/>[1] Covariance matrix calculated using the outer product of gradients (complex-step)."
      ],
      "text/plain": [
       "<class 'statsmodels.iolib.summary.Summary'>\n",
       "\"\"\"\n",
       "                               SARIMAX Results                                \n",
       "==============================================================================\n",
       "Dep. Variable:                      y   No. Observations:                 8815\n",
       "Model:               SARIMAX(1, 1, 2)   Log Likelihood              -13445.591\n",
       "Date:                Thu, 31 Mar 2022   AIC                          26899.182\n",
       "Time:                        01:14:59   BIC                          26927.518\n",
       "Sample:                             0   HQIC                         26908.834\n",
       "                               - 8815                                         \n",
       "Covariance Type:                  opg                                         \n",
       "==============================================================================\n",
       "                 coef    std err          z      P>|z|      [0.025      0.975]\n",
       "------------------------------------------------------------------------------\n",
       "ar.L1          0.9659      0.013     71.951      0.000       0.940       0.992\n",
       "ma.L1         -0.9391      0.015    -63.102      0.000      -0.968      -0.910\n",
       "ma.L2         -0.0166      0.007     -2.362      0.018      -0.030      -0.003\n",
       "sigma2         1.2375      0.008    152.896      0.000       1.222       1.253\n",
       "===================================================================================\n",
       "Ljung-Box (L1) (Q):                   0.00   Jarque-Bera (JB):             29177.52\n",
       "Prob(Q):                              0.97   Prob(JB):                         0.00\n",
       "Heteroskedasticity (H):               8.07   Skew:                            -0.38\n",
       "Prob(H) (two-sided):                  0.00   Kurtosis:                        11.88\n",
       "===================================================================================\n",
       "\n",
       "Warnings:\n",
       "[1] Covariance matrix calculated using the outer product of gradients (complex-step).\n",
       "\"\"\""
      ]
     },
     "execution_count": 31,
     "metadata": {},
     "output_type": "execute_result"
    }
   ],
   "source": [
    "stepwise_fit.summary()"
   ]
  },
  {
   "cell_type": "code",
   "execution_count": 32,
   "id": "9a2542db",
   "metadata": {},
   "outputs": [],
   "source": [
    "from statsmodels.tsa.arima_model import ARIMA"
   ]
  },
  {
   "cell_type": "markdown",
   "id": "1b2dc9be",
   "metadata": {},
   "source": [
    "Lets split our data into Train and Test"
   ]
  },
  {
   "cell_type": "code",
   "execution_count": 33,
   "id": "c96c858c",
   "metadata": {},
   "outputs": [
    {
     "name": "stdout",
     "output_type": "stream",
     "text": [
      "(8815, 1)\n",
      "(8515, 1) (300, 1)\n"
     ]
    }
   ],
   "source": [
    "print(df.shape)\n",
    "train=df.iloc[:-300]\n",
    "test=df.iloc[-300:]\n",
    "print(train.shape,test.shape)"
   ]
  },
  {
   "cell_type": "markdown",
   "id": "7c820fae",
   "metadata": {},
   "source": [
    "Train the Model"
   ]
  },
  {
   "cell_type": "code",
   "execution_count": 34,
   "id": "aa6a02aa",
   "metadata": {},
   "outputs": [],
   "source": [
    "import statsmodels.api as sm"
   ]
  },
  {
   "cell_type": "code",
   "execution_count": 35,
   "id": "996b7557",
   "metadata": {},
   "outputs": [
    {
     "data": {
      "text/html": [
       "<table class=\"simpletable\">\n",
       "<caption>SARIMAX Results</caption>\n",
       "<tr>\n",
       "  <th>Dep. Variable:</th>         <td>Price</td>      <th>  No. Observations:  </th>    <td>8515</td>   \n",
       "</tr>\n",
       "<tr>\n",
       "  <th>Model:</th>            <td>ARIMA(1, 1, 2)</td>  <th>  Log Likelihood     </th> <td>-12876.318</td>\n",
       "</tr>\n",
       "<tr>\n",
       "  <th>Date:</th>            <td>Thu, 31 Mar 2022</td> <th>  AIC                </th>  <td>25760.637</td>\n",
       "</tr>\n",
       "<tr>\n",
       "  <th>Time:</th>                <td>01:15:02</td>     <th>  BIC                </th>  <td>25788.834</td>\n",
       "</tr>\n",
       "<tr>\n",
       "  <th>Sample:</th>                  <td>0</td>        <th>  HQIC               </th>  <td>25770.258</td>\n",
       "</tr>\n",
       "<tr>\n",
       "  <th></th>                      <td> - 8515</td>     <th>                     </th>      <td> </td>    \n",
       "</tr>\n",
       "<tr>\n",
       "  <th>Covariance Type:</th>        <td>opg</td>       <th>                     </th>      <td> </td>    \n",
       "</tr>\n",
       "</table>\n",
       "<table class=\"simpletable\">\n",
       "<tr>\n",
       "     <td></td>       <th>coef</th>     <th>std err</th>      <th>z</th>      <th>P>|z|</th>  <th>[0.025</th>    <th>0.975]</th>  \n",
       "</tr>\n",
       "<tr>\n",
       "  <th>ar.L1</th>  <td>    0.9654</td> <td>    0.014</td> <td>   69.146</td> <td> 0.000</td> <td>    0.938</td> <td>    0.993</td>\n",
       "</tr>\n",
       "<tr>\n",
       "  <th>ma.L1</th>  <td>   -0.9344</td> <td>    0.015</td> <td>  -60.873</td> <td> 0.000</td> <td>   -0.964</td> <td>   -0.904</td>\n",
       "</tr>\n",
       "<tr>\n",
       "  <th>ma.L2</th>  <td>   -0.0208</td> <td>    0.007</td> <td>   -2.955</td> <td> 0.003</td> <td>   -0.035</td> <td>   -0.007</td>\n",
       "</tr>\n",
       "<tr>\n",
       "  <th>sigma2</th> <td>    1.2055</td> <td>    0.008</td> <td>  149.786</td> <td> 0.000</td> <td>    1.190</td> <td>    1.221</td>\n",
       "</tr>\n",
       "</table>\n",
       "<table class=\"simpletable\">\n",
       "<tr>\n",
       "  <th>Ljung-Box (L1) (Q):</th>     <td>0.00</td> <th>  Jarque-Bera (JB):  </th> <td>27978.03</td>\n",
       "</tr>\n",
       "<tr>\n",
       "  <th>Prob(Q):</th>                <td>0.97</td> <th>  Prob(JB):          </th>   <td>0.00</td>  \n",
       "</tr>\n",
       "<tr>\n",
       "  <th>Heteroskedasticity (H):</th> <td>7.94</td> <th>  Skew:              </th>   <td>-0.31</td> \n",
       "</tr>\n",
       "<tr>\n",
       "  <th>Prob(H) (two-sided):</th>    <td>0.00</td> <th>  Kurtosis:          </th>   <td>11.86</td> \n",
       "</tr>\n",
       "</table><br/><br/>Warnings:<br/>[1] Covariance matrix calculated using the outer product of gradients (complex-step)."
      ],
      "text/plain": [
       "<class 'statsmodels.iolib.summary.Summary'>\n",
       "\"\"\"\n",
       "                               SARIMAX Results                                \n",
       "==============================================================================\n",
       "Dep. Variable:                  Price   No. Observations:                 8515\n",
       "Model:                 ARIMA(1, 1, 2)   Log Likelihood              -12876.318\n",
       "Date:                Thu, 31 Mar 2022   AIC                          25760.637\n",
       "Time:                        01:15:02   BIC                          25788.834\n",
       "Sample:                             0   HQIC                         25770.258\n",
       "                               - 8515                                         \n",
       "Covariance Type:                  opg                                         \n",
       "==============================================================================\n",
       "                 coef    std err          z      P>|z|      [0.025      0.975]\n",
       "------------------------------------------------------------------------------\n",
       "ar.L1          0.9654      0.014     69.146      0.000       0.938       0.993\n",
       "ma.L1         -0.9344      0.015    -60.873      0.000      -0.964      -0.904\n",
       "ma.L2         -0.0208      0.007     -2.955      0.003      -0.035      -0.007\n",
       "sigma2         1.2055      0.008    149.786      0.000       1.190       1.221\n",
       "===================================================================================\n",
       "Ljung-Box (L1) (Q):                   0.00   Jarque-Bera (JB):             27978.03\n",
       "Prob(Q):                              0.97   Prob(JB):                         0.00\n",
       "Heteroskedasticity (H):               7.94   Skew:                            -0.31\n",
       "Prob(H) (two-sided):                  0.00   Kurtosis:                        11.86\n",
       "===================================================================================\n",
       "\n",
       "Warnings:\n",
       "[1] Covariance matrix calculated using the outer product of gradients (complex-step).\n",
       "\"\"\""
      ]
     },
     "execution_count": 35,
     "metadata": {},
     "output_type": "execute_result"
    }
   ],
   "source": [
    "model= sm.tsa.arima.ARIMA(train['Price'], order=(1,1,2))\n",
    "model=model.fit()\n",
    "model.summary()"
   ]
  },
  {
   "cell_type": "markdown",
   "id": "4e066c2d",
   "metadata": {},
   "source": [
    "Making prediction on Test set"
   ]
  },
  {
   "cell_type": "code",
   "execution_count": 36,
   "id": "05afaf56",
   "metadata": {},
   "outputs": [
    {
     "name": "stdout",
     "output_type": "stream",
     "text": [
      "8515    47.076524\n",
      "8516    47.118342\n",
      "8517    47.158712\n",
      "8518    47.197683\n",
      "8519    47.235304\n",
      "          ...    \n",
      "8810    48.283667\n",
      "8811    48.283668\n",
      "8812    48.283670\n",
      "8813    48.283671\n",
      "8814    48.283672\n",
      "Name: predicted_mean, Length: 300, dtype: float64\n"
     ]
    }
   ],
   "source": [
    "start= len(train)\n",
    "end=len(train)+len(test)-1\n",
    "pred=model.predict(start=start,end=end,type='levels')\n",
    "print(pred)"
   ]
  },
  {
   "cell_type": "code",
   "execution_count": 37,
   "id": "deb29353",
   "metadata": {},
   "outputs": [
    {
     "data": {
      "text/plain": [
       "<AxesSubplot:xlabel='Date'>"
      ]
     },
     "execution_count": 37,
     "metadata": {},
     "output_type": "execute_result"
    },
    {
     "data": {
      "image/png": "[encoded data removed]",
      "text/plain": [
       "<Figure size 432x288 with 1 Axes>"
      ]
     },
     "metadata": {
      "image/png": {
       "height": 251,
       "width": 374
      },
      "needs_background": "light"
     },
     "output_type": "display_data"
    }
   ],
   "source": [
    "pred.plot(legend=True)\n",
    "test['Price'].plot(legend=True)"
   ]
  },
  {
   "cell_type": "markdown",
   "id": "3e093b31",
   "metadata": {},
   "source": [
    "calculate Error"
   ]
  },
  {
   "cell_type": "code",
   "execution_count": 38,
   "id": "7d9988b3",
   "metadata": {},
   "outputs": [],
   "source": [
    "from math import sqrt\n",
    "from sklearn.metrics import mean_squared_error"
   ]
  },
  {
   "cell_type": "code",
   "execution_count": 39,
   "id": "6674d9f5",
   "metadata": {},
   "outputs": [
    {
     "data": {
      "text/plain": [
       "70.88213333333334"
      ]
     },
     "execution_count": 39,
     "metadata": {},
     "output_type": "execute_result"
    }
   ],
   "source": [
    "test['Price'].mean()"
   ]
  },
  {
   "cell_type": "code",
   "execution_count": 40,
   "id": "c86e36fc",
   "metadata": {},
   "outputs": [],
   "source": [
    "rmse=sqrt(mean_squared_error(test['Price'],pred))"
   ]
  },
  {
   "cell_type": "code",
   "execution_count": 41,
   "id": "5afee7af",
   "metadata": {},
   "outputs": [
    {
     "name": "stdout",
     "output_type": "stream",
     "text": [
      "24.974920290724064\n"
     ]
    }
   ],
   "source": [
    "print(rmse)"
   ]
  },
  {
   "cell_type": "markdown",
   "id": "36d6e7c6",
   "metadata": {},
   "source": [
    "Seem like rmse is lower than mean()"
   ]
  },
  {
   "cell_type": "code",
   "execution_count": 42,
   "id": "46ce72da",
   "metadata": {},
   "outputs": [
    {
     "data": {
      "text/html": [
       "<div>\n",
       "<style scoped>\n",
       "    .dataframe tbody tr th:only-of-type {\n",
       "        vertical-align: middle;\n",
       "    }\n",
       "\n",
       "    .dataframe tbody tr th {\n",
       "        vertical-align: top;\n",
       "    }\n",
       "\n",
       "    .dataframe thead th {\n",
       "        text-align: right;\n",
       "    }\n",
       "</style>\n",
       "<table border=\"1\" class=\"dataframe\">\n",
       "  <thead>\n",
       "    <tr style=\"text-align: right;\">\n",
       "      <th></th>\n",
       "      <th>Price</th>\n",
       "    </tr>\n",
       "    <tr>\n",
       "      <th>Date</th>\n",
       "      <th></th>\n",
       "    </tr>\n",
       "  </thead>\n",
       "  <tbody>\n",
       "    <tr>\n",
       "      <th>2022-02-01</th>\n",
       "      <td>90.24</td>\n",
       "    </tr>\n",
       "    <tr>\n",
       "      <th>2022-02-02</th>\n",
       "      <td>91.43</td>\n",
       "    </tr>\n",
       "    <tr>\n",
       "      <th>2022-02-03</th>\n",
       "      <td>92.99</td>\n",
       "    </tr>\n",
       "    <tr>\n",
       "      <th>2022-02-04</th>\n",
       "      <td>96.86</td>\n",
       "    </tr>\n",
       "    <tr>\n",
       "      <th>2022-02-07</th>\n",
       "      <td>97.28</td>\n",
       "    </tr>\n",
       "  </tbody>\n",
       "</table>\n",
       "</div>"
      ],
      "text/plain": [
       "            Price\n",
       "Date             \n",
       "2022-02-01  90.24\n",
       "2022-02-02  91.43\n",
       "2022-02-03  92.99\n",
       "2022-02-04  96.86\n",
       "2022-02-07  97.28"
      ]
     },
     "execution_count": 42,
     "metadata": {},
     "output_type": "execute_result"
    }
   ],
   "source": [
    "model2= sm.tsa.arima.ARIMA(df['Price'], order=(1,1,2))\n",
    "model2=model2.fit()\n",
    "df.tail()"
   ]
  },
  {
   "cell_type": "code",
   "execution_count": 43,
   "id": "2bf370b1",
   "metadata": {},
   "outputs": [],
   "source": [
    "future_pred=model2.predict(start=len(df),end=len(df)+30,type='levels').rename('Arima Predictions')"
   ]
  },
  {
   "cell_type": "code",
   "execution_count": 44,
   "id": "bcd57b97",
   "metadata": {},
   "outputs": [
    {
     "name": "stdout",
     "output_type": "stream",
     "text": [
      "8815    97.401173\n",
      "8816    97.514287\n",
      "8817    97.623545\n",
      "8818    97.729078\n",
      "8819    97.831013\n",
      "8820    97.929472\n",
      "8821    98.024575\n",
      "8822    98.116436\n",
      "8823    98.205164\n",
      "8824    98.290868\n",
      "8825    98.373650\n",
      "8826    98.453610\n",
      "8827    98.530843\n",
      "8828    98.605444\n",
      "8829    98.677501\n",
      "8830    98.747102\n",
      "8831    98.814329\n",
      "8832    98.879265\n",
      "8833    98.941987\n",
      "8834    99.002570\n",
      "8835    99.061088\n",
      "8836    99.117611\n",
      "8837    99.172207\n",
      "8838    99.224941\n",
      "8839    99.275878\n",
      "8840    99.325078\n",
      "8841    99.372601\n",
      "8842    99.418504\n",
      "8843    99.462841\n",
      "8844    99.505667\n",
      "8845    99.547033\n",
      "Name: Arima Predictions, dtype: float64\n"
     ]
    }
   ],
   "source": [
    "print(future_pred)"
   ]
  },
  {
   "cell_type": "code",
   "execution_count": 45,
   "id": "4c72848b",
   "metadata": {},
   "outputs": [],
   "source": [
    "index_future_dates=pd.date_range(start='2022-02-07' , end='2022-03-09')"
   ]
  },
  {
   "cell_type": "code",
   "execution_count": 46,
   "id": "457b7315",
   "metadata": {},
   "outputs": [],
   "source": [
    "future_pred.index=index_future_dates"
   ]
  },
  {
   "cell_type": "code",
   "execution_count": 47,
   "id": "cbfc5be4",
   "metadata": {},
   "outputs": [
    {
     "name": "stdout",
     "output_type": "stream",
     "text": [
      "2022-02-07    97.401173\n",
      "2022-02-08    97.514287\n",
      "2022-02-09    97.623545\n",
      "2022-02-10    97.729078\n",
      "2022-02-11    97.831013\n",
      "2022-02-12    97.929472\n",
      "2022-02-13    98.024575\n",
      "2022-02-14    98.116436\n",
      "2022-02-15    98.205164\n",
      "2022-02-16    98.290868\n",
      "2022-02-17    98.373650\n",
      "2022-02-18    98.453610\n",
      "2022-02-19    98.530843\n",
      "2022-02-20    98.605444\n",
      "2022-02-21    98.677501\n",
      "2022-02-22    98.747102\n",
      "2022-02-23    98.814329\n",
      "2022-02-24    98.879265\n",
      "2022-02-25    98.941987\n",
      "2022-02-26    99.002570\n",
      "2022-02-27    99.061088\n",
      "2022-02-28    99.117611\n",
      "2022-03-01    99.172207\n",
      "2022-03-02    99.224941\n",
      "2022-03-03    99.275878\n",
      "2022-03-04    99.325078\n",
      "2022-03-05    99.372601\n",
      "2022-03-06    99.418504\n",
      "2022-03-07    99.462841\n",
      "2022-03-08    99.505667\n",
      "2022-03-09    99.547033\n",
      "Freq: D, Name: Arima Predictions, dtype: float64\n"
     ]
    }
   ],
   "source": [
    "print(future_pred)"
   ]
  },
  {
   "cell_type": "code",
   "execution_count": 48,
   "id": "65a9cda0",
   "metadata": {},
   "outputs": [
    {
     "data": {
      "text/plain": [
       "31"
      ]
     },
     "execution_count": 48,
     "metadata": {},
     "output_type": "execute_result"
    }
   ],
   "source": [
    "len(future_pred)"
   ]
  },
  {
   "cell_type": "code",
   "execution_count": 49,
   "id": "28f0eda4",
   "metadata": {},
   "outputs": [
    {
     "data": {
      "text/plain": [
       "<AxesSubplot:>"
      ]
     },
     "execution_count": 49,
     "metadata": {},
     "output_type": "execute_result"
    },
    {
     "data": {
      "image/png": "[encoded data removed]",
      "text/plain": [
       "<Figure size 864x504 with 1 Axes>"
      ]
     },
     "metadata": {
      "image/png": {
       "height": 444,
       "width": 713
      },
      "needs_background": "light"
     },
     "output_type": "display_data"
    }
   ],
   "source": [
    "future_pred.plot(figsize=(12,7),legend=True)"
   ]
  },
  {
   "cell_type": "code",
   "execution_count": 52,
   "id": "5153c422",
   "metadata": {},
   "outputs": [],
   "source": [
    "from statsmodels.tsa.seasonal import seasonal_decompose\n",
    "from datetime import datetime"
   ]
  },
  {
   "cell_type": "code",
   "execution_count": 56,
   "id": "15c7adaf",
   "metadata": {},
   "outputs": [
    {
     "ename": "KeyError",
     "evalue": "'date'",
     "output_type": "error",
     "traceback": [
      "\u001b[1;31m---------------------------------------------------------------------------\u001b[0m",
      "\u001b[1;31mKeyError\u001b[0m                                  Traceback (most recent call last)",
      "\u001b[1;32mD:\\anaconda\\lib\\site-packages\\pandas\\core\\indexes\\base.py\u001b[0m in \u001b[0;36mget_loc\u001b[1;34m(self, key, method, tolerance)\u001b[0m\n\u001b[0;32m   3079\u001b[0m             \u001b[1;32mtry\u001b[0m\u001b[1;33m:\u001b[0m\u001b[1;33m\u001b[0m\u001b[1;33m\u001b[0m\u001b[0m\n\u001b[1;32m-> 3080\u001b[1;33m                 \u001b[1;32mreturn\u001b[0m \u001b[0mself\u001b[0m\u001b[1;33m.\u001b[0m\u001b[0m_engine\u001b[0m\u001b[1;33m.\u001b[0m\u001b[0mget_loc\u001b[0m\u001b[1;33m(\u001b[0m\u001b[0mcasted_key\u001b[0m\u001b[1;33m)\u001b[0m\u001b[1;33m\u001b[0m\u001b[1;33m\u001b[0m\u001b[0m\n\u001b[0m\u001b[0;32m   3081\u001b[0m             \u001b[1;32mexcept\u001b[0m \u001b[0mKeyError\u001b[0m \u001b[1;32mas\u001b[0m \u001b[0merr\u001b[0m\u001b[1;33m:\u001b[0m\u001b[1;33m\u001b[0m\u001b[1;33m\u001b[0m\u001b[0m\n",
      "\u001b[1;32mpandas\\_libs\\index.pyx\u001b[0m in \u001b[0;36mpandas._libs.index.IndexEngine.get_loc\u001b[1;34m()\u001b[0m\n",
      "\u001b[1;32mpandas\\_libs\\index.pyx\u001b[0m in \u001b[0;36mpandas._libs.index.IndexEngine.get_loc\u001b[1;34m()\u001b[0m\n",
      "\u001b[1;32mpandas\\_libs\\hashtable_class_helper.pxi\u001b[0m in \u001b[0;36mpandas._libs.hashtable.PyObjectHashTable.get_item\u001b[1;34m()\u001b[0m\n",
      "\u001b[1;32mpandas\\_libs\\hashtable_class_helper.pxi\u001b[0m in \u001b[0;36mpandas._libs.hashtable.PyObjectHashTable.get_item\u001b[1;34m()\u001b[0m\n",
      "\u001b[1;31mKeyError\u001b[0m: 'date'",
      "\nThe above exception was the direct cause of the following exception:\n",
      "\u001b[1;31mKeyError\u001b[0m                                  Traceback (most recent call last)",
      "\u001b[1;32m<ipython-input-56-cbe62554a9ab>\u001b[0m in \u001b[0;36m<module>\u001b[1;34m\u001b[0m\n\u001b[1;32m----> 1\u001b[1;33m \u001b[0mdf\u001b[0m\u001b[1;33m[\u001b[0m\u001b[1;34m'date'\u001b[0m\u001b[1;33m]\u001b[0m \u001b[1;33m=\u001b[0m \u001b[0mpd\u001b[0m\u001b[1;33m.\u001b[0m\u001b[0mto_datetime\u001b[0m\u001b[1;33m(\u001b[0m\u001b[0mdf\u001b[0m\u001b[1;33m[\u001b[0m\u001b[1;34m'date'\u001b[0m\u001b[1;33m]\u001b[0m\u001b[1;33m)\u001b[0m\u001b[1;33m\u001b[0m\u001b[1;33m\u001b[0m\u001b[0m\n\u001b[0m\u001b[0;32m      2\u001b[0m \u001b[0mdf\u001b[0m \u001b[1;33m=\u001b[0m \u001b[0mdf\u001b[0m\u001b[1;33m.\u001b[0m\u001b[0mset_index\u001b[0m\u001b[1;33m(\u001b[0m\u001b[1;34m'Date'\u001b[0m\u001b[1;33m)\u001b[0m\u001b[1;33m.\u001b[0m\u001b[0masfreq\u001b[0m\u001b[1;33m(\u001b[0m\u001b[1;34m'D'\u001b[0m\u001b[1;33m)\u001b[0m\u001b[1;33m\u001b[0m\u001b[1;33m\u001b[0m\u001b[0m\n",
      "\u001b[1;32mD:\\anaconda\\lib\\site-packages\\pandas\\core\\frame.py\u001b[0m in \u001b[0;36m__getitem__\u001b[1;34m(self, key)\u001b[0m\n\u001b[0;32m   3022\u001b[0m             \u001b[1;32mif\u001b[0m \u001b[0mself\u001b[0m\u001b[1;33m.\u001b[0m\u001b[0mcolumns\u001b[0m\u001b[1;33m.\u001b[0m\u001b[0mnlevels\u001b[0m \u001b[1;33m>\u001b[0m \u001b[1;36m1\u001b[0m\u001b[1;33m:\u001b[0m\u001b[1;33m\u001b[0m\u001b[1;33m\u001b[0m\u001b[0m\n\u001b[0;32m   3023\u001b[0m                 \u001b[1;32mreturn\u001b[0m \u001b[0mself\u001b[0m\u001b[1;33m.\u001b[0m\u001b[0m_getitem_multilevel\u001b[0m\u001b[1;33m(\u001b[0m\u001b[0mkey\u001b[0m\u001b[1;33m)\u001b[0m\u001b[1;33m\u001b[0m\u001b[1;33m\u001b[0m\u001b[0m\n\u001b[1;32m-> 3024\u001b[1;33m             \u001b[0mindexer\u001b[0m \u001b[1;33m=\u001b[0m \u001b[0mself\u001b[0m\u001b[1;33m.\u001b[0m\u001b[0mcolumns\u001b[0m\u001b[1;33m.\u001b[0m\u001b[0mget_loc\u001b[0m\u001b[1;33m(\u001b[0m\u001b[0mkey\u001b[0m\u001b[1;33m)\u001b[0m\u001b[1;33m\u001b[0m\u001b[1;33m\u001b[0m\u001b[0m\n\u001b[0m\u001b[0;32m   3025\u001b[0m             \u001b[1;32mif\u001b[0m \u001b[0mis_integer\u001b[0m\u001b[1;33m(\u001b[0m\u001b[0mindexer\u001b[0m\u001b[1;33m)\u001b[0m\u001b[1;33m:\u001b[0m\u001b[1;33m\u001b[0m\u001b[1;33m\u001b[0m\u001b[0m\n\u001b[0;32m   3026\u001b[0m                 \u001b[0mindexer\u001b[0m \u001b[1;33m=\u001b[0m \u001b[1;33m[\u001b[0m\u001b[0mindexer\u001b[0m\u001b[1;33m]\u001b[0m\u001b[1;33m\u001b[0m\u001b[1;33m\u001b[0m\u001b[0m\n",
      "\u001b[1;32mD:\\anaconda\\lib\\site-packages\\pandas\\core\\indexes\\base.py\u001b[0m in \u001b[0;36mget_loc\u001b[1;34m(self, key, method, tolerance)\u001b[0m\n\u001b[0;32m   3080\u001b[0m                 \u001b[1;32mreturn\u001b[0m \u001b[0mself\u001b[0m\u001b[1;33m.\u001b[0m\u001b[0m_engine\u001b[0m\u001b[1;33m.\u001b[0m\u001b[0mget_loc\u001b[0m\u001b[1;33m(\u001b[0m\u001b[0mcasted_key\u001b[0m\u001b[1;33m)\u001b[0m\u001b[1;33m\u001b[0m\u001b[1;33m\u001b[0m\u001b[0m\n\u001b[0;32m   3081\u001b[0m             \u001b[1;32mexcept\u001b[0m \u001b[0mKeyError\u001b[0m \u001b[1;32mas\u001b[0m \u001b[0merr\u001b[0m\u001b[1;33m:\u001b[0m\u001b[1;33m\u001b[0m\u001b[1;33m\u001b[0m\u001b[0m\n\u001b[1;32m-> 3082\u001b[1;33m                 \u001b[1;32mraise\u001b[0m \u001b[0mKeyError\u001b[0m\u001b[1;33m(\u001b[0m\u001b[0mkey\u001b[0m\u001b[1;33m)\u001b[0m \u001b[1;32mfrom\u001b[0m \u001b[0merr\u001b[0m\u001b[1;33m\u001b[0m\u001b[1;33m\u001b[0m\u001b[0m\n\u001b[0m\u001b[0;32m   3083\u001b[0m \u001b[1;33m\u001b[0m\u001b[0m\n\u001b[0;32m   3084\u001b[0m         \u001b[1;32mif\u001b[0m \u001b[0mtolerance\u001b[0m \u001b[1;32mis\u001b[0m \u001b[1;32mnot\u001b[0m \u001b[1;32mNone\u001b[0m\u001b[1;33m:\u001b[0m\u001b[1;33m\u001b[0m\u001b[1;33m\u001b[0m\u001b[0m\n",
      "\u001b[1;31mKeyError\u001b[0m: 'date'"
     ]
    }
   ],
   "source": [
    "df['date'] = pd.to_datetime(df['date'])\n",
    "df = df.set_index('Date').asfreq('D')"
   ]
  },
  {
   "cell_type": "code",
   "execution_count": null,
   "id": "44126ebc",
   "metadata": {},
   "outputs": [],
   "source": [
    "result = seasonal_decompose(df['Price'])\n",
    "result.plot();"
   ]
  },
  {
   "cell_type": "code",
   "execution_count": null,
   "id": "6eaf5a0d",
   "metadata": {},
   "outputs": [],
   "source": []
  },
  {
   "cell_type": "code",
   "execution_count": null,
   "id": "983b4675",
   "metadata": {},
   "outputs": [],
   "source": []
  },
  {
   "cell_type": "code",
   "execution_count": null,
   "id": "87c44c05",
   "metadata": {},
   "outputs": [],
   "source": [
    "mpa20 = pd.read_csv('./data/Daily_Bunker_Fuel_Prices.csv')"
   ]
  },
  {
   "cell_type": "markdown",
   "id": "3cdfd46c",
   "metadata": {},
   "source": [
    "merging mpa20 with curde oil prices"
   ]
  },
  {
   "cell_type": "code",
   "execution_count": null,
   "id": "cbd11b60",
   "metadata": {},
   "outputs": [],
   "source": [
    "mpa20.head()"
   ]
  },
  {
   "cell_type": "code",
   "execution_count": null,
   "id": "159581b6",
   "metadata": {},
   "outputs": [],
   "source": [
    "mpa20.columns"
   ]
  },
  {
   "cell_type": "code",
   "execution_count": null,
   "id": "7052032b",
   "metadata": {},
   "outputs": [],
   "source": [
    "merged_price = pd.merge(left= df,\n",
    "        right= mpa20,\n",
    "        left_on = 'Date',\n",
    "        right_on= 'Day')"
   ]
  },
  {
   "cell_type": "code",
   "execution_count": null,
   "id": "090bed1c",
   "metadata": {},
   "outputs": [],
   "source": [
    "merged_price"
   ]
  },
  {
   "cell_type": "code",
   "execution_count": null,
   "id": "f0f4a284",
   "metadata": {},
   "outputs": [],
   "source": [
    "my_values  = df.values"
   ]
  },
  {
   "cell_type": "code",
   "execution_count": null,
   "id": "fe4f48a7",
   "metadata": {},
   "outputs": [],
   "source": [
    "my_values"
   ]
  },
  {
   "cell_type": "code",
   "execution_count": null,
   "id": "204a5f52",
   "metadata": {},
   "outputs": [],
   "source": [
    "from sklearn.linear_model import LinearRegression\n",
    "from sklearn import metrics"
   ]
  },
  {
   "cell_type": "code",
   "execution_count": null,
   "id": "9ff45226",
   "metadata": {},
   "outputs": [],
   "source": [
    "plt.scatter(df['Date'],df['Price'], s=1)"
   ]
  },
  {
   "cell_type": "code",
   "execution_count": null,
   "id": "93c8c01c",
   "metadata": {},
   "outputs": [],
   "source": [
    "df['Price'].mean()"
   ]
  },
  {
   "cell_type": "code",
   "execution_count": null,
   "id": "cb3098fc",
   "metadata": {},
   "outputs": [],
   "source": [
    "plt.scatter(df['Date'],df['Price'], s=1)\n",
    "plt.axhline(df['Price'].mean(), color = 'orange')\n",
    "plt.ylabel('Date')\n",
    "plt.ylabel('Price of crude');"
   ]
  },
  {
   "cell_type": "code",
   "execution_count": null,
   "id": "f39cbfeb",
   "metadata": {},
   "outputs": [],
   "source": [
    "X=df[['Date']]"
   ]
  },
  {
   "cell_type": "code",
   "execution_count": null,
   "id": "9d4f2a5f",
   "metadata": {},
   "outputs": [],
   "source": [
    "print(X.shape)\n",
    "X.head()"
   ]
  },
  {
   "cell_type": "code",
   "execution_count": null,
   "id": "77c34267",
   "metadata": {},
   "outputs": [],
   "source": [
    "from datetime import datetime\n",
    "from pandas import Timestamp"
   ]
  },
  {
   "cell_type": "code",
   "execution_count": null,
   "id": "2ceddb76",
   "metadata": {},
   "outputs": [],
   "source": [
    "df['Date'] = pd.to_numeric(df['Date'])\n",
    "df.head()"
   ]
  },
  {
   "cell_type": "code",
   "execution_count": null,
   "id": "6503a3eb",
   "metadata": {},
   "outputs": [],
   "source": [
    "X.head()"
   ]
  },
  {
   "cell_type": "code",
   "execution_count": null,
   "id": "c44f6107",
   "metadata": {},
   "outputs": [],
   "source": [
    "y = df[['Price']]"
   ]
  },
  {
   "cell_type": "code",
   "execution_count": null,
   "id": "9cf413bf",
   "metadata": {},
   "outputs": [],
   "source": [
    "print(y.shape)\n",
    "y.head()"
   ]
  },
  {
   "cell_type": "code",
   "execution_count": null,
   "id": "9169ac36",
   "metadata": {},
   "outputs": [],
   "source": [
    "lr = LinearRegression()"
   ]
  },
  {
   "cell_type": "code",
   "execution_count": null,
   "id": "e584235a",
   "metadata": {},
   "outputs": [],
   "source": [
    "lr.fit(X,y)"
   ]
  },
  {
   "cell_type": "code",
   "execution_count": null,
   "id": "c2b81bd1",
   "metadata": {},
   "outputs": [],
   "source": [
    "print(lr.intercept_)\n",
    "print(lr.coef_)"
   ]
  },
  {
   "cell_type": "code",
   "execution_count": null,
   "id": "cabf4077",
   "metadata": {},
   "outputs": [],
   "source": [
    "y_pred = lr.predict(X)"
   ]
  }
 ],
 "metadata": {
  "kernelspec": {
   "display_name": "Python 3",
   "language": "python",
   "name": "python3"
  },
  "language_info": {
   "codemirror_mode": {
    "name": "ipython",
    "version": 3
   },
   "file_extension": ".py",
   "mimetype": "text/x-python",
   "name": "python",
   "nbconvert_exporter": "python",
   "pygments_lexer": "ipython3",
   "version": "3.8.8"
  }
 },
 "nbformat": 4,
 "nbformat_minor": 5
}
