{
 "cells": [
  {
   "cell_type": "markdown",
   "id": "8b40e224",
   "metadata": {},
   "source": [
    "# Project 3: Web APIs & Classification"
   ]
  },
  {
   "cell_type": "markdown",
   "id": "07c8db8a",
   "metadata": {},
   "source": [
    "**Part 2 Data Cleaning and Exploratory Data Analysis**"
   ]
  },
  {
   "cell_type": "markdown",
   "id": "d8dd715a",
   "metadata": {},
   "source": [
    "Imports "
   ]
  },
  {
   "cell_type": "code",
   "execution_count": 1,
   "id": "3a512e38",
   "metadata": {},
   "outputs": [],
   "source": [
    "import numpy as np\n",
    "import pandas as pd\n",
    "from datetime import datetime\n",
    "import matplotlib.pylab as plt\n",
    "import seaborn as sns\n",
    "import re\n",
    "\n",
    "import warnings\n",
    "warnings.filterwarnings('ignore')\n",
    "\n",
    "from nltk.stem import WordNetLemmatizer\n",
    "import nltk\n",
    "from sklearn.feature_extraction.text import CountVectorizer, TfidfVectorizer"
   ]
  },
  {
   "cell_type": "markdown",
   "id": "79a31ad9",
   "metadata": {},
   "source": [
    "Read in Dataset"
   ]
  },
  {
   "cell_type": "code",
   "execution_count": 2,
   "id": "381b397c",
   "metadata": {},
   "outputs": [],
   "source": [
    "#import data\n",
    "# r/TheOnion \n",
    "onion = pd.read_csv('./onion.csv')\n",
    "\n",
    "# r/nottheonion \n",
    "not_onion = pd.read_csv('./not_onion.csv')"
   ]
  },
  {
   "cell_type": "code",
   "execution_count": 3,
   "id": "349d2a44",
   "metadata": {},
   "outputs": [
    {
     "name": "stdout",
     "output_type": "stream",
     "text": [
      "(2497, 8)\n"
     ]
    },
    {
     "data": {
      "text/html": [
       "<div>\n",
       "<style scoped>\n",
       "    .dataframe tbody tr th:only-of-type {\n",
       "        vertical-align: middle;\n",
       "    }\n",
       "\n",
       "    .dataframe tbody tr th {\n",
       "        vertical-align: top;\n",
       "    }\n",
       "\n",
       "    .dataframe thead th {\n",
       "        text-align: right;\n",
       "    }\n",
       "</style>\n",
       "<table border=\"1\" class=\"dataframe\">\n",
       "  <thead>\n",
       "    <tr style=\"text-align: right;\">\n",
       "      <th></th>\n",
       "      <th>Unnamed: 0</th>\n",
       "      <th>subreddit</th>\n",
       "      <th>author</th>\n",
       "      <th>domain</th>\n",
       "      <th>title</th>\n",
       "      <th>num_comments</th>\n",
       "      <th>score</th>\n",
       "      <th>timestamp</th>\n",
       "    </tr>\n",
       "  </thead>\n",
       "  <tbody>\n",
       "    <tr>\n",
       "      <th>0</th>\n",
       "      <td>0</td>\n",
       "      <td>TheOnion</td>\n",
       "      <td>mothershipq</td>\n",
       "      <td>theonion.com</td>\n",
       "      <td>Surgeon Kind Of Pissed Patient Seeing Her Defo...</td>\n",
       "      <td>0</td>\n",
       "      <td>1</td>\n",
       "      <td>1640973300</td>\n",
       "    </tr>\n",
       "    <tr>\n",
       "      <th>1</th>\n",
       "      <td>1</td>\n",
       "      <td>TheOnion</td>\n",
       "      <td>-ImYourHuckleberry-</td>\n",
       "      <td>theartnewspaper.com</td>\n",
       "      <td>McDonald’s blocked from building drive-through...</td>\n",
       "      <td>1</td>\n",
       "      <td>1</td>\n",
       "      <td>1640971771</td>\n",
       "    </tr>\n",
       "    <tr>\n",
       "      <th>2</th>\n",
       "      <td>2</td>\n",
       "      <td>TheOnion</td>\n",
       "      <td>dwaxe</td>\n",
       "      <td>theonion.com</td>\n",
       "      <td>Gwyneth Paltrow Touts New Diamond-Encrusted Tr...</td>\n",
       "      <td>0</td>\n",
       "      <td>1</td>\n",
       "      <td>1640955671</td>\n",
       "    </tr>\n",
       "    <tr>\n",
       "      <th>3</th>\n",
       "      <td>3</td>\n",
       "      <td>TheOnion</td>\n",
       "      <td>dwaxe</td>\n",
       "      <td>theonion.com</td>\n",
       "      <td>Artist Crafting Music Box Hopes It Delights At...</td>\n",
       "      <td>0</td>\n",
       "      <td>1</td>\n",
       "      <td>1640955669</td>\n",
       "    </tr>\n",
       "    <tr>\n",
       "      <th>4</th>\n",
       "      <td>4</td>\n",
       "      <td>TheOnion</td>\n",
       "      <td>dwaxe</td>\n",
       "      <td>theonion.com</td>\n",
       "      <td>Homeowner Trying To Smoke Out Snakes Accidenta...</td>\n",
       "      <td>0</td>\n",
       "      <td>1</td>\n",
       "      <td>1640955668</td>\n",
       "    </tr>\n",
       "  </tbody>\n",
       "</table>\n",
       "</div>"
      ],
      "text/plain": [
       "   Unnamed: 0 subreddit               author               domain  \\\n",
       "0           0  TheOnion          mothershipq         theonion.com   \n",
       "1           1  TheOnion  -ImYourHuckleberry-  theartnewspaper.com   \n",
       "2           2  TheOnion                dwaxe         theonion.com   \n",
       "3           3  TheOnion                dwaxe         theonion.com   \n",
       "4           4  TheOnion                dwaxe         theonion.com   \n",
       "\n",
       "                                               title  num_comments  score  \\\n",
       "0  Surgeon Kind Of Pissed Patient Seeing Her Defo...             0      1   \n",
       "1  McDonald’s blocked from building drive-through...             1      1   \n",
       "2  Gwyneth Paltrow Touts New Diamond-Encrusted Tr...             0      1   \n",
       "3  Artist Crafting Music Box Hopes It Delights At...             0      1   \n",
       "4  Homeowner Trying To Smoke Out Snakes Accidenta...             0      1   \n",
       "\n",
       "    timestamp  \n",
       "0  1640973300  \n",
       "1  1640971771  \n",
       "2  1640955671  \n",
       "3  1640955669  \n",
       "4  1640955668  "
      ]
     },
     "execution_count": 3,
     "metadata": {},
     "output_type": "execute_result"
    }
   ],
   "source": [
    "# first 5 rows onion\n",
    "print(onion.shape)\n",
    "onion.head()"
   ]
  },
  {
   "cell_type": "code",
   "execution_count": 4,
   "id": "7d440cb9",
   "metadata": {},
   "outputs": [
    {
     "name": "stdout",
     "output_type": "stream",
     "text": [
      "(2497, 8)\n"
     ]
    },
    {
     "data": {
      "text/html": [
       "<div>\n",
       "<style scoped>\n",
       "    .dataframe tbody tr th:only-of-type {\n",
       "        vertical-align: middle;\n",
       "    }\n",
       "\n",
       "    .dataframe tbody tr th {\n",
       "        vertical-align: top;\n",
       "    }\n",
       "\n",
       "    .dataframe thead th {\n",
       "        text-align: right;\n",
       "    }\n",
       "</style>\n",
       "<table border=\"1\" class=\"dataframe\">\n",
       "  <thead>\n",
       "    <tr style=\"text-align: right;\">\n",
       "      <th></th>\n",
       "      <th>Unnamed: 0</th>\n",
       "      <th>subreddit</th>\n",
       "      <th>author</th>\n",
       "      <th>domain</th>\n",
       "      <th>title</th>\n",
       "      <th>num_comments</th>\n",
       "      <th>score</th>\n",
       "      <th>timestamp</th>\n",
       "    </tr>\n",
       "  </thead>\n",
       "  <tbody>\n",
       "    <tr>\n",
       "      <th>0</th>\n",
       "      <td>0</td>\n",
       "      <td>nottheonion</td>\n",
       "      <td>Taco_duck68</td>\n",
       "      <td>wral.com</td>\n",
       "      <td>Man attempts to pay for car with rap, steals p...</td>\n",
       "      <td>0</td>\n",
       "      <td>1</td>\n",
       "      <td>1640995192</td>\n",
       "    </tr>\n",
       "    <tr>\n",
       "      <th>1</th>\n",
       "      <td>1</td>\n",
       "      <td>nottheonion</td>\n",
       "      <td>BlackNingaa</td>\n",
       "      <td>bloodyelbow.com</td>\n",
       "      <td>Former UFC fighter reveals past as sex worker ...</td>\n",
       "      <td>1</td>\n",
       "      <td>1</td>\n",
       "      <td>1640994707</td>\n",
       "    </tr>\n",
       "    <tr>\n",
       "      <th>2</th>\n",
       "      <td>2</td>\n",
       "      <td>nottheonion</td>\n",
       "      <td>Lopsided_File_1642</td>\n",
       "      <td>facebook.com</td>\n",
       "      <td>Log into Facebook</td>\n",
       "      <td>1</td>\n",
       "      <td>1</td>\n",
       "      <td>1640991506</td>\n",
       "    </tr>\n",
       "    <tr>\n",
       "      <th>3</th>\n",
       "      <td>3</td>\n",
       "      <td>nottheonion</td>\n",
       "      <td>SkinnyWhiteGirl19</td>\n",
       "      <td>theartnewspaper.com</td>\n",
       "      <td>McDonald’s blocked from building drive-through...</td>\n",
       "      <td>0</td>\n",
       "      <td>1</td>\n",
       "      <td>1640990429</td>\n",
       "    </tr>\n",
       "    <tr>\n",
       "      <th>4</th>\n",
       "      <td>4</td>\n",
       "      <td>nottheonion</td>\n",
       "      <td>kids-cake-and-crazy</td>\n",
       "      <td>kjrh.com</td>\n",
       "      <td>Legendary actress Betty White dies at 99 on Ne...</td>\n",
       "      <td>0</td>\n",
       "      <td>1</td>\n",
       "      <td>1640989181</td>\n",
       "    </tr>\n",
       "  </tbody>\n",
       "</table>\n",
       "</div>"
      ],
      "text/plain": [
       "   Unnamed: 0    subreddit               author               domain  \\\n",
       "0           0  nottheonion          Taco_duck68             wral.com   \n",
       "1           1  nottheonion          BlackNingaa      bloodyelbow.com   \n",
       "2           2  nottheonion   Lopsided_File_1642         facebook.com   \n",
       "3           3  nottheonion    SkinnyWhiteGirl19  theartnewspaper.com   \n",
       "4           4  nottheonion  kids-cake-and-crazy             kjrh.com   \n",
       "\n",
       "                                               title  num_comments  score  \\\n",
       "0  Man attempts to pay for car with rap, steals p...             0      1   \n",
       "1  Former UFC fighter reveals past as sex worker ...             1      1   \n",
       "2                                  Log into Facebook             1      1   \n",
       "3  McDonald’s blocked from building drive-through...             0      1   \n",
       "4  Legendary actress Betty White dies at 99 on Ne...             0      1   \n",
       "\n",
       "    timestamp  \n",
       "0  1640995192  \n",
       "1  1640994707  \n",
       "2  1640991506  \n",
       "3  1640990429  \n",
       "4  1640989181  "
      ]
     },
     "execution_count": 4,
     "metadata": {},
     "output_type": "execute_result"
    }
   ],
   "source": [
    "# first 5 rows not_onion\n",
    "print(not_onion.shape)\n",
    "not_onion.head()"
   ]
  },
  {
   "cell_type": "markdown",
   "id": "4effc0f3",
   "metadata": {},
   "source": [
    "Change Timestamp format"
   ]
  },
  {
   "cell_type": "code",
   "execution_count": 5,
   "id": "221869a3",
   "metadata": {},
   "outputs": [],
   "source": [
    "# Convert Timestamp to Datetime\n",
    "onion['timestamp'] = pd.to_datetime(onion['timestamp'], unit='s')\n",
    "not_onion['timestamp'] = pd.to_datetime(not_onion['timestamp'], unit='s')"
   ]
  },
  {
   "cell_type": "code",
   "execution_count": 6,
   "id": "dbf22d13",
   "metadata": {},
   "outputs": [
    {
     "name": "stdout",
     "output_type": "stream",
     "text": [
      "theonion start: 2020-03-25 21:26:19\n",
      "theonion end: 2021-12-31 17:55:00\n",
      "nottheonion start: 2021-12-15 17:40:36\n",
      "nottheonion end: 2021-12-31 23:59:52\n"
     ]
    }
   ],
   "source": [
    "# date-range of scraped data from both subreddits\n",
    "print(\"theonion start:\", onion['timestamp'].min())\n",
    "print(\"theonion end:\", onion['timestamp'].max())\n",
    "print(\"nottheonion start:\", not_onion['timestamp'].min())\n",
    "print(\"nottheonion end:\", not_onion['timestamp'].max())"
   ]
  },
  {
   "cell_type": "code",
   "execution_count": 7,
   "id": "32956dee",
   "metadata": {},
   "outputs": [
    {
     "name": "stdout",
     "output_type": "stream",
     "text": [
      "(2497, 8)\n"
     ]
    },
    {
     "data": {
      "text/html": [
       "<div>\n",
       "<style scoped>\n",
       "    .dataframe tbody tr th:only-of-type {\n",
       "        vertical-align: middle;\n",
       "    }\n",
       "\n",
       "    .dataframe tbody tr th {\n",
       "        vertical-align: top;\n",
       "    }\n",
       "\n",
       "    .dataframe thead th {\n",
       "        text-align: right;\n",
       "    }\n",
       "</style>\n",
       "<table border=\"1\" class=\"dataframe\">\n",
       "  <thead>\n",
       "    <tr style=\"text-align: right;\">\n",
       "      <th></th>\n",
       "      <th>Unnamed: 0</th>\n",
       "      <th>subreddit</th>\n",
       "      <th>author</th>\n",
       "      <th>domain</th>\n",
       "      <th>title</th>\n",
       "      <th>num_comments</th>\n",
       "      <th>score</th>\n",
       "      <th>timestamp</th>\n",
       "    </tr>\n",
       "  </thead>\n",
       "  <tbody>\n",
       "    <tr>\n",
       "      <th>0</th>\n",
       "      <td>0</td>\n",
       "      <td>TheOnion</td>\n",
       "      <td>mothershipq</td>\n",
       "      <td>theonion.com</td>\n",
       "      <td>Surgeon Kind Of Pissed Patient Seeing Her Defo...</td>\n",
       "      <td>0</td>\n",
       "      <td>1</td>\n",
       "      <td>2021-12-31 17:55:00</td>\n",
       "    </tr>\n",
       "    <tr>\n",
       "      <th>1</th>\n",
       "      <td>1</td>\n",
       "      <td>TheOnion</td>\n",
       "      <td>-ImYourHuckleberry-</td>\n",
       "      <td>theartnewspaper.com</td>\n",
       "      <td>McDonald’s blocked from building drive-through...</td>\n",
       "      <td>1</td>\n",
       "      <td>1</td>\n",
       "      <td>2021-12-31 17:29:31</td>\n",
       "    </tr>\n",
       "    <tr>\n",
       "      <th>2</th>\n",
       "      <td>2</td>\n",
       "      <td>TheOnion</td>\n",
       "      <td>dwaxe</td>\n",
       "      <td>theonion.com</td>\n",
       "      <td>Gwyneth Paltrow Touts New Diamond-Encrusted Tr...</td>\n",
       "      <td>0</td>\n",
       "      <td>1</td>\n",
       "      <td>2021-12-31 13:01:11</td>\n",
       "    </tr>\n",
       "    <tr>\n",
       "      <th>3</th>\n",
       "      <td>3</td>\n",
       "      <td>TheOnion</td>\n",
       "      <td>dwaxe</td>\n",
       "      <td>theonion.com</td>\n",
       "      <td>Artist Crafting Music Box Hopes It Delights At...</td>\n",
       "      <td>0</td>\n",
       "      <td>1</td>\n",
       "      <td>2021-12-31 13:01:09</td>\n",
       "    </tr>\n",
       "    <tr>\n",
       "      <th>4</th>\n",
       "      <td>4</td>\n",
       "      <td>TheOnion</td>\n",
       "      <td>dwaxe</td>\n",
       "      <td>theonion.com</td>\n",
       "      <td>Homeowner Trying To Smoke Out Snakes Accidenta...</td>\n",
       "      <td>0</td>\n",
       "      <td>1</td>\n",
       "      <td>2021-12-31 13:01:08</td>\n",
       "    </tr>\n",
       "  </tbody>\n",
       "</table>\n",
       "</div>"
      ],
      "text/plain": [
       "   Unnamed: 0 subreddit               author               domain  \\\n",
       "0           0  TheOnion          mothershipq         theonion.com   \n",
       "1           1  TheOnion  -ImYourHuckleberry-  theartnewspaper.com   \n",
       "2           2  TheOnion                dwaxe         theonion.com   \n",
       "3           3  TheOnion                dwaxe         theonion.com   \n",
       "4           4  TheOnion                dwaxe         theonion.com   \n",
       "\n",
       "                                               title  num_comments  score  \\\n",
       "0  Surgeon Kind Of Pissed Patient Seeing Her Defo...             0      1   \n",
       "1  McDonald’s blocked from building drive-through...             1      1   \n",
       "2  Gwyneth Paltrow Touts New Diamond-Encrusted Tr...             0      1   \n",
       "3  Artist Crafting Music Box Hopes It Delights At...             0      1   \n",
       "4  Homeowner Trying To Smoke Out Snakes Accidenta...             0      1   \n",
       "\n",
       "            timestamp  \n",
       "0 2021-12-31 17:55:00  \n",
       "1 2021-12-31 17:29:31  \n",
       "2 2021-12-31 13:01:11  \n",
       "3 2021-12-31 13:01:09  \n",
       "4 2021-12-31 13:01:08  "
      ]
     },
     "execution_count": 7,
     "metadata": {},
     "output_type": "execute_result"
    }
   ],
   "source": [
    "# check head onion\n",
    "print(onion.shape)\n",
    "onion.head()"
   ]
  },
  {
   "cell_type": "code",
   "execution_count": 8,
   "id": "a2922cd1",
   "metadata": {},
   "outputs": [
    {
     "name": "stdout",
     "output_type": "stream",
     "text": [
      "(2497, 8)\n"
     ]
    },
    {
     "data": {
      "text/html": [
       "<div>\n",
       "<style scoped>\n",
       "    .dataframe tbody tr th:only-of-type {\n",
       "        vertical-align: middle;\n",
       "    }\n",
       "\n",
       "    .dataframe tbody tr th {\n",
       "        vertical-align: top;\n",
       "    }\n",
       "\n",
       "    .dataframe thead th {\n",
       "        text-align: right;\n",
       "    }\n",
       "</style>\n",
       "<table border=\"1\" class=\"dataframe\">\n",
       "  <thead>\n",
       "    <tr style=\"text-align: right;\">\n",
       "      <th></th>\n",
       "      <th>Unnamed: 0</th>\n",
       "      <th>subreddit</th>\n",
       "      <th>author</th>\n",
       "      <th>domain</th>\n",
       "      <th>title</th>\n",
       "      <th>num_comments</th>\n",
       "      <th>score</th>\n",
       "      <th>timestamp</th>\n",
       "    </tr>\n",
       "  </thead>\n",
       "  <tbody>\n",
       "    <tr>\n",
       "      <th>0</th>\n",
       "      <td>0</td>\n",
       "      <td>nottheonion</td>\n",
       "      <td>Taco_duck68</td>\n",
       "      <td>wral.com</td>\n",
       "      <td>Man attempts to pay for car with rap, steals p...</td>\n",
       "      <td>0</td>\n",
       "      <td>1</td>\n",
       "      <td>2021-12-31 23:59:52</td>\n",
       "    </tr>\n",
       "    <tr>\n",
       "      <th>1</th>\n",
       "      <td>1</td>\n",
       "      <td>nottheonion</td>\n",
       "      <td>BlackNingaa</td>\n",
       "      <td>bloodyelbow.com</td>\n",
       "      <td>Former UFC fighter reveals past as sex worker ...</td>\n",
       "      <td>1</td>\n",
       "      <td>1</td>\n",
       "      <td>2021-12-31 23:51:47</td>\n",
       "    </tr>\n",
       "    <tr>\n",
       "      <th>2</th>\n",
       "      <td>2</td>\n",
       "      <td>nottheonion</td>\n",
       "      <td>Lopsided_File_1642</td>\n",
       "      <td>facebook.com</td>\n",
       "      <td>Log into Facebook</td>\n",
       "      <td>1</td>\n",
       "      <td>1</td>\n",
       "      <td>2021-12-31 22:58:26</td>\n",
       "    </tr>\n",
       "    <tr>\n",
       "      <th>3</th>\n",
       "      <td>3</td>\n",
       "      <td>nottheonion</td>\n",
       "      <td>SkinnyWhiteGirl19</td>\n",
       "      <td>theartnewspaper.com</td>\n",
       "      <td>McDonald’s blocked from building drive-through...</td>\n",
       "      <td>0</td>\n",
       "      <td>1</td>\n",
       "      <td>2021-12-31 22:40:29</td>\n",
       "    </tr>\n",
       "    <tr>\n",
       "      <th>4</th>\n",
       "      <td>4</td>\n",
       "      <td>nottheonion</td>\n",
       "      <td>kids-cake-and-crazy</td>\n",
       "      <td>kjrh.com</td>\n",
       "      <td>Legendary actress Betty White dies at 99 on Ne...</td>\n",
       "      <td>0</td>\n",
       "      <td>1</td>\n",
       "      <td>2021-12-31 22:19:41</td>\n",
       "    </tr>\n",
       "  </tbody>\n",
       "</table>\n",
       "</div>"
      ],
      "text/plain": [
       "   Unnamed: 0    subreddit               author               domain  \\\n",
       "0           0  nottheonion          Taco_duck68             wral.com   \n",
       "1           1  nottheonion          BlackNingaa      bloodyelbow.com   \n",
       "2           2  nottheonion   Lopsided_File_1642         facebook.com   \n",
       "3           3  nottheonion    SkinnyWhiteGirl19  theartnewspaper.com   \n",
       "4           4  nottheonion  kids-cake-and-crazy             kjrh.com   \n",
       "\n",
       "                                               title  num_comments  score  \\\n",
       "0  Man attempts to pay for car with rap, steals p...             0      1   \n",
       "1  Former UFC fighter reveals past as sex worker ...             1      1   \n",
       "2                                  Log into Facebook             1      1   \n",
       "3  McDonald’s blocked from building drive-through...             0      1   \n",
       "4  Legendary actress Betty White dies at 99 on Ne...             0      1   \n",
       "\n",
       "            timestamp  \n",
       "0 2021-12-31 23:59:52  \n",
       "1 2021-12-31 23:51:47  \n",
       "2 2021-12-31 22:58:26  \n",
       "3 2021-12-31 22:40:29  \n",
       "4 2021-12-31 22:19:41  "
      ]
     },
     "execution_count": 8,
     "metadata": {},
     "output_type": "execute_result"
    }
   ],
   "source": [
    "#check head not_onion\n",
    "print(not_onion.shape)\n",
    "not_onion.head()"
   ]
  },
  {
   "cell_type": "code",
   "execution_count": 9,
   "id": "00c45ec2",
   "metadata": {
    "scrolled": true
   },
   "outputs": [
    {
     "name": "stdout",
     "output_type": "stream",
     "text": [
      "<class 'pandas.core.frame.DataFrame'>\n",
      "RangeIndex: 2497 entries, 0 to 2496\n",
      "Data columns (total 8 columns):\n",
      " #   Column        Non-Null Count  Dtype         \n",
      "---  ------        --------------  -----         \n",
      " 0   Unnamed: 0    2497 non-null   int64         \n",
      " 1   subreddit     2497 non-null   object        \n",
      " 2   author        2497 non-null   object        \n",
      " 3   domain        2497 non-null   object        \n",
      " 4   title         2497 non-null   object        \n",
      " 5   num_comments  2497 non-null   int64         \n",
      " 6   score         2497 non-null   int64         \n",
      " 7   timestamp     2497 non-null   datetime64[ns]\n",
      "dtypes: datetime64[ns](1), int64(3), object(4)\n",
      "memory usage: 156.2+ KB\n"
     ]
    }
   ],
   "source": [
    "onion.info(5)"
   ]
  },
  {
   "cell_type": "code",
   "execution_count": 10,
   "id": "6d0cfeb1",
   "metadata": {
    "scrolled": true
   },
   "outputs": [
    {
     "name": "stdout",
     "output_type": "stream",
     "text": [
      "<class 'pandas.core.frame.DataFrame'>\n",
      "RangeIndex: 2497 entries, 0 to 2496\n",
      "Data columns (total 8 columns):\n",
      " #   Column        Non-Null Count  Dtype         \n",
      "---  ------        --------------  -----         \n",
      " 0   Unnamed: 0    2497 non-null   int64         \n",
      " 1   subreddit     2497 non-null   object        \n",
      " 2   author        2497 non-null   object        \n",
      " 3   domain        2497 non-null   object        \n",
      " 4   title         2497 non-null   object        \n",
      " 5   num_comments  2497 non-null   int64         \n",
      " 6   score         2497 non-null   int64         \n",
      " 7   timestamp     2497 non-null   datetime64[ns]\n",
      "dtypes: datetime64[ns](1), int64(3), object(4)\n",
      "memory usage: 156.2+ KB\n"
     ]
    }
   ],
   "source": [
    "not_onion.info(5)"
   ]
  },
  {
   "cell_type": "markdown",
   "id": "7d5a5bc7",
   "metadata": {},
   "source": [
    "# Clean Data #"
   ]
  },
  {
   "cell_type": "markdown",
   "id": "519b3ab5",
   "metadata": {},
   "source": [
    "Remove duplicates "
   ]
  },
  {
   "cell_type": "code",
   "execution_count": 11,
   "id": "0b3963f3",
   "metadata": {},
   "outputs": [
    {
     "name": "stdout",
     "output_type": "stream",
     "text": [
      "Original Number of posts in onion:  2497\n",
      "Original Number of post in notonion:  2497\n",
      "\n",
      "Number of posts onion after drop duplicates:  2324\n",
      "Number of posts notonion after drop duplicates:  1920\n"
     ]
    }
   ],
   "source": [
    "# Remove all Duplicate Rows\n",
    "print(\"Original Number of posts in onion: \", len(onion))\n",
    "print(\"Original Number of post in notonion: \", len(not_onion))\n",
    "print('')\n",
    "\n",
    "onion.drop_duplicates(subset = 'title', inplace = True)\n",
    "not_onion.drop_duplicates(subset = 'title', inplace = True)\n",
    "\n",
    "print(\"Number of posts onion after drop duplicates: \", len(onion))\n",
    "print(\"Number of posts notonion after drop duplicates: \", len(not_onion))"
   ]
  },
  {
   "cell_type": "markdown",
   "id": "9930d51e",
   "metadata": {},
   "source": [
    "After drop, onion= 2324 and not onion= 1920."
   ]
  },
  {
   "cell_type": "code",
   "execution_count": 12,
   "id": "e834a3c5",
   "metadata": {},
   "outputs": [
    {
     "data": {
      "text/plain": [
       "Unnamed: 0      0\n",
       "subreddit       0\n",
       "author          0\n",
       "domain          0\n",
       "title           0\n",
       "num_comments    0\n",
       "score           0\n",
       "timestamp       0\n",
       "dtype: int64"
      ]
     },
     "execution_count": 12,
     "metadata": {},
     "output_type": "execute_result"
    }
   ],
   "source": [
    "# Check for null in columns onion\n",
    "onion.isnull().sum()"
   ]
  },
  {
   "cell_type": "code",
   "execution_count": 13,
   "id": "477b4d10",
   "metadata": {},
   "outputs": [
    {
     "data": {
      "text/plain": [
       "Unnamed: 0      0\n",
       "subreddit       0\n",
       "author          0\n",
       "domain          0\n",
       "title           0\n",
       "num_comments    0\n",
       "score           0\n",
       "timestamp       0\n",
       "dtype: int64"
      ]
     },
     "execution_count": 13,
     "metadata": {},
     "output_type": "execute_result"
    }
   ],
   "source": [
    "#check for null in not onion\n",
    "not_onion.isnull().sum()"
   ]
  },
  {
   "cell_type": "code",
   "execution_count": 14,
   "id": "ee098854",
   "metadata": {},
   "outputs": [
    {
     "data": {
      "text/html": [
       "<div>\n",
       "<style scoped>\n",
       "    .dataframe tbody tr th:only-of-type {\n",
       "        vertical-align: middle;\n",
       "    }\n",
       "\n",
       "    .dataframe tbody tr th {\n",
       "        vertical-align: top;\n",
       "    }\n",
       "\n",
       "    .dataframe thead tr th {\n",
       "        text-align: left;\n",
       "    }\n",
       "\n",
       "    .dataframe thead tr:last-of-type th {\n",
       "        text-align: right;\n",
       "    }\n",
       "</style>\n",
       "<table border=\"1\" class=\"dataframe\">\n",
       "  <thead>\n",
       "    <tr>\n",
       "      <th></th>\n",
       "      <th colspan=\"8\" halign=\"left\">Unnamed: 0</th>\n",
       "      <th colspan=\"5\" halign=\"left\">num_comments</th>\n",
       "      <th colspan=\"8\" halign=\"left\">score</th>\n",
       "    </tr>\n",
       "    <tr>\n",
       "      <th></th>\n",
       "      <th>count</th>\n",
       "      <th>mean</th>\n",
       "      <th>std</th>\n",
       "      <th>min</th>\n",
       "      <th>25%</th>\n",
       "      <th>50%</th>\n",
       "      <th>75%</th>\n",
       "      <th>max</th>\n",
       "      <th>count</th>\n",
       "      <th>mean</th>\n",
       "      <th>...</th>\n",
       "      <th>75%</th>\n",
       "      <th>max</th>\n",
       "      <th>count</th>\n",
       "      <th>mean</th>\n",
       "      <th>std</th>\n",
       "      <th>min</th>\n",
       "      <th>25%</th>\n",
       "      <th>50%</th>\n",
       "      <th>75%</th>\n",
       "      <th>max</th>\n",
       "    </tr>\n",
       "    <tr>\n",
       "      <th>subreddit</th>\n",
       "      <th></th>\n",
       "      <th></th>\n",
       "      <th></th>\n",
       "      <th></th>\n",
       "      <th></th>\n",
       "      <th></th>\n",
       "      <th></th>\n",
       "      <th></th>\n",
       "      <th></th>\n",
       "      <th></th>\n",
       "      <th></th>\n",
       "      <th></th>\n",
       "      <th></th>\n",
       "      <th></th>\n",
       "      <th></th>\n",
       "      <th></th>\n",
       "      <th></th>\n",
       "      <th></th>\n",
       "      <th></th>\n",
       "      <th></th>\n",
       "      <th></th>\n",
       "    </tr>\n",
       "  </thead>\n",
       "  <tbody>\n",
       "    <tr>\n",
       "      <th>TheOnion</th>\n",
       "      <td>2324.0</td>\n",
       "      <td>1234.011618</td>\n",
       "      <td>721.899194</td>\n",
       "      <td>0.0</td>\n",
       "      <td>604.75</td>\n",
       "      <td>1227.5</td>\n",
       "      <td>1863.25</td>\n",
       "      <td>2496.0</td>\n",
       "      <td>2324.0</td>\n",
       "      <td>5.835628</td>\n",
       "      <td>...</td>\n",
       "      <td>6.0</td>\n",
       "      <td>421.0</td>\n",
       "      <td>2324.0</td>\n",
       "      <td>23.212134</td>\n",
       "      <td>153.730943</td>\n",
       "      <td>0.0</td>\n",
       "      <td>1.0</td>\n",
       "      <td>1.0</td>\n",
       "      <td>1.0</td>\n",
       "      <td>3732.0</td>\n",
       "    </tr>\n",
       "  </tbody>\n",
       "</table>\n",
       "<p>1 rows × 24 columns</p>\n",
       "</div>"
      ],
      "text/plain": [
       "          Unnamed: 0                                                         \\\n",
       "               count         mean         std  min     25%     50%      75%   \n",
       "subreddit                                                                     \n",
       "TheOnion      2324.0  1234.011618  721.899194  0.0  604.75  1227.5  1863.25   \n",
       "\n",
       "                  num_comments            ...               score             \\\n",
       "              max        count      mean  ...  75%    max   count       mean   \n",
       "subreddit                                 ...                                  \n",
       "TheOnion   2496.0       2324.0  5.835628  ...  6.0  421.0  2324.0  23.212134   \n",
       "\n",
       "                                                   \n",
       "                  std  min  25%  50%  75%     max  \n",
       "subreddit                                          \n",
       "TheOnion   153.730943  0.0  1.0  1.0  1.0  3732.0  \n",
       "\n",
       "[1 rows x 24 columns]"
      ]
     },
     "execution_count": 14,
     "metadata": {},
     "output_type": "execute_result"
    }
   ],
   "source": [
    "onion.groupby('subreddit').describe()"
   ]
  },
  {
   "cell_type": "code",
   "execution_count": 15,
   "id": "15005be9",
   "metadata": {},
   "outputs": [
    {
     "data": {
      "text/html": [
       "<div>\n",
       "<style scoped>\n",
       "    .dataframe tbody tr th:only-of-type {\n",
       "        vertical-align: middle;\n",
       "    }\n",
       "\n",
       "    .dataframe tbody tr th {\n",
       "        vertical-align: top;\n",
       "    }\n",
       "\n",
       "    .dataframe thead tr th {\n",
       "        text-align: left;\n",
       "    }\n",
       "\n",
       "    .dataframe thead tr:last-of-type th {\n",
       "        text-align: right;\n",
       "    }\n",
       "</style>\n",
       "<table border=\"1\" class=\"dataframe\">\n",
       "  <thead>\n",
       "    <tr>\n",
       "      <th></th>\n",
       "      <th colspan=\"8\" halign=\"left\">Unnamed: 0</th>\n",
       "      <th colspan=\"5\" halign=\"left\">num_comments</th>\n",
       "      <th colspan=\"8\" halign=\"left\">score</th>\n",
       "    </tr>\n",
       "    <tr>\n",
       "      <th></th>\n",
       "      <th>count</th>\n",
       "      <th>mean</th>\n",
       "      <th>std</th>\n",
       "      <th>min</th>\n",
       "      <th>25%</th>\n",
       "      <th>50%</th>\n",
       "      <th>75%</th>\n",
       "      <th>max</th>\n",
       "      <th>count</th>\n",
       "      <th>mean</th>\n",
       "      <th>...</th>\n",
       "      <th>75%</th>\n",
       "      <th>max</th>\n",
       "      <th>count</th>\n",
       "      <th>mean</th>\n",
       "      <th>std</th>\n",
       "      <th>min</th>\n",
       "      <th>25%</th>\n",
       "      <th>50%</th>\n",
       "      <th>75%</th>\n",
       "      <th>max</th>\n",
       "    </tr>\n",
       "    <tr>\n",
       "      <th>subreddit</th>\n",
       "      <th></th>\n",
       "      <th></th>\n",
       "      <th></th>\n",
       "      <th></th>\n",
       "      <th></th>\n",
       "      <th></th>\n",
       "      <th></th>\n",
       "      <th></th>\n",
       "      <th></th>\n",
       "      <th></th>\n",
       "      <th></th>\n",
       "      <th></th>\n",
       "      <th></th>\n",
       "      <th></th>\n",
       "      <th></th>\n",
       "      <th></th>\n",
       "      <th></th>\n",
       "      <th></th>\n",
       "      <th></th>\n",
       "      <th></th>\n",
       "      <th></th>\n",
       "    </tr>\n",
       "  </thead>\n",
       "  <tbody>\n",
       "    <tr>\n",
       "      <th>nottheonion</th>\n",
       "      <td>1920.0</td>\n",
       "      <td>1200.104687</td>\n",
       "      <td>706.701818</td>\n",
       "      <td>0.0</td>\n",
       "      <td>615.75</td>\n",
       "      <td>1185.5</td>\n",
       "      <td>1748.5</td>\n",
       "      <td>2496.0</td>\n",
       "      <td>1920.0</td>\n",
       "      <td>0.390104</td>\n",
       "      <td>...</td>\n",
       "      <td>1.0</td>\n",
       "      <td>2.0</td>\n",
       "      <td>1920.0</td>\n",
       "      <td>1.004687</td>\n",
       "      <td>0.068322</td>\n",
       "      <td>1.0</td>\n",
       "      <td>1.0</td>\n",
       "      <td>1.0</td>\n",
       "      <td>1.0</td>\n",
       "      <td>2.0</td>\n",
       "    </tr>\n",
       "  </tbody>\n",
       "</table>\n",
       "<p>1 rows × 24 columns</p>\n",
       "</div>"
      ],
      "text/plain": [
       "            Unnamed: 0                                                        \\\n",
       "                 count         mean         std  min     25%     50%     75%   \n",
       "subreddit                                                                      \n",
       "nottheonion     1920.0  1200.104687  706.701818  0.0  615.75  1185.5  1748.5   \n",
       "\n",
       "                    num_comments            ...             score            \\\n",
       "                max        count      mean  ...  75%  max   count      mean   \n",
       "subreddit                                   ...                               \n",
       "nottheonion  2496.0       1920.0  0.390104  ...  1.0  2.0  1920.0  1.004687   \n",
       "\n",
       "                                                \n",
       "                  std  min  25%  50%  75%  max  \n",
       "subreddit                                       \n",
       "nottheonion  0.068322  1.0  1.0  1.0  1.0  2.0  \n",
       "\n",
       "[1 rows x 24 columns]"
      ]
     },
     "execution_count": 15,
     "metadata": {},
     "output_type": "execute_result"
    }
   ],
   "source": [
    "not_onion.groupby('subreddit').describe()"
   ]
  },
  {
   "cell_type": "markdown",
   "id": "5545dcea",
   "metadata": {},
   "source": [
    "# Exploratory Data Analysis (EDA)"
   ]
  },
  {
   "cell_type": "markdown",
   "id": "121900ac",
   "metadata": {},
   "source": [
    "Bar Plot Function"
   ]
  },
  {
   "cell_type": "code",
   "execution_count": 16,
   "id": "ae0149c7",
   "metadata": {},
   "outputs": [],
   "source": [
    "def bar_plot(x, y, title, color):    \n",
    "    \n",
    "    #Making barplot \n",
    "    plt.figure(figsize=(9,5))\n",
    "    g=sns.barplot(x, y, color = color)    \n",
    "    ax=g\n",
    "\n",
    "    # Label graph\n",
    "    plt.title(title, fontsize = 14)\n",
    "    plt.xticks(fontsize = 11)\n",
    "\n",
    "    # create a list to collect the plt.patches data\n",
    "    totals = []\n",
    "\n",
    "    # find values and append to list\n",
    "    for p in ax.patches:\n",
    "        totals.append(p.get_width())\n",
    "\n",
    "    # set individual total bar \n",
    "    total = sum(totals)\n",
    "\n",
    "    # set individual bar lables using above list\n",
    "    for p in ax.patches:\n",
    "        # get_width pulls left or right; get_y pushes up or down\n",
    "        ax.text(p.get_width()+.3, p.get_y()+.38, \\\n",
    "                int(p.get_width()), fontsize=12)"
   ]
  },
  {
   "cell_type": "markdown",
   "id": "13d05a80",
   "metadata": {},
   "source": [
    "**r/TheOnion:** Bar plot- Most Active Authors"
   ]
  },
  {
   "cell_type": "code",
   "execution_count": 17,
   "id": "ae6a60dc",
   "metadata": {},
   "outputs": [
    {
     "data": {
      "image/png": "[encoded data removed]",
      "text/plain": [
       "<Figure size 648x360 with 1 Axes>"
      ]
     },
     "metadata": {
      "needs_background": "light"
     },
     "output_type": "display_data"
    }
   ],
   "source": [
    "# Set x values: # of posts \n",
    "onion_a = onion['author'].value_counts() \n",
    "onion_a = onion_a[onion_a > 100].sort_values(ascending=False)\n",
    "\n",
    "# Set y values to Authors \n",
    "onion_a_index = list(onion_a.index)\n",
    "\n",
    "# call the function\n",
    "bar_plot(onion_a.values, onion_a_index, 'The Most Active Authors: r/TheOnion', 'r') "
   ]
  },
  {
   "cell_type": "markdown",
   "id": "08d80c57",
   "metadata": {},
   "source": [
    "4 authors has more than 100 posts counts"
   ]
  },
  {
   "cell_type": "markdown",
   "id": "79ce90d2",
   "metadata": {},
   "source": [
    "**r/nottheonion:** Bar plot- Most Active Authors"
   ]
  },
  {
   "cell_type": "code",
   "execution_count": 18,
   "id": "1cb6da33",
   "metadata": {},
   "outputs": [
    {
     "data": {
      "image/png": "[encoded data removed]",
      "text/plain": [
       "<Figure size 648x360 with 1 Axes>"
      ]
     },
     "metadata": {
      "needs_background": "light"
     },
     "output_type": "display_data"
    }
   ],
   "source": [
    "# Set x values: # of posts\n",
    "not_onion_a = not_onion['author'].value_counts() \n",
    "not_onion_a = not_onion_a[not_onion_a > 100].sort_values(ascending=False)\n",
    "\n",
    "# Set y values: Authors\n",
    "not_onion_a_index = list(not_onion_a.index)\n",
    "\n",
    "# Call function\n",
    "bar_plot(not_onion_a.values, not_onion_a_index, 'Most Active Authors: r/nottheonion','b') "
   ]
  },
  {
   "cell_type": "markdown",
   "id": "32dccb35",
   "metadata": {},
   "source": [
    "Only one author has 100 post count"
   ]
  },
  {
   "cell_type": "markdown",
   "id": "fa609fec",
   "metadata": {},
   "source": [
    "**r/TheOnion:** Most Referenced Domains"
   ]
  },
  {
   "cell_type": "code",
   "execution_count": 19,
   "id": "b182cbbb",
   "metadata": {},
   "outputs": [
    {
     "data": {
      "image/png": "[encoded data removed]",
      "text/plain": [
       "<Figure size 648x360 with 1 Axes>"
      ]
     },
     "metadata": {
      "needs_background": "light"
     },
     "output_type": "display_data"
    }
   ],
   "source": [
    "# Set x values: # of posts\n",
    "onion_domain = onion['domain'].value_counts() \n",
    "onion_domain = onion_domain.sort_values(ascending=False).head(5)\n",
    "\n",
    "# Set y values: Domains \n",
    "onion_domain_index = list(onion_domain.index)\n",
    "\n",
    "# Call function\n",
    "bar_plot(onion_domain.values, onion_domain_index, 'Most Referenced Domains: r/TheOnion','r') "
   ]
  },
  {
   "cell_type": "markdown",
   "id": "f4fda529",
   "metadata": {},
   "source": [
    "As we can see, the most referenced domains from r/TheOnion are TheOnion. \n",
    "This subreddit allows articles from other news websites therefore the results as shown."
   ]
  },
  {
   "cell_type": "markdown",
   "id": "b5b9ce3a",
   "metadata": {},
   "source": [
    "**r/nottheonion:** Most Referenced Domains"
   ]
  },
  {
   "cell_type": "code",
   "execution_count": 20,
   "id": "2198cb90",
   "metadata": {},
   "outputs": [
    {
     "data": {
      "image/png": "[encoded data removed]",
      "text/plain": [
       "<Figure size 648x360 with 1 Axes>"
      ]
     },
     "metadata": {
      "needs_background": "light"
     },
     "output_type": "display_data"
    }
   ],
   "source": [
    "# Set x values: # posts that are greater than 100\n",
    "notonion_domain = not_onion['domain'].value_counts() \n",
    "notonion_domain = notonion_domain.sort_values(ascending=False).head(5)\n",
    "\n",
    "# Set y values: Names of authors \n",
    "notonion_domain_index = list(notonion_domain.index)\n",
    "\n",
    "# Call function\n",
    "bar_plot(notonion_domain.values, notonion_domain_index, 'Most Referenced Domains: r/nottheonion','b') "
   ]
  },
  {
   "cell_type": "markdown",
   "id": "bc99e40b",
   "metadata": {},
   "source": [
    "Here starlightinternational786.world is the most referenced domain in r/nottheonion!"
   ]
  },
  {
   "cell_type": "markdown",
   "id": "69a48a87",
   "metadata": {},
   "source": [
    "**Concatenate two DataFrames**"
   ]
  },
  {
   "cell_type": "code",
   "execution_count": 21,
   "id": "51026a4b",
   "metadata": {},
   "outputs": [],
   "source": [
    "#Let's Combine both onion & not_onion to have only 'subreddit'  \n",
    "combined_onion = pd.concat([onion[['subreddit', 'title']], not_onion[['subreddit', 'title']]], axis=0)\n",
    "\n",
    "#Reset index\n",
    "combined_onion = combined_onion.reset_index(drop=True)"
   ]
  },
  {
   "cell_type": "code",
   "execution_count": 22,
   "id": "f373c550",
   "metadata": {},
   "outputs": [
    {
     "data": {
      "text/html": [
       "<div>\n",
       "<style scoped>\n",
       "    .dataframe tbody tr th:only-of-type {\n",
       "        vertical-align: middle;\n",
       "    }\n",
       "\n",
       "    .dataframe tbody tr th {\n",
       "        vertical-align: top;\n",
       "    }\n",
       "\n",
       "    .dataframe thead th {\n",
       "        text-align: right;\n",
       "    }\n",
       "</style>\n",
       "<table border=\"1\" class=\"dataframe\">\n",
       "  <thead>\n",
       "    <tr style=\"text-align: right;\">\n",
       "      <th></th>\n",
       "      <th>subreddit</th>\n",
       "      <th>title</th>\n",
       "    </tr>\n",
       "  </thead>\n",
       "  <tbody>\n",
       "    <tr>\n",
       "      <th>0</th>\n",
       "      <td>TheOnion</td>\n",
       "      <td>Surgeon Kind Of Pissed Patient Seeing Her Defo...</td>\n",
       "    </tr>\n",
       "    <tr>\n",
       "      <th>1</th>\n",
       "      <td>TheOnion</td>\n",
       "      <td>McDonald’s blocked from building drive-through...</td>\n",
       "    </tr>\n",
       "    <tr>\n",
       "      <th>2</th>\n",
       "      <td>TheOnion</td>\n",
       "      <td>Gwyneth Paltrow Touts New Diamond-Encrusted Tr...</td>\n",
       "    </tr>\n",
       "    <tr>\n",
       "      <th>3</th>\n",
       "      <td>TheOnion</td>\n",
       "      <td>Artist Crafting Music Box Hopes It Delights At...</td>\n",
       "    </tr>\n",
       "    <tr>\n",
       "      <th>4</th>\n",
       "      <td>TheOnion</td>\n",
       "      <td>Homeowner Trying To Smoke Out Snakes Accidenta...</td>\n",
       "    </tr>\n",
       "  </tbody>\n",
       "</table>\n",
       "</div>"
      ],
      "text/plain": [
       "  subreddit                                              title\n",
       "0  TheOnion  Surgeon Kind Of Pissed Patient Seeing Her Defo...\n",
       "1  TheOnion  McDonald’s blocked from building drive-through...\n",
       "2  TheOnion  Gwyneth Paltrow Touts New Diamond-Encrusted Tr...\n",
       "3  TheOnion  Artist Crafting Music Box Hopes It Delights At...\n",
       "4  TheOnion  Homeowner Trying To Smoke Out Snakes Accidenta..."
      ]
     },
     "execution_count": 22,
     "metadata": {},
     "output_type": "execute_result"
    }
   ],
   "source": [
    "#'TheOnion' first 10 preview\n",
    "combined_onion.head(5)"
   ]
  },
  {
   "cell_type": "code",
   "execution_count": 23,
   "id": "6d3dbfcf",
   "metadata": {},
   "outputs": [
    {
     "data": {
      "text/html": [
       "<div>\n",
       "<style scoped>\n",
       "    .dataframe tbody tr th:only-of-type {\n",
       "        vertical-align: middle;\n",
       "    }\n",
       "\n",
       "    .dataframe tbody tr th {\n",
       "        vertical-align: top;\n",
       "    }\n",
       "\n",
       "    .dataframe thead th {\n",
       "        text-align: right;\n",
       "    }\n",
       "</style>\n",
       "<table border=\"1\" class=\"dataframe\">\n",
       "  <thead>\n",
       "    <tr style=\"text-align: right;\">\n",
       "      <th></th>\n",
       "      <th>subreddit</th>\n",
       "      <th>title</th>\n",
       "    </tr>\n",
       "  </thead>\n",
       "  <tbody>\n",
       "    <tr>\n",
       "      <th>4239</th>\n",
       "      <td>nottheonion</td>\n",
       "      <td>Stress, not fun, cited as a major reason to co...</td>\n",
       "    </tr>\n",
       "    <tr>\n",
       "      <th>4240</th>\n",
       "      <td>nottheonion</td>\n",
       "      <td>Gov. Ron DeSantis (R-FL) quotes MLK while intr...</td>\n",
       "    </tr>\n",
       "    <tr>\n",
       "      <th>4241</th>\n",
       "      <td>nottheonion</td>\n",
       "      <td>Gov. Ron DeSantis quotes MLK while introducing...</td>\n",
       "    </tr>\n",
       "    <tr>\n",
       "      <th>4242</th>\n",
       "      <td>nottheonion</td>\n",
       "      <td>A scientist who taught rats how to play Doom I...</td>\n",
       "    </tr>\n",
       "    <tr>\n",
       "      <th>4243</th>\n",
       "      <td>nottheonion</td>\n",
       "      <td>Italian antivax health worker who said \"i hope...</td>\n",
       "    </tr>\n",
       "  </tbody>\n",
       "</table>\n",
       "</div>"
      ],
      "text/plain": [
       "        subreddit                                              title\n",
       "4239  nottheonion  Stress, not fun, cited as a major reason to co...\n",
       "4240  nottheonion  Gov. Ron DeSantis (R-FL) quotes MLK while intr...\n",
       "4241  nottheonion  Gov. Ron DeSantis quotes MLK while introducing...\n",
       "4242  nottheonion  A scientist who taught rats how to play Doom I...\n",
       "4243  nottheonion  Italian antivax health worker who said \"i hope..."
      ]
     },
     "execution_count": 23,
     "metadata": {},
     "output_type": "execute_result"
    }
   ],
   "source": [
    "# show 'nottheonion' using tail\n",
    "combined_onion.tail(5)"
   ]
  },
  {
   "cell_type": "code",
   "execution_count": 24,
   "id": "a7c9f3c3",
   "metadata": {},
   "outputs": [
    {
     "data": {
      "text/plain": [
       "(4244, 2)"
      ]
     },
     "execution_count": 24,
     "metadata": {},
     "output_type": "execute_result"
    }
   ],
   "source": [
    "# check concat dataframe\n",
    "combined_onion.shape"
   ]
  },
  {
   "cell_type": "code",
   "execution_count": 25,
   "id": "4bff309c",
   "metadata": {},
   "outputs": [],
   "source": [
    "combined_onion['title_len']=combined_onion['title'].apply(len)"
   ]
  },
  {
   "cell_type": "code",
   "execution_count": 26,
   "id": "027770f9",
   "metadata": {},
   "outputs": [
    {
     "data": {
      "image/png": "[encoded data removed]",
      "text/plain": [
       "<Figure size 1080x432 with 1 Axes>"
      ]
     },
     "metadata": {
      "needs_background": "light"
     },
     "output_type": "display_data"
    }
   ],
   "source": [
    "#normal boxplot\n",
    "fig, ax = plt.subplots(figsize=(15,6))\n",
    "ax = sns.boxplot(y= 'subreddit', \n",
    "                    x='title_len',\n",
    "                    data=combined_onion, \n",
    "                    orient='h', \n",
    "                    hue='subreddit',\n",
    "                    palette='RdBu')\n",
    "\n",
    "ax.set_title('Box Plot of Title Length',fontsize=20)\n",
    "ax.set_xlabel(\"Title Length (alphanumeric)\",fontsize=15)\n",
    "ax.set_ylabel(\"Subreddit\",fontsize=15)\n",
    "ax.tick_params(labelsize=15)"
   ]
  },
  {
   "cell_type": "markdown",
   "id": "41593a34",
   "metadata": {},
   "source": [
    "The distribution of the post length were both right-skewed. Title length for both subreddit are generally the same though r/nottheonion post has silghtly wider spread. However, there seem to have a few extreme outlier for subreddit TheOnion."
   ]
  },
  {
   "cell_type": "markdown",
   "id": "40c9e9cb",
   "metadata": {},
   "source": [
    "Let's Binarize Target as 'subreddit'\n",
    "\n",
    " -   TheOnion: 1\n",
    " -  nottheonion: 0\n"
   ]
  },
  {
   "cell_type": "code",
   "execution_count": 27,
   "id": "bcf439f7",
   "metadata": {},
   "outputs": [],
   "source": [
    "# Replace TheOnion with 1 and nottheonion with 0\n",
    "combined_onion[\"subreddit\"] = combined_onion[\"subreddit\"].map({\"nottheonion\": 0, \"TheOnion\": 1})"
   ]
  },
  {
   "cell_type": "code",
   "execution_count": 28,
   "id": "16132f6d",
   "metadata": {},
   "outputs": [
    {
     "name": "stdout",
     "output_type": "stream",
     "text": [
      "(4244, 3)\n"
     ]
    },
    {
     "data": {
      "text/html": [
       "<div>\n",
       "<style scoped>\n",
       "    .dataframe tbody tr th:only-of-type {\n",
       "        vertical-align: middle;\n",
       "    }\n",
       "\n",
       "    .dataframe tbody tr th {\n",
       "        vertical-align: top;\n",
       "    }\n",
       "\n",
       "    .dataframe thead th {\n",
       "        text-align: right;\n",
       "    }\n",
       "</style>\n",
       "<table border=\"1\" class=\"dataframe\">\n",
       "  <thead>\n",
       "    <tr style=\"text-align: right;\">\n",
       "      <th></th>\n",
       "      <th>subreddit</th>\n",
       "      <th>title</th>\n",
       "      <th>title_len</th>\n",
       "    </tr>\n",
       "  </thead>\n",
       "  <tbody>\n",
       "    <tr>\n",
       "      <th>0</th>\n",
       "      <td>1</td>\n",
       "      <td>Surgeon Kind Of Pissed Patient Seeing Her Defo...</td>\n",
       "      <td>109</td>\n",
       "    </tr>\n",
       "    <tr>\n",
       "      <th>1</th>\n",
       "      <td>1</td>\n",
       "      <td>McDonald’s blocked from building drive-through...</td>\n",
       "      <td>83</td>\n",
       "    </tr>\n",
       "    <tr>\n",
       "      <th>2</th>\n",
       "      <td>1</td>\n",
       "      <td>Gwyneth Paltrow Touts New Diamond-Encrusted Tr...</td>\n",
       "      <td>89</td>\n",
       "    </tr>\n",
       "    <tr>\n",
       "      <th>3</th>\n",
       "      <td>1</td>\n",
       "      <td>Artist Crafting Music Box Hopes It Delights At...</td>\n",
       "      <td>81</td>\n",
       "    </tr>\n",
       "    <tr>\n",
       "      <th>4</th>\n",
       "      <td>1</td>\n",
       "      <td>Homeowner Trying To Smoke Out Snakes Accidenta...</td>\n",
       "      <td>66</td>\n",
       "    </tr>\n",
       "    <tr>\n",
       "      <th>5</th>\n",
       "      <td>1</td>\n",
       "      <td>Dictionary.Com Names ‘Allyship’ 2021 Word Of T...</td>\n",
       "      <td>53</td>\n",
       "    </tr>\n",
       "    <tr>\n",
       "      <th>6</th>\n",
       "      <td>1</td>\n",
       "      <td>Man Realizes ‘The Texas Chain Saw Massacre’ Ac...</td>\n",
       "      <td>95</td>\n",
       "    </tr>\n",
       "    <tr>\n",
       "      <th>7</th>\n",
       "      <td>1</td>\n",
       "      <td>Idiotic New Year’s Resolutions You’ll Never Ac...</td>\n",
       "      <td>57</td>\n",
       "    </tr>\n",
       "    <tr>\n",
       "      <th>8</th>\n",
       "      <td>1</td>\n",
       "      <td>New Initiative Decreases Stigma Against Homele...</td>\n",
       "      <td>86</td>\n",
       "    </tr>\n",
       "    <tr>\n",
       "      <th>9</th>\n",
       "      <td>1</td>\n",
       "      <td>Italian Dentist Presents Fake Arm For Vaccinat...</td>\n",
       "      <td>61</td>\n",
       "    </tr>\n",
       "  </tbody>\n",
       "</table>\n",
       "</div>"
      ],
      "text/plain": [
       "   subreddit                                              title  title_len\n",
       "0          1  Surgeon Kind Of Pissed Patient Seeing Her Defo...        109\n",
       "1          1  McDonald’s blocked from building drive-through...         83\n",
       "2          1  Gwyneth Paltrow Touts New Diamond-Encrusted Tr...         89\n",
       "3          1  Artist Crafting Music Box Hopes It Delights At...         81\n",
       "4          1  Homeowner Trying To Smoke Out Snakes Accidenta...         66\n",
       "5          1  Dictionary.Com Names ‘Allyship’ 2021 Word Of T...         53\n",
       "6          1  Man Realizes ‘The Texas Chain Saw Massacre’ Ac...         95\n",
       "7          1  Idiotic New Year’s Resolutions You’ll Never Ac...         57\n",
       "8          1  New Initiative Decreases Stigma Against Homele...         86\n",
       "9          1  Italian Dentist Presents Fake Arm For Vaccinat...         61"
      ]
     },
     "execution_count": 28,
     "metadata": {},
     "output_type": "execute_result"
    }
   ],
   "source": [
    "# check shape\n",
    "print(combined_onion.shape)\n",
    "\n",
    "# head of 10\n",
    "combined_onion.head(10)"
   ]
  },
  {
   "cell_type": "code",
   "execution_count": 29,
   "id": "af8d98a2",
   "metadata": {},
   "outputs": [
    {
     "data": {
      "text/html": [
       "<div>\n",
       "<style scoped>\n",
       "    .dataframe tbody tr th:only-of-type {\n",
       "        vertical-align: middle;\n",
       "    }\n",
       "\n",
       "    .dataframe tbody tr th {\n",
       "        vertical-align: top;\n",
       "    }\n",
       "\n",
       "    .dataframe thead th {\n",
       "        text-align: right;\n",
       "    }\n",
       "</style>\n",
       "<table border=\"1\" class=\"dataframe\">\n",
       "  <thead>\n",
       "    <tr style=\"text-align: right;\">\n",
       "      <th></th>\n",
       "      <th>subreddit</th>\n",
       "      <th>title</th>\n",
       "      <th>title_len</th>\n",
       "    </tr>\n",
       "  </thead>\n",
       "  <tbody>\n",
       "    <tr>\n",
       "      <th>4239</th>\n",
       "      <td>0</td>\n",
       "      <td>Stress, not fun, cited as a major reason to co...</td>\n",
       "      <td>83</td>\n",
       "    </tr>\n",
       "    <tr>\n",
       "      <th>4240</th>\n",
       "      <td>0</td>\n",
       "      <td>Gov. Ron DeSantis (R-FL) quotes MLK while intr...</td>\n",
       "      <td>101</td>\n",
       "    </tr>\n",
       "    <tr>\n",
       "      <th>4241</th>\n",
       "      <td>0</td>\n",
       "      <td>Gov. Ron DeSantis quotes MLK while introducing...</td>\n",
       "      <td>94</td>\n",
       "    </tr>\n",
       "    <tr>\n",
       "      <th>4242</th>\n",
       "      <td>0</td>\n",
       "      <td>A scientist who taught rats how to play Doom I...</td>\n",
       "      <td>76</td>\n",
       "    </tr>\n",
       "    <tr>\n",
       "      <th>4243</th>\n",
       "      <td>0</td>\n",
       "      <td>Italian antivax health worker who said \"i hope...</td>\n",
       "      <td>131</td>\n",
       "    </tr>\n",
       "  </tbody>\n",
       "</table>\n",
       "</div>"
      ],
      "text/plain": [
       "      subreddit                                              title  title_len\n",
       "4239          0  Stress, not fun, cited as a major reason to co...         83\n",
       "4240          0  Gov. Ron DeSantis (R-FL) quotes MLK while intr...        101\n",
       "4241          0  Gov. Ron DeSantis quotes MLK while introducing...         94\n",
       "4242          0  A scientist who taught rats how to play Doom I...         76\n",
       "4243          0  Italian antivax health worker who said \"i hope...        131"
      ]
     },
     "execution_count": 29,
     "metadata": {},
     "output_type": "execute_result"
    }
   ],
   "source": [
    "# chekc tail which will show 0 nottheonion\n",
    "combined_onion.tail(5)"
   ]
  },
  {
   "cell_type": "code",
   "execution_count": 30,
   "id": "641013d7",
   "metadata": {},
   "outputs": [
    {
     "data": {
      "text/plain": [
       "1    2324\n",
       "0    1920\n",
       "Name: subreddit, dtype: int64"
      ]
     },
     "execution_count": 30,
     "metadata": {},
     "output_type": "execute_result"
    }
   ],
   "source": [
    "combined_onion['subreddit'].value_counts()"
   ]
  },
  {
   "cell_type": "code",
   "execution_count": 31,
   "id": "4802c19d",
   "metadata": {},
   "outputs": [
    {
     "data": {
      "text/plain": [
       "(4244, 3)"
      ]
     },
     "execution_count": 31,
     "metadata": {},
     "output_type": "execute_result"
    }
   ],
   "source": [
    "# check shape\n",
    "combined_onion.shape"
   ]
  },
  {
   "cell_type": "markdown",
   "id": "d084235f",
   "metadata": {},
   "source": [
    "# Pre-Processing"
   ]
  },
  {
   "cell_type": "markdown",
   "id": "0c404d51",
   "metadata": {},
   "source": [
    "Text data or punctuation will be removed, lemmatizer use to help to shorten words. This helps to combine similar forms of the same word."
   ]
  },
  {
   "cell_type": "code",
   "execution_count": 32,
   "id": "8ca759e7",
   "metadata": {},
   "outputs": [],
   "source": [
    "#make a cleaning function\n",
    "def clean_data(dataframe):\n",
    "    \n",
    "     \n",
    "    # Remove punctation\n",
    "    dataframe['title'] = dataframe['title'].str.replace('[^\\w\\s]',' ')\n",
    "\n",
    "    # Transform all text to lowercase\n",
    "    dataframe['title'] = dataframe['title'].str.lower()\n",
    "    \n",
    "    # Remove numbers \n",
    "    dataframe['title'] = dataframe['title'].str.replace('[^A-Za-z]',' ')\n",
    "\n",
    "    # Make sure any double-spaces are single \n",
    "    dataframe['title'] = dataframe['title'].str.replace('  ',' ')\n",
    "    dataframe['title'] = dataframe['title'].str.replace('  ',' ')\n",
    "\n",
    "    print(dataframe.shape)\n",
    "    return dataframe.head()"
   ]
  },
  {
   "cell_type": "code",
   "execution_count": 33,
   "id": "2734de5c",
   "metadata": {},
   "outputs": [
    {
     "name": "stdout",
     "output_type": "stream",
     "text": [
      "(2324, 8)\n"
     ]
    },
    {
     "data": {
      "text/html": [
       "<div>\n",
       "<style scoped>\n",
       "    .dataframe tbody tr th:only-of-type {\n",
       "        vertical-align: middle;\n",
       "    }\n",
       "\n",
       "    .dataframe tbody tr th {\n",
       "        vertical-align: top;\n",
       "    }\n",
       "\n",
       "    .dataframe thead th {\n",
       "        text-align: right;\n",
       "    }\n",
       "</style>\n",
       "<table border=\"1\" class=\"dataframe\">\n",
       "  <thead>\n",
       "    <tr style=\"text-align: right;\">\n",
       "      <th></th>\n",
       "      <th>Unnamed: 0</th>\n",
       "      <th>subreddit</th>\n",
       "      <th>author</th>\n",
       "      <th>domain</th>\n",
       "      <th>title</th>\n",
       "      <th>num_comments</th>\n",
       "      <th>score</th>\n",
       "      <th>timestamp</th>\n",
       "    </tr>\n",
       "  </thead>\n",
       "  <tbody>\n",
       "    <tr>\n",
       "      <th>0</th>\n",
       "      <td>0</td>\n",
       "      <td>TheOnion</td>\n",
       "      <td>mothershipq</td>\n",
       "      <td>theonion.com</td>\n",
       "      <td>surgeon kind of pissed patient seeing her defo...</td>\n",
       "      <td>0</td>\n",
       "      <td>1</td>\n",
       "      <td>2021-12-31 17:55:00</td>\n",
       "    </tr>\n",
       "    <tr>\n",
       "      <th>1</th>\n",
       "      <td>1</td>\n",
       "      <td>TheOnion</td>\n",
       "      <td>-ImYourHuckleberry-</td>\n",
       "      <td>theartnewspaper.com</td>\n",
       "      <td>mcdonald s blocked from building drive through...</td>\n",
       "      <td>1</td>\n",
       "      <td>1</td>\n",
       "      <td>2021-12-31 17:29:31</td>\n",
       "    </tr>\n",
       "    <tr>\n",
       "      <th>2</th>\n",
       "      <td>2</td>\n",
       "      <td>TheOnion</td>\n",
       "      <td>dwaxe</td>\n",
       "      <td>theonion.com</td>\n",
       "      <td>gwyneth paltrow touts new diamond encrusted tr...</td>\n",
       "      <td>0</td>\n",
       "      <td>1</td>\n",
       "      <td>2021-12-31 13:01:11</td>\n",
       "    </tr>\n",
       "    <tr>\n",
       "      <th>3</th>\n",
       "      <td>3</td>\n",
       "      <td>TheOnion</td>\n",
       "      <td>dwaxe</td>\n",
       "      <td>theonion.com</td>\n",
       "      <td>artist crafting music box hopes it delights at...</td>\n",
       "      <td>0</td>\n",
       "      <td>1</td>\n",
       "      <td>2021-12-31 13:01:09</td>\n",
       "    </tr>\n",
       "    <tr>\n",
       "      <th>4</th>\n",
       "      <td>4</td>\n",
       "      <td>TheOnion</td>\n",
       "      <td>dwaxe</td>\n",
       "      <td>theonion.com</td>\n",
       "      <td>homeowner trying to smoke out snakes accidenta...</td>\n",
       "      <td>0</td>\n",
       "      <td>1</td>\n",
       "      <td>2021-12-31 13:01:08</td>\n",
       "    </tr>\n",
       "  </tbody>\n",
       "</table>\n",
       "</div>"
      ],
      "text/plain": [
       "   Unnamed: 0 subreddit               author               domain  \\\n",
       "0           0  TheOnion          mothershipq         theonion.com   \n",
       "1           1  TheOnion  -ImYourHuckleberry-  theartnewspaper.com   \n",
       "2           2  TheOnion                dwaxe         theonion.com   \n",
       "3           3  TheOnion                dwaxe         theonion.com   \n",
       "4           4  TheOnion                dwaxe         theonion.com   \n",
       "\n",
       "                                               title  num_comments  score  \\\n",
       "0  surgeon kind of pissed patient seeing her defo...             0      1   \n",
       "1  mcdonald s blocked from building drive through...             1      1   \n",
       "2  gwyneth paltrow touts new diamond encrusted tr...             0      1   \n",
       "3  artist crafting music box hopes it delights at...             0      1   \n",
       "4  homeowner trying to smoke out snakes accidenta...             0      1   \n",
       "\n",
       "            timestamp  \n",
       "0 2021-12-31 17:55:00  \n",
       "1 2021-12-31 17:29:31  \n",
       "2 2021-12-31 13:01:11  \n",
       "3 2021-12-31 13:01:09  \n",
       "4 2021-12-31 13:01:08  "
      ]
     },
     "execution_count": 33,
     "metadata": {},
     "output_type": "execute_result"
    }
   ],
   "source": [
    "# check cleaned data onion\n",
    "clean_data(onion)"
   ]
  },
  {
   "cell_type": "code",
   "execution_count": 34,
   "id": "9652f539",
   "metadata": {},
   "outputs": [
    {
     "name": "stdout",
     "output_type": "stream",
     "text": [
      "(1920, 8)\n"
     ]
    },
    {
     "data": {
      "text/html": [
       "<div>\n",
       "<style scoped>\n",
       "    .dataframe tbody tr th:only-of-type {\n",
       "        vertical-align: middle;\n",
       "    }\n",
       "\n",
       "    .dataframe tbody tr th {\n",
       "        vertical-align: top;\n",
       "    }\n",
       "\n",
       "    .dataframe thead th {\n",
       "        text-align: right;\n",
       "    }\n",
       "</style>\n",
       "<table border=\"1\" class=\"dataframe\">\n",
       "  <thead>\n",
       "    <tr style=\"text-align: right;\">\n",
       "      <th></th>\n",
       "      <th>Unnamed: 0</th>\n",
       "      <th>subreddit</th>\n",
       "      <th>author</th>\n",
       "      <th>domain</th>\n",
       "      <th>title</th>\n",
       "      <th>num_comments</th>\n",
       "      <th>score</th>\n",
       "      <th>timestamp</th>\n",
       "    </tr>\n",
       "  </thead>\n",
       "  <tbody>\n",
       "    <tr>\n",
       "      <th>0</th>\n",
       "      <td>0</td>\n",
       "      <td>nottheonion</td>\n",
       "      <td>Taco_duck68</td>\n",
       "      <td>wral.com</td>\n",
       "      <td>man attempts to pay for car with rap steals po...</td>\n",
       "      <td>0</td>\n",
       "      <td>1</td>\n",
       "      <td>2021-12-31 23:59:52</td>\n",
       "    </tr>\n",
       "    <tr>\n",
       "      <th>1</th>\n",
       "      <td>1</td>\n",
       "      <td>nottheonion</td>\n",
       "      <td>BlackNingaa</td>\n",
       "      <td>bloodyelbow.com</td>\n",
       "      <td>former ufc fighter reveals past as sex worker ...</td>\n",
       "      <td>1</td>\n",
       "      <td>1</td>\n",
       "      <td>2021-12-31 23:51:47</td>\n",
       "    </tr>\n",
       "    <tr>\n",
       "      <th>2</th>\n",
       "      <td>2</td>\n",
       "      <td>nottheonion</td>\n",
       "      <td>Lopsided_File_1642</td>\n",
       "      <td>facebook.com</td>\n",
       "      <td>log into facebook</td>\n",
       "      <td>1</td>\n",
       "      <td>1</td>\n",
       "      <td>2021-12-31 22:58:26</td>\n",
       "    </tr>\n",
       "    <tr>\n",
       "      <th>3</th>\n",
       "      <td>3</td>\n",
       "      <td>nottheonion</td>\n",
       "      <td>SkinnyWhiteGirl19</td>\n",
       "      <td>theartnewspaper.com</td>\n",
       "      <td>mcdonald s blocked from building drive through...</td>\n",
       "      <td>0</td>\n",
       "      <td>1</td>\n",
       "      <td>2021-12-31 22:40:29</td>\n",
       "    </tr>\n",
       "    <tr>\n",
       "      <th>4</th>\n",
       "      <td>4</td>\n",
       "      <td>nottheonion</td>\n",
       "      <td>kids-cake-and-crazy</td>\n",
       "      <td>kjrh.com</td>\n",
       "      <td>legendary actress betty white dies at on new y...</td>\n",
       "      <td>0</td>\n",
       "      <td>1</td>\n",
       "      <td>2021-12-31 22:19:41</td>\n",
       "    </tr>\n",
       "  </tbody>\n",
       "</table>\n",
       "</div>"
      ],
      "text/plain": [
       "   Unnamed: 0    subreddit               author               domain  \\\n",
       "0           0  nottheonion          Taco_duck68             wral.com   \n",
       "1           1  nottheonion          BlackNingaa      bloodyelbow.com   \n",
       "2           2  nottheonion   Lopsided_File_1642         facebook.com   \n",
       "3           3  nottheonion    SkinnyWhiteGirl19  theartnewspaper.com   \n",
       "4           4  nottheonion  kids-cake-and-crazy             kjrh.com   \n",
       "\n",
       "                                               title  num_comments  score  \\\n",
       "0  man attempts to pay for car with rap steals po...             0      1   \n",
       "1  former ufc fighter reveals past as sex worker ...             1      1   \n",
       "2                                  log into facebook             1      1   \n",
       "3  mcdonald s blocked from building drive through...             0      1   \n",
       "4  legendary actress betty white dies at on new y...             0      1   \n",
       "\n",
       "            timestamp  \n",
       "0 2021-12-31 23:59:52  \n",
       "1 2021-12-31 23:51:47  \n",
       "2 2021-12-31 22:58:26  \n",
       "3 2021-12-31 22:40:29  \n",
       "4 2021-12-31 22:19:41  "
      ]
     },
     "execution_count": 34,
     "metadata": {},
     "output_type": "execute_result"
    }
   ],
   "source": [
    "# check cleaned data notonion\n",
    "clean_data(not_onion)"
   ]
  },
  {
   "cell_type": "code",
   "execution_count": 35,
   "id": "d87e80c9",
   "metadata": {},
   "outputs": [],
   "source": [
    "def tokenize(text):\n",
    "    text = re.split('\\s+' ,text)\n",
    "    return [x.lower() for x in text]"
   ]
  },
  {
   "cell_type": "code",
   "execution_count": 36,
   "id": "9e61ffd3",
   "metadata": {},
   "outputs": [
    {
     "data": {
      "text/html": [
       "<div>\n",
       "<style scoped>\n",
       "    .dataframe tbody tr th:only-of-type {\n",
       "        vertical-align: middle;\n",
       "    }\n",
       "\n",
       "    .dataframe tbody tr th {\n",
       "        vertical-align: top;\n",
       "    }\n",
       "\n",
       "    .dataframe thead th {\n",
       "        text-align: right;\n",
       "    }\n",
       "</style>\n",
       "<table border=\"1\" class=\"dataframe\">\n",
       "  <thead>\n",
       "    <tr style=\"text-align: right;\">\n",
       "      <th></th>\n",
       "      <th>subreddit</th>\n",
       "      <th>title</th>\n",
       "      <th>title_len</th>\n",
       "      <th>tokens</th>\n",
       "    </tr>\n",
       "  </thead>\n",
       "  <tbody>\n",
       "    <tr>\n",
       "      <th>0</th>\n",
       "      <td>1</td>\n",
       "      <td>Surgeon Kind Of Pissed Patient Seeing Her Defo...</td>\n",
       "      <td>109</td>\n",
       "      <td>[surgeon, kind, of, pissed, patient, seeing, h...</td>\n",
       "    </tr>\n",
       "    <tr>\n",
       "      <th>1</th>\n",
       "      <td>1</td>\n",
       "      <td>McDonald’s blocked from building drive-through...</td>\n",
       "      <td>83</td>\n",
       "      <td>[mcdonald’s, blocked, from, building, drive-th...</td>\n",
       "    </tr>\n",
       "    <tr>\n",
       "      <th>2</th>\n",
       "      <td>1</td>\n",
       "      <td>Gwyneth Paltrow Touts New Diamond-Encrusted Tr...</td>\n",
       "      <td>89</td>\n",
       "      <td>[gwyneth, paltrow, touts, new, diamond-encrust...</td>\n",
       "    </tr>\n",
       "    <tr>\n",
       "      <th>3</th>\n",
       "      <td>1</td>\n",
       "      <td>Artist Crafting Music Box Hopes It Delights At...</td>\n",
       "      <td>81</td>\n",
       "      <td>[artist, crafting, music, box, hopes, it, deli...</td>\n",
       "    </tr>\n",
       "    <tr>\n",
       "      <th>4</th>\n",
       "      <td>1</td>\n",
       "      <td>Homeowner Trying To Smoke Out Snakes Accidenta...</td>\n",
       "      <td>66</td>\n",
       "      <td>[homeowner, trying, to, smoke, out, snakes, ac...</td>\n",
       "    </tr>\n",
       "  </tbody>\n",
       "</table>\n",
       "</div>"
      ],
      "text/plain": [
       "   subreddit                                              title  title_len  \\\n",
       "0          1  Surgeon Kind Of Pissed Patient Seeing Her Defo...        109   \n",
       "1          1  McDonald’s blocked from building drive-through...         83   \n",
       "2          1  Gwyneth Paltrow Touts New Diamond-Encrusted Tr...         89   \n",
       "3          1  Artist Crafting Music Box Hopes It Delights At...         81   \n",
       "4          1  Homeowner Trying To Smoke Out Snakes Accidenta...         66   \n",
       "\n",
       "                                              tokens  \n",
       "0  [surgeon, kind, of, pissed, patient, seeing, h...  \n",
       "1  [mcdonald’s, blocked, from, building, drive-th...  \n",
       "2  [gwyneth, paltrow, touts, new, diamond-encrust...  \n",
       "3  [artist, crafting, music, box, hopes, it, deli...  \n",
       "4  [homeowner, trying, to, smoke, out, snakes, ac...  "
      ]
     },
     "execution_count": 36,
     "metadata": {},
     "output_type": "execute_result"
    }
   ],
   "source": [
    "combined_onion['tokens'] = combined_onion['title'].apply(lambda msg : tokenize(msg))\n",
    "combined_onion.head()"
   ]
  },
  {
   "cell_type": "code",
   "execution_count": 37,
   "id": "404b0df2",
   "metadata": {},
   "outputs": [],
   "source": [
    "# Remove tokens with length less than 3\n",
    "def remove_small_words(text):\n",
    "    return [x for x in text if len(x) > 3 ]"
   ]
  },
  {
   "cell_type": "code",
   "execution_count": 38,
   "id": "8a2202a9",
   "metadata": {},
   "outputs": [
    {
     "data": {
      "text/html": [
       "<div>\n",
       "<style scoped>\n",
       "    .dataframe tbody tr th:only-of-type {\n",
       "        vertical-align: middle;\n",
       "    }\n",
       "\n",
       "    .dataframe tbody tr th {\n",
       "        vertical-align: top;\n",
       "    }\n",
       "\n",
       "    .dataframe thead th {\n",
       "        text-align: right;\n",
       "    }\n",
       "</style>\n",
       "<table border=\"1\" class=\"dataframe\">\n",
       "  <thead>\n",
       "    <tr style=\"text-align: right;\">\n",
       "      <th></th>\n",
       "      <th>subreddit</th>\n",
       "      <th>title</th>\n",
       "      <th>title_len</th>\n",
       "      <th>tokens</th>\n",
       "      <th>filtered_tokens</th>\n",
       "    </tr>\n",
       "  </thead>\n",
       "  <tbody>\n",
       "    <tr>\n",
       "      <th>0</th>\n",
       "      <td>1</td>\n",
       "      <td>Surgeon Kind Of Pissed Patient Seeing Her Defo...</td>\n",
       "      <td>109</td>\n",
       "      <td>[surgeon, kind, of, pissed, patient, seeing, h...</td>\n",
       "      <td>[surgeon, kind, pissed, patient, seeing, defor...</td>\n",
       "    </tr>\n",
       "    <tr>\n",
       "      <th>1</th>\n",
       "      <td>1</td>\n",
       "      <td>McDonald’s blocked from building drive-through...</td>\n",
       "      <td>83</td>\n",
       "      <td>[mcdonald’s, blocked, from, building, drive-th...</td>\n",
       "      <td>[mcdonald’s, blocked, from, building, drive-th...</td>\n",
       "    </tr>\n",
       "    <tr>\n",
       "      <th>2</th>\n",
       "      <td>1</td>\n",
       "      <td>Gwyneth Paltrow Touts New Diamond-Encrusted Tr...</td>\n",
       "      <td>89</td>\n",
       "      <td>[gwyneth, paltrow, touts, new, diamond-encrust...</td>\n",
       "      <td>[gwyneth, paltrow, touts, diamond-encrusted, t...</td>\n",
       "    </tr>\n",
       "    <tr>\n",
       "      <th>3</th>\n",
       "      <td>1</td>\n",
       "      <td>Artist Crafting Music Box Hopes It Delights At...</td>\n",
       "      <td>81</td>\n",
       "      <td>[artist, crafting, music, box, hopes, it, deli...</td>\n",
       "      <td>[artist, crafting, music, hopes, delights, lea...</td>\n",
       "    </tr>\n",
       "    <tr>\n",
       "      <th>4</th>\n",
       "      <td>1</td>\n",
       "      <td>Homeowner Trying To Smoke Out Snakes Accidenta...</td>\n",
       "      <td>66</td>\n",
       "      <td>[homeowner, trying, to, smoke, out, snakes, ac...</td>\n",
       "      <td>[homeowner, trying, smoke, snakes, accidentall...</td>\n",
       "    </tr>\n",
       "  </tbody>\n",
       "</table>\n",
       "</div>"
      ],
      "text/plain": [
       "   subreddit                                              title  title_len  \\\n",
       "0          1  Surgeon Kind Of Pissed Patient Seeing Her Defo...        109   \n",
       "1          1  McDonald’s blocked from building drive-through...         83   \n",
       "2          1  Gwyneth Paltrow Touts New Diamond-Encrusted Tr...         89   \n",
       "3          1  Artist Crafting Music Box Hopes It Delights At...         81   \n",
       "4          1  Homeowner Trying To Smoke Out Snakes Accidenta...         66   \n",
       "\n",
       "                                              tokens  \\\n",
       "0  [surgeon, kind, of, pissed, patient, seeing, h...   \n",
       "1  [mcdonald’s, blocked, from, building, drive-th...   \n",
       "2  [gwyneth, paltrow, touts, new, diamond-encrust...   \n",
       "3  [artist, crafting, music, box, hopes, it, deli...   \n",
       "4  [homeowner, trying, to, smoke, out, snakes, ac...   \n",
       "\n",
       "                                     filtered_tokens  \n",
       "0  [surgeon, kind, pissed, patient, seeing, defor...  \n",
       "1  [mcdonald’s, blocked, from, building, drive-th...  \n",
       "2  [gwyneth, paltrow, touts, diamond-encrusted, t...  \n",
       "3  [artist, crafting, music, hopes, delights, lea...  \n",
       "4  [homeowner, trying, smoke, snakes, accidentall...  "
      ]
     },
     "execution_count": 38,
     "metadata": {},
     "output_type": "execute_result"
    }
   ],
   "source": [
    "combined_onion['filtered_tokens'] = combined_onion['tokens'].apply(lambda x : remove_small_words(x))\n",
    "combined_onion.head()"
   ]
  },
  {
   "cell_type": "code",
   "execution_count": 39,
   "id": "4f132d14",
   "metadata": {},
   "outputs": [],
   "source": [
    "def remove_stopwords(text):\n",
    "    return [word for word in text if word not in nltk.corpus.stopwords.words('english')]"
   ]
  },
  {
   "cell_type": "code",
   "execution_count": 40,
   "id": "3df68cbd",
   "metadata": {},
   "outputs": [
    {
     "data": {
      "text/html": [
       "<div>\n",
       "<style scoped>\n",
       "    .dataframe tbody tr th:only-of-type {\n",
       "        vertical-align: middle;\n",
       "    }\n",
       "\n",
       "    .dataframe tbody tr th {\n",
       "        vertical-align: top;\n",
       "    }\n",
       "\n",
       "    .dataframe thead th {\n",
       "        text-align: right;\n",
       "    }\n",
       "</style>\n",
       "<table border=\"1\" class=\"dataframe\">\n",
       "  <thead>\n",
       "    <tr style=\"text-align: right;\">\n",
       "      <th></th>\n",
       "      <th>subreddit</th>\n",
       "      <th>title</th>\n",
       "      <th>title_len</th>\n",
       "      <th>tokens</th>\n",
       "      <th>filtered_tokens</th>\n",
       "      <th>clean_tokens</th>\n",
       "    </tr>\n",
       "  </thead>\n",
       "  <tbody>\n",
       "    <tr>\n",
       "      <th>0</th>\n",
       "      <td>1</td>\n",
       "      <td>Surgeon Kind Of Pissed Patient Seeing Her Defo...</td>\n",
       "      <td>109</td>\n",
       "      <td>[surgeon, kind, of, pissed, patient, seeing, h...</td>\n",
       "      <td>[surgeon, kind, pissed, patient, seeing, defor...</td>\n",
       "      <td>[surgeon, kind, pissed, patient, seeing, defor...</td>\n",
       "    </tr>\n",
       "    <tr>\n",
       "      <th>1</th>\n",
       "      <td>1</td>\n",
       "      <td>McDonald’s blocked from building drive-through...</td>\n",
       "      <td>83</td>\n",
       "      <td>[mcdonald’s, blocked, from, building, drive-th...</td>\n",
       "      <td>[mcdonald’s, blocked, from, building, drive-th...</td>\n",
       "      <td>[mcdonald’s, blocked, building, drive-through,...</td>\n",
       "    </tr>\n",
       "    <tr>\n",
       "      <th>2</th>\n",
       "      <td>1</td>\n",
       "      <td>Gwyneth Paltrow Touts New Diamond-Encrusted Tr...</td>\n",
       "      <td>89</td>\n",
       "      <td>[gwyneth, paltrow, touts, new, diamond-encrust...</td>\n",
       "      <td>[gwyneth, paltrow, touts, diamond-encrusted, t...</td>\n",
       "      <td>[gwyneth, paltrow, touts, diamond-encrusted, t...</td>\n",
       "    </tr>\n",
       "    <tr>\n",
       "      <th>3</th>\n",
       "      <td>1</td>\n",
       "      <td>Artist Crafting Music Box Hopes It Delights At...</td>\n",
       "      <td>81</td>\n",
       "      <td>[artist, crafting, music, box, hopes, it, deli...</td>\n",
       "      <td>[artist, crafting, music, hopes, delights, lea...</td>\n",
       "      <td>[artist, crafting, music, hopes, delights, lea...</td>\n",
       "    </tr>\n",
       "    <tr>\n",
       "      <th>4</th>\n",
       "      <td>1</td>\n",
       "      <td>Homeowner Trying To Smoke Out Snakes Accidenta...</td>\n",
       "      <td>66</td>\n",
       "      <td>[homeowner, trying, to, smoke, out, snakes, ac...</td>\n",
       "      <td>[homeowner, trying, smoke, snakes, accidentall...</td>\n",
       "      <td>[homeowner, trying, smoke, snakes, accidentall...</td>\n",
       "    </tr>\n",
       "  </tbody>\n",
       "</table>\n",
       "</div>"
      ],
      "text/plain": [
       "   subreddit                                              title  title_len  \\\n",
       "0          1  Surgeon Kind Of Pissed Patient Seeing Her Defo...        109   \n",
       "1          1  McDonald’s blocked from building drive-through...         83   \n",
       "2          1  Gwyneth Paltrow Touts New Diamond-Encrusted Tr...         89   \n",
       "3          1  Artist Crafting Music Box Hopes It Delights At...         81   \n",
       "4          1  Homeowner Trying To Smoke Out Snakes Accidenta...         66   \n",
       "\n",
       "                                              tokens  \\\n",
       "0  [surgeon, kind, of, pissed, patient, seeing, h...   \n",
       "1  [mcdonald’s, blocked, from, building, drive-th...   \n",
       "2  [gwyneth, paltrow, touts, new, diamond-encrust...   \n",
       "3  [artist, crafting, music, box, hopes, it, deli...   \n",
       "4  [homeowner, trying, to, smoke, out, snakes, ac...   \n",
       "\n",
       "                                     filtered_tokens  \\\n",
       "0  [surgeon, kind, pissed, patient, seeing, defor...   \n",
       "1  [mcdonald’s, blocked, from, building, drive-th...   \n",
       "2  [gwyneth, paltrow, touts, diamond-encrusted, t...   \n",
       "3  [artist, crafting, music, hopes, delights, lea...   \n",
       "4  [homeowner, trying, smoke, snakes, accidentall...   \n",
       "\n",
       "                                        clean_tokens  \n",
       "0  [surgeon, kind, pissed, patient, seeing, defor...  \n",
       "1  [mcdonald’s, blocked, building, drive-through,...  \n",
       "2  [gwyneth, paltrow, touts, diamond-encrusted, t...  \n",
       "3  [artist, crafting, music, hopes, delights, lea...  \n",
       "4  [homeowner, trying, smoke, snakes, accidentall...  "
      ]
     },
     "execution_count": 40,
     "metadata": {},
     "output_type": "execute_result"
    }
   ],
   "source": [
    "combined_onion['clean_tokens'] = combined_onion['filtered_tokens'].apply(lambda x : remove_stopwords(x))\n",
    "combined_onion.head()"
   ]
  },
  {
   "cell_type": "code",
   "execution_count": 41,
   "id": "299c67a8",
   "metadata": {},
   "outputs": [],
   "source": [
    "def lemmatize(text):\n",
    "    word_net = WordNetLemmatizer()\n",
    "    return [word_net.lemmatize(word) for word in text]"
   ]
  },
  {
   "cell_type": "code",
   "execution_count": 42,
   "id": "b7fec004",
   "metadata": {},
   "outputs": [
    {
     "data": {
      "text/html": [
       "<div>\n",
       "<style scoped>\n",
       "    .dataframe tbody tr th:only-of-type {\n",
       "        vertical-align: middle;\n",
       "    }\n",
       "\n",
       "    .dataframe tbody tr th {\n",
       "        vertical-align: top;\n",
       "    }\n",
       "\n",
       "    .dataframe thead th {\n",
       "        text-align: right;\n",
       "    }\n",
       "</style>\n",
       "<table border=\"1\" class=\"dataframe\">\n",
       "  <thead>\n",
       "    <tr style=\"text-align: right;\">\n",
       "      <th></th>\n",
       "      <th>subreddit</th>\n",
       "      <th>title</th>\n",
       "      <th>title_len</th>\n",
       "      <th>tokens</th>\n",
       "      <th>filtered_tokens</th>\n",
       "      <th>clean_tokens</th>\n",
       "      <th>lemma_words</th>\n",
       "    </tr>\n",
       "  </thead>\n",
       "  <tbody>\n",
       "    <tr>\n",
       "      <th>0</th>\n",
       "      <td>1</td>\n",
       "      <td>Surgeon Kind Of Pissed Patient Seeing Her Defo...</td>\n",
       "      <td>109</td>\n",
       "      <td>[surgeon, kind, of, pissed, patient, seeing, h...</td>\n",
       "      <td>[surgeon, kind, pissed, patient, seeing, defor...</td>\n",
       "      <td>[surgeon, kind, pissed, patient, seeing, defor...</td>\n",
       "      <td>[surgeon, kind, pissed, patient, seeing, defor...</td>\n",
       "    </tr>\n",
       "    <tr>\n",
       "      <th>1</th>\n",
       "      <td>1</td>\n",
       "      <td>McDonald’s blocked from building drive-through...</td>\n",
       "      <td>83</td>\n",
       "      <td>[mcdonald’s, blocked, from, building, drive-th...</td>\n",
       "      <td>[mcdonald’s, blocked, from, building, drive-th...</td>\n",
       "      <td>[mcdonald’s, blocked, building, drive-through,...</td>\n",
       "      <td>[mcdonald’s, blocked, building, drive-through,...</td>\n",
       "    </tr>\n",
       "    <tr>\n",
       "      <th>2</th>\n",
       "      <td>1</td>\n",
       "      <td>Gwyneth Paltrow Touts New Diamond-Encrusted Tr...</td>\n",
       "      <td>89</td>\n",
       "      <td>[gwyneth, paltrow, touts, new, diamond-encrust...</td>\n",
       "      <td>[gwyneth, paltrow, touts, diamond-encrusted, t...</td>\n",
       "      <td>[gwyneth, paltrow, touts, diamond-encrusted, t...</td>\n",
       "      <td>[gwyneth, paltrow, tout, diamond-encrusted, tr...</td>\n",
       "    </tr>\n",
       "    <tr>\n",
       "      <th>3</th>\n",
       "      <td>1</td>\n",
       "      <td>Artist Crafting Music Box Hopes It Delights At...</td>\n",
       "      <td>81</td>\n",
       "      <td>[artist, crafting, music, box, hopes, it, deli...</td>\n",
       "      <td>[artist, crafting, music, hopes, delights, lea...</td>\n",
       "      <td>[artist, crafting, music, hopes, delights, lea...</td>\n",
       "      <td>[artist, crafting, music, hope, delight, least...</td>\n",
       "    </tr>\n",
       "    <tr>\n",
       "      <th>4</th>\n",
       "      <td>1</td>\n",
       "      <td>Homeowner Trying To Smoke Out Snakes Accidenta...</td>\n",
       "      <td>66</td>\n",
       "      <td>[homeowner, trying, to, smoke, out, snakes, ac...</td>\n",
       "      <td>[homeowner, trying, smoke, snakes, accidentall...</td>\n",
       "      <td>[homeowner, trying, smoke, snakes, accidentall...</td>\n",
       "      <td>[homeowner, trying, smoke, snake, accidentally...</td>\n",
       "    </tr>\n",
       "  </tbody>\n",
       "</table>\n",
       "</div>"
      ],
      "text/plain": [
       "   subreddit                                              title  title_len  \\\n",
       "0          1  Surgeon Kind Of Pissed Patient Seeing Her Defo...        109   \n",
       "1          1  McDonald’s blocked from building drive-through...         83   \n",
       "2          1  Gwyneth Paltrow Touts New Diamond-Encrusted Tr...         89   \n",
       "3          1  Artist Crafting Music Box Hopes It Delights At...         81   \n",
       "4          1  Homeowner Trying To Smoke Out Snakes Accidenta...         66   \n",
       "\n",
       "                                              tokens  \\\n",
       "0  [surgeon, kind, of, pissed, patient, seeing, h...   \n",
       "1  [mcdonald’s, blocked, from, building, drive-th...   \n",
       "2  [gwyneth, paltrow, touts, new, diamond-encrust...   \n",
       "3  [artist, crafting, music, box, hopes, it, deli...   \n",
       "4  [homeowner, trying, to, smoke, out, snakes, ac...   \n",
       "\n",
       "                                     filtered_tokens  \\\n",
       "0  [surgeon, kind, pissed, patient, seeing, defor...   \n",
       "1  [mcdonald’s, blocked, from, building, drive-th...   \n",
       "2  [gwyneth, paltrow, touts, diamond-encrusted, t...   \n",
       "3  [artist, crafting, music, hopes, delights, lea...   \n",
       "4  [homeowner, trying, smoke, snakes, accidentall...   \n",
       "\n",
       "                                        clean_tokens  \\\n",
       "0  [surgeon, kind, pissed, patient, seeing, defor...   \n",
       "1  [mcdonald’s, blocked, building, drive-through,...   \n",
       "2  [gwyneth, paltrow, touts, diamond-encrusted, t...   \n",
       "3  [artist, crafting, music, hopes, delights, lea...   \n",
       "4  [homeowner, trying, smoke, snakes, accidentall...   \n",
       "\n",
       "                                         lemma_words  \n",
       "0  [surgeon, kind, pissed, patient, seeing, defor...  \n",
       "1  [mcdonald’s, blocked, building, drive-through,...  \n",
       "2  [gwyneth, paltrow, tout, diamond-encrusted, tr...  \n",
       "3  [artist, crafting, music, hope, delight, least...  \n",
       "4  [homeowner, trying, smoke, snake, accidentally...  "
      ]
     },
     "execution_count": 42,
     "metadata": {},
     "output_type": "execute_result"
    }
   ],
   "source": [
    "combined_onion['lemma_words'] = combined_onion['clean_tokens'].apply(lambda x : lemmatize(x))\n",
    "combined_onion.head()"
   ]
  },
  {
   "cell_type": "code",
   "execution_count": 43,
   "id": "496218ed",
   "metadata": {},
   "outputs": [],
   "source": [
    "def return_sentences(tokens):\n",
    "    return \" \".join([word for word in tokens])"
   ]
  },
  {
   "cell_type": "code",
   "execution_count": 44,
   "id": "b88bb893",
   "metadata": {},
   "outputs": [
    {
     "data": {
      "text/html": [
       "<div>\n",
       "<style scoped>\n",
       "    .dataframe tbody tr th:only-of-type {\n",
       "        vertical-align: middle;\n",
       "    }\n",
       "\n",
       "    .dataframe tbody tr th {\n",
       "        vertical-align: top;\n",
       "    }\n",
       "\n",
       "    .dataframe thead th {\n",
       "        text-align: right;\n",
       "    }\n",
       "</style>\n",
       "<table border=\"1\" class=\"dataframe\">\n",
       "  <thead>\n",
       "    <tr style=\"text-align: right;\">\n",
       "      <th></th>\n",
       "      <th>subreddit</th>\n",
       "      <th>title</th>\n",
       "      <th>title_len</th>\n",
       "      <th>tokens</th>\n",
       "      <th>filtered_tokens</th>\n",
       "      <th>clean_tokens</th>\n",
       "      <th>lemma_words</th>\n",
       "      <th>clean_text</th>\n",
       "    </tr>\n",
       "  </thead>\n",
       "  <tbody>\n",
       "    <tr>\n",
       "      <th>0</th>\n",
       "      <td>1</td>\n",
       "      <td>Surgeon Kind Of Pissed Patient Seeing Her Defo...</td>\n",
       "      <td>109</td>\n",
       "      <td>[surgeon, kind, of, pissed, patient, seeing, h...</td>\n",
       "      <td>[surgeon, kind, pissed, patient, seeing, defor...</td>\n",
       "      <td>[surgeon, kind, pissed, patient, seeing, defor...</td>\n",
       "      <td>[surgeon, kind, pissed, patient, seeing, defor...</td>\n",
       "      <td>surgeon kind pissed patient seeing deformed fa...</td>\n",
       "    </tr>\n",
       "    <tr>\n",
       "      <th>1</th>\n",
       "      <td>1</td>\n",
       "      <td>McDonald’s blocked from building drive-through...</td>\n",
       "      <td>83</td>\n",
       "      <td>[mcdonald’s, blocked, from, building, drive-th...</td>\n",
       "      <td>[mcdonald’s, blocked, from, building, drive-th...</td>\n",
       "      <td>[mcdonald’s, blocked, building, drive-through,...</td>\n",
       "      <td>[mcdonald’s, blocked, building, drive-through,...</td>\n",
       "      <td>mcdonald’s blocked building drive-through rome...</td>\n",
       "    </tr>\n",
       "    <tr>\n",
       "      <th>2</th>\n",
       "      <td>1</td>\n",
       "      <td>Gwyneth Paltrow Touts New Diamond-Encrusted Tr...</td>\n",
       "      <td>89</td>\n",
       "      <td>[gwyneth, paltrow, touts, new, diamond-encrust...</td>\n",
       "      <td>[gwyneth, paltrow, touts, diamond-encrusted, t...</td>\n",
       "      <td>[gwyneth, paltrow, touts, diamond-encrusted, t...</td>\n",
       "      <td>[gwyneth, paltrow, tout, diamond-encrusted, tr...</td>\n",
       "      <td>gwyneth paltrow tout diamond-encrusted trepana...</td>\n",
       "    </tr>\n",
       "    <tr>\n",
       "      <th>3</th>\n",
       "      <td>1</td>\n",
       "      <td>Artist Crafting Music Box Hopes It Delights At...</td>\n",
       "      <td>81</td>\n",
       "      <td>[artist, crafting, music, box, hopes, it, deli...</td>\n",
       "      <td>[artist, crafting, music, hopes, delights, lea...</td>\n",
       "      <td>[artist, crafting, music, hopes, delights, lea...</td>\n",
       "      <td>[artist, crafting, music, hope, delight, least...</td>\n",
       "      <td>artist crafting music hope delight least child...</td>\n",
       "    </tr>\n",
       "    <tr>\n",
       "      <th>4</th>\n",
       "      <td>1</td>\n",
       "      <td>Homeowner Trying To Smoke Out Snakes Accidenta...</td>\n",
       "      <td>66</td>\n",
       "      <td>[homeowner, trying, to, smoke, out, snakes, ac...</td>\n",
       "      <td>[homeowner, trying, smoke, snakes, accidentall...</td>\n",
       "      <td>[homeowner, trying, smoke, snakes, accidentall...</td>\n",
       "      <td>[homeowner, trying, smoke, snake, accidentally...</td>\n",
       "      <td>homeowner trying smoke snake accidentally burn...</td>\n",
       "    </tr>\n",
       "  </tbody>\n",
       "</table>\n",
       "</div>"
      ],
      "text/plain": [
       "   subreddit                                              title  title_len  \\\n",
       "0          1  Surgeon Kind Of Pissed Patient Seeing Her Defo...        109   \n",
       "1          1  McDonald’s blocked from building drive-through...         83   \n",
       "2          1  Gwyneth Paltrow Touts New Diamond-Encrusted Tr...         89   \n",
       "3          1  Artist Crafting Music Box Hopes It Delights At...         81   \n",
       "4          1  Homeowner Trying To Smoke Out Snakes Accidenta...         66   \n",
       "\n",
       "                                              tokens  \\\n",
       "0  [surgeon, kind, of, pissed, patient, seeing, h...   \n",
       "1  [mcdonald’s, blocked, from, building, drive-th...   \n",
       "2  [gwyneth, paltrow, touts, new, diamond-encrust...   \n",
       "3  [artist, crafting, music, box, hopes, it, deli...   \n",
       "4  [homeowner, trying, to, smoke, out, snakes, ac...   \n",
       "\n",
       "                                     filtered_tokens  \\\n",
       "0  [surgeon, kind, pissed, patient, seeing, defor...   \n",
       "1  [mcdonald’s, blocked, from, building, drive-th...   \n",
       "2  [gwyneth, paltrow, touts, diamond-encrusted, t...   \n",
       "3  [artist, crafting, music, hopes, delights, lea...   \n",
       "4  [homeowner, trying, smoke, snakes, accidentall...   \n",
       "\n",
       "                                        clean_tokens  \\\n",
       "0  [surgeon, kind, pissed, patient, seeing, defor...   \n",
       "1  [mcdonald’s, blocked, building, drive-through,...   \n",
       "2  [gwyneth, paltrow, touts, diamond-encrusted, t...   \n",
       "3  [artist, crafting, music, hopes, delights, lea...   \n",
       "4  [homeowner, trying, smoke, snakes, accidentall...   \n",
       "\n",
       "                                         lemma_words  \\\n",
       "0  [surgeon, kind, pissed, patient, seeing, defor...   \n",
       "1  [mcdonald’s, blocked, building, drive-through,...   \n",
       "2  [gwyneth, paltrow, tout, diamond-encrusted, tr...   \n",
       "3  [artist, crafting, music, hope, delight, least...   \n",
       "4  [homeowner, trying, smoke, snake, accidentally...   \n",
       "\n",
       "                                          clean_text  \n",
       "0  surgeon kind pissed patient seeing deformed fa...  \n",
       "1  mcdonald’s blocked building drive-through rome...  \n",
       "2  gwyneth paltrow tout diamond-encrusted trepana...  \n",
       "3  artist crafting music hope delight least child...  \n",
       "4  homeowner trying smoke snake accidentally burn...  "
      ]
     },
     "execution_count": 44,
     "metadata": {},
     "output_type": "execute_result"
    }
   ],
   "source": [
    "combined_onion['clean_text'] = combined_onion['lemma_words'].apply(lambda x : return_sentences(x))\n",
    "combined_onion.head()"
   ]
  },
  {
   "cell_type": "markdown",
   "id": "b6a1de9f",
   "metadata": {},
   "source": [
    "# Natural Language Processing (NLP)"
   ]
  },
  {
   "cell_type": "markdown",
   "id": "abbdd29d",
   "metadata": {},
   "source": [
    "This part Count Vectorizer is used and explore the most used words,also the combinations of words from each subreddit"
   ]
  },
  {
   "cell_type": "markdown",
   "id": "fe202ce6",
   "metadata": {},
   "source": [
    "**Apply CountVectorizer()**\n",
    "- **ngram_range = (1,1)** \n",
    "- **TheOnion** subreddit is 1"
   ]
  },
  {
   "cell_type": "code",
   "execution_count": 45,
   "id": "cce795e8",
   "metadata": {},
   "outputs": [],
   "source": [
    "#ngram_range = (1,1)\n",
    "#set TheOnion Titles as variable\n",
    "mask_onion = combined_onion['subreddit'] == 1\n",
    "onion_titles = combined_onion[mask_onion]['title']\n",
    "\n",
    "# Instantiate the CountVectorizer\n",
    "cv1 = CountVectorizer(stop_words = 'english')"
   ]
  },
  {
   "cell_type": "code",
   "execution_count": 46,
   "id": "bf87d750",
   "metadata": {},
   "outputs": [
    {
     "name": "stdout",
     "output_type": "stream",
     "text": [
      "(2324, 7541)\n"
     ]
    }
   ],
   "source": [
    "# Fit and transform \n",
    "onion_cv1 = cv1.fit_transform(onion_titles)\n",
    "\n",
    "# Convert onion_cv1 to DataFrame\n",
    "onion_cv1_df = pd.DataFrame(onion_cv1.toarray(),\n",
    "                   columns=cv1.get_feature_names())\n",
    "\n",
    "# check shape\n",
    "print(onion_cv1_df.shape)"
   ]
  },
  {
   "cell_type": "markdown",
   "id": "135fb688",
   "metadata": {},
   "source": [
    "- **ngram_range = (1,1)**\n",
    "- **nottheonion** subreddit is 0"
   ]
  },
  {
   "cell_type": "code",
   "execution_count": 47,
   "id": "0255cc73",
   "metadata": {},
   "outputs": [
    {
     "name": "stdout",
     "output_type": "stream",
     "text": [
      "(1920, 5820)\n"
     ]
    }
   ],
   "source": [
    "#setup mask\n",
    "mask_onion = combined_onion['subreddit'] == 0\n",
    "notonion_titles = combined_onion[mask_onion]['title']\n",
    "\n",
    "# Instantiate the CountVectorizer\n",
    "cv0 = CountVectorizer(stop_words = 'english')\n",
    "\n",
    "# Fit and transform the vectorizer \n",
    "onion_cv0 = cv0.fit_transform(notonion_titles)\n",
    "\n",
    "# Convert onion_cv1 to DataFrame\n",
    "onion_cv0_df = pd.DataFrame(onion_cv0.toarray(),\n",
    "                   columns=cv0.get_feature_names())\n",
    "\n",
    "# check shape\n",
    "print(onion_cv0_df.shape)"
   ]
  },
  {
   "cell_type": "markdown",
   "id": "4bb060fa",
   "metadata": {},
   "source": [
    "**r/TheOnion:** Top 5 Unigrams"
   ]
  },
  {
   "cell_type": "code",
   "execution_count": 54,
   "id": "fddc085c",
   "metadata": {},
   "outputs": [
    {
     "data": {
      "image/png": "[encoded data removed]",
      "text/plain": [
       "<Figure size 648x360 with 1 Axes>"
      ]
     },
     "metadata": {
      "needs_background": "light"
     },
     "output_type": "display_data"
    }
   ],
   "source": [
    "# variable for top 10 most used words in Onion\n",
    "onion_wc = onion_cv1_df.sum(axis = 0)\n",
    "onion_top = onion_wc.sort_values(ascending=False).head(5)\n",
    "\n",
    "# Calling function\n",
    "bar_plot(onion_top.values, onion_top.index, 'Top 5 unigrams r/TheOnion','palevioletred') "
   ]
  },
  {
   "cell_type": "markdown",
   "id": "d184a8b4",
   "metadata": {},
   "source": [
    "\n",
    "**r/nottheonion:** Top 5 Unigrams"
   ]
  },
  {
   "cell_type": "code",
   "execution_count": 55,
   "id": "f5670a5c",
   "metadata": {},
   "outputs": [
    {
     "data": {
      "image/png": "[encoded data removed]",
      "text/plain": [
       "<Figure size 648x360 with 1 Axes>"
      ]
     },
     "metadata": {
      "needs_background": "light"
     },
     "output_type": "display_data"
    }
   ],
   "source": [
    "#variables to top 5 most used words in Onion\n",
    "notonion_wc = onion_cv0_df.sum(axis = 0)\n",
    "notonion_top = notonion_wc.sort_values(ascending=False).head(5)\n",
    "\n",
    "# Call function\n",
    "bar_plot(notonion_top.values, notonion_top.index, 'Top 5 unigrams r/nottheonion','deepskyblue') "
   ]
  },
  {
   "cell_type": "code",
   "execution_count": 56,
   "id": "aab8cbd1",
   "metadata": {},
   "outputs": [],
   "source": [
    "#compare common word of both subreddit\n",
    "# Create list of unique words\n",
    "not_onion_set_10 = set(notonion_top10.index)\n",
    "onion_set10 = set(onion_top10.index)"
   ]
  },
  {
   "cell_type": "code",
   "execution_count": 57,
   "id": "ae272be0",
   "metadata": {},
   "outputs": [
    {
     "data": {
      "text/plain": [
       "{'man'}"
      ]
     },
     "execution_count": 57,
     "metadata": {},
     "output_type": "execute_result"
    }
   ],
   "source": [
    "# use intersection\n",
    "common_unigrams = onion_set10.intersection(not_onion_set_10)\n",
    "common_unigrams"
   ]
  },
  {
   "cell_type": "markdown",
   "id": "c480884d",
   "metadata": {},
   "source": [
    "**Apply CountVectorizer() Bigram**\n",
    "- **ngram_range = (2,2)** \n",
    "- **TheOnion** subreddit is 1"
   ]
  },
  {
   "cell_type": "code",
   "execution_count": 52,
   "id": "56254225",
   "metadata": {
    "scrolled": true
   },
   "outputs": [
    {
     "name": "stdout",
     "output_type": "stream",
     "text": [
      "(2324, 15783)\n"
     ]
    }
   ],
   "source": [
    "mask_onion = combined_onion['subreddit'] == 1\n",
    "onion_titles = combined_onion[mask_onion]['title']\n",
    "\n",
    "# Instantiate cv\n",
    "cv1_2 = CountVectorizer(stop_words = 'english', ngram_range=(2,2))\n",
    "\n",
    "# Fit and transform corpus\n",
    "onion_cv1_2 = cv1_2.fit_transform(onion_titles)\n",
    "\n",
    "# Convert into a DataFrame\n",
    "onion_cv1_2_df = pd.DataFrame(onion_cv1_2.toarray(),\n",
    "                   columns=cv1_2.get_feature_names())\n",
    "\n",
    "# shape\n",
    "print(onion_cv1_2_df.shape)"
   ]
  },
  {
   "cell_type": "markdown",
   "id": "3bdb6b81",
   "metadata": {},
   "source": [
    "- **ngram_range = (2,2)** \n",
    "- **nottheonion** subreddit is 0\n"
   ]
  },
  {
   "cell_type": "code",
   "execution_count": 58,
   "id": "523c4add",
   "metadata": {},
   "outputs": [
    {
     "name": "stdout",
     "output_type": "stream",
     "text": [
      "(1920, 11476)\n"
     ]
    }
   ],
   "source": [
    "mask_onion = combined_onion['subreddit'] == 0\n",
    "notonion_titles = combined_onion[mask_onion]['title']\n",
    "\n",
    "# Instantiate the CountVectorizer\n",
    "cv0_2 = CountVectorizer(stop_words = 'english', ngram_range=(2,2))\n",
    "\n",
    "# Fit and transform the vectorizer \n",
    "onion_cv0_2 = cv0_2.fit_transform(notonion_titles)\n",
    "\n",
    "# Convert onion_cv1 to DataFrame\n",
    "onion_cv0_2_df = pd.DataFrame(onion_cv0_2.toarray(),\n",
    "                   columns=cv0_2.get_feature_names())\n",
    "\n",
    "# check shape\n",
    "print(onion_cv0_2_df.shape)"
   ]
  },
  {
   "cell_type": "markdown",
   "id": "57549e33",
   "metadata": {},
   "source": [
    "**r/TheOnion:** Top 5 Bigrams"
   ]
  },
  {
   "cell_type": "code",
   "execution_count": 59,
   "id": "41ea9035",
   "metadata": {},
   "outputs": [
    {
     "data": {
      "image/png": "[encoded data removed]",
      "text/plain": [
       "<Figure size 648x360 with 1 Axes>"
      ]
     },
     "metadata": {
      "needs_background": "light"
     },
     "output_type": "display_data"
    }
   ],
   "source": [
    "# Set up variables to contain top 5 most used bigrams in r/TheOnion\n",
    "onion_wc = onion_cv1_2_df.sum(axis = 0)\n",
    "onion_top_5 = onion_wc.sort_values(ascending=False).head(5)\n",
    "\n",
    "# Call function\n",
    "bar_plot(onion_top_5.values, onion_top_5.index, 'Top 5 bigrams r/TheOnion','palevioletred') "
   ]
  },
  {
   "cell_type": "markdown",
   "id": "1cbeb4e3",
   "metadata": {},
   "source": [
    "**r/nottheonion:** Top 5 Bigrams"
   ]
  },
  {
   "cell_type": "code",
   "execution_count": 60,
   "id": "491b518a",
   "metadata": {},
   "outputs": [
    {
     "data": {
      "image/png": "[encoded data removed]",
      "text/plain": [
       "<Figure size 648x360 with 1 Axes>"
      ]
     },
     "metadata": {
      "needs_background": "light"
     },
     "output_type": "display_data"
    }
   ],
   "source": [
    "# Set up variables to contain top 5 most used bigrams in r/nottheonion\n",
    "nonion_wc = onion_cv0_2_df.sum(axis = 0)\n",
    "nonion_top_5 = nonion_wc.sort_values(ascending=False).head(5)\n",
    "\n",
    "# Call function\n",
    "bar_plot(nonion_top_5.values, nonion_top_5.index, 'Top 5 bigrams r/nottheonion','deepskyblue') "
   ]
  },
  {
   "cell_type": "code",
   "execution_count": 61,
   "id": "e8ffb447",
   "metadata": {},
   "outputs": [
    {
     "data": {
      "text/plain": [
       "{'covid 19', 'year old'}"
      ]
     },
     "execution_count": 61,
     "metadata": {},
     "output_type": "execute_result"
    }
   ],
   "source": [
    "not_onion_5_list = set(nonion_top_5.index)\n",
    "onion_5_list = set(onion_top_5.index)\n",
    "\n",
    "# Return common words\n",
    "common_bigrams = onion_5_list.intersection(not_onion_5_list)\n",
    "common_bigrams"
   ]
  },
  {
   "cell_type": "markdown",
   "id": "178d6839",
   "metadata": {},
   "source": [
    "Take out {'man', 'new', 'old', 'people', 'say', 'trump', 'woman', 'year'} from dataset when modeling, since these words occur frequently in both subreddits."
   ]
  },
  {
   "cell_type": "markdown",
   "id": "0164e66d",
   "metadata": {},
   "source": [
    "- **ngram_range = (3,3)** \n",
    "- **nottheonion** subreddit is 1"
   ]
  },
  {
   "cell_type": "code",
   "execution_count": 63,
   "id": "eb055e94",
   "metadata": {},
   "outputs": [
    {
     "name": "stdout",
     "output_type": "stream",
     "text": [
      "(2324, 14335)\n"
     ]
    }
   ],
   "source": [
    "mask_onion = combined_onion['subreddit'] == 1\n",
    "onion_titles = combined_onion[mask_onion]['title']\n",
    "\n",
    "# Instantiate cv\n",
    "cv1_3 = CountVectorizer(stop_words = 'english', ngram_range=(3,3))\n",
    "\n",
    "# Fit and transform corpus\n",
    "onion_cv1_3 = cv1_3.fit_transform(onion_titles)\n",
    "\n",
    "# Convert into a DataFrame\n",
    "onion_cv1_3_df = pd.DataFrame(onion_cv1_3.toarray(),\n",
    "                   columns=cv1_3.get_feature_names())\n",
    "\n",
    "# shape\n",
    "print(onion_cv1_3_df.shape)"
   ]
  },
  {
   "cell_type": "markdown",
   "id": "b478f706",
   "metadata": {},
   "source": [
    "- **ngram_range = (3,3)** \n",
    "- **nottheonion** subreddit is 0"
   ]
  },
  {
   "cell_type": "code",
   "execution_count": 64,
   "id": "507f52fb",
   "metadata": {},
   "outputs": [
    {
     "name": "stdout",
     "output_type": "stream",
     "text": [
      "(1920, 10918)\n"
     ]
    }
   ],
   "source": [
    "mask_onion = combined_onion['subreddit'] == 0\n",
    "notonion_titles = combined_onion[mask_onion]['title']\n",
    "\n",
    "# Instantiate the CountVectorizer\n",
    "cv0_3 = CountVectorizer(stop_words = 'english', ngram_range=(3,3))\n",
    "\n",
    "# Fit and transform the vectorizer \n",
    "onion_cv0_3 = cv0_3.fit_transform(notonion_titles)\n",
    "\n",
    "# Convert onion_cv1 to DataFrame\n",
    "onion_cv0_3_df = pd.DataFrame(onion_cv0_3.toarray(),\n",
    "                   columns=cv0_3.get_feature_names())\n",
    "\n",
    "# check shape\n",
    "print(onion_cv0_3_df.shape)"
   ]
  },
  {
   "cell_type": "code",
   "execution_count": 65,
   "id": "dbfca8b1",
   "metadata": {},
   "outputs": [
    {
     "data": {
      "image/png": "[encoded data removed]",
      "text/plain": [
       "<Figure size 648x360 with 1 Axes>"
      ]
     },
     "metadata": {
      "needs_background": "light"
     },
     "output_type": "display_data"
    }
   ],
   "source": [
    "# Set up variables to contain top 5 most used bigrams in r/TheOnion\n",
    "onion_wc = onion_cv1_3_df.sum(axis = 0)\n",
    "onion_top_5 = onion_wc.sort_values(ascending=False).head(5)\n",
    "\n",
    "# Call function\n",
    "bar_plot(onion_top_5.values, onion_top_5.index, 'Top 5 bigrams r/TheOnion','silver') "
   ]
  },
  {
   "cell_type": "code",
   "execution_count": 66,
   "id": "f3beee1f",
   "metadata": {},
   "outputs": [
    {
     "data": {
      "image/png": "[encoded data removed]",
      "text/plain": [
       "<Figure size 648x360 with 1 Axes>"
      ]
     },
     "metadata": {
      "needs_background": "light"
     },
     "output_type": "display_data"
    }
   ],
   "source": [
    "# Set up variables to contain top 5 most used bigrams in r/nottheonion\n",
    "nonion_wc = onion_cv0_3_df.sum(axis = 0)\n",
    "nonion_top_5 = nonion_wc.sort_values(ascending=False).head(5)\n",
    "\n",
    "# Call function\n",
    "bar_plot(nonion_top_5.values, nonion_top_5.index, 'Top 5 bigrams r/nottheonion','silver') "
   ]
  },
  {
   "cell_type": "code",
   "execution_count": 67,
   "id": "cdb1d725",
   "metadata": {},
   "outputs": [
    {
     "data": {
      "text/plain": [
       "set()"
      ]
     },
     "execution_count": 67,
     "metadata": {},
     "output_type": "execute_result"
    }
   ],
   "source": [
    "not_onion_5_list = set(nonion_top_5.index)\n",
    "onion_5_list = set(onion_top_5.index)\n",
    "\n",
    "# Return common words\n",
    "common_trigrams = onion_5_list.intersection(not_onion_5_list)\n",
    "common_trigrams"
   ]
  },
  {
   "cell_type": "markdown",
   "id": "fd11a9bf",
   "metadata": {},
   "source": [
    "Save Cleaned DataFrame as csv file"
   ]
  },
  {
   "cell_type": "code",
   "execution_count": 62,
   "id": "8e1db0f5",
   "metadata": {},
   "outputs": [],
   "source": [
    "combined_onion.to_csv('./c_onion.csv', index = False)"
   ]
  },
  {
   "cell_type": "markdown",
   "id": "10f87485",
   "metadata": {},
   "source": [
    "As title feature is in natural language, checking for outlier and/or distribution is Not Applicable."
   ]
  }
 ],
 "metadata": {
  "kernelspec": {
   "display_name": "Python 3",
   "language": "python",
   "name": "python3"
  },
  "language_info": {
   "codemirror_mode": {
    "name": "ipython",
    "version": 3
   },
   "file_extension": ".py",
   "mimetype": "text/x-python",
   "name": "python",
   "nbconvert_exporter": "python",
   "pygments_lexer": "ipython3",
   "version": "3.8.8"
  }
 },
 "nbformat": 4,
 "nbformat_minor": 5
}
