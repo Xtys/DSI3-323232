{
 "cells": [
  {
   "cell_type": "markdown",
   "id": "f1f917d7",
   "metadata": {},
   "source": [
    "\n",
    "**Web Scraping Using Pushshift API**\n"
   ]
  },
  {
   "cell_type": "code",
   "execution_count": 1,
   "id": "a996a8d2",
   "metadata": {},
   "outputs": [],
   "source": [
    "import pandas as pd\n",
    "import datetime as dt\n",
    "import time\n",
    "import requests"
   ]
  },
  {
   "cell_type": "code",
   "execution_count": 10,
   "id": "e3c35614",
   "metadata": {},
   "outputs": [
    {
     "ename": "SyntaxError",
     "evalue": "invalid syntax (<ipython-input-10-485ee782e05a>, line 4)",
     "output_type": "error",
     "traceback": [
      "\u001b[1;36m  File \u001b[1;32m\"<ipython-input-10-485ee782e05a>\"\u001b[1;36m, line \u001b[1;32m4\u001b[0m\n\u001b[1;33m    subreddit = [onion; notonion]\u001b[0m\n\u001b[1;37m                      ^\u001b[0m\n\u001b[1;31mSyntaxError\u001b[0m\u001b[1;31m:\u001b[0m invalid syntax\n"
     ]
    }
   ],
   "source": [
    "# Start with an empty list\n",
    "onion= 'https://www.reddit.com/r/TheOnion/'\n",
    "notonion= 'https://www.reddit.com/r/nottheonion/'\n",
    "\n",
    "# Create an empty list\n",
    "restaurants = []\n",
    "\n",
    "# Loop through each link in the restaurants table\n",
    "for restaurant_link in restaurants_table.find_all('a'):\n",
    "    # Start with an empty dictionary\n",
    "    restaurant = {}\n",
    "    \n",
    "    # Add name\n",
    "    restaurant['name'] = restaurant_link.text\n",
    "    \n",
    "    # Add href\n",
    "    restaurant['href'] = restaurant_link['href']\n",
    "    \n",
    "    # Add restaurant to our list of restaurants\n",
    "    restaurants.append(restaurant)\n",
    "restaurants[:3]\n",
    "\n",
    "subreddit = [onion; notonion]\n",
    "\n",
    "# Loop through each restaurant in the previous step\n",
    "for subreddit in subreddits:\n",
    "    print('Scraping {}'.format(subreddit['name']))\n",
    "    \n",
    "    href = subreddit['href']\n",
    "    subredditonion_url = f'https://www.reddit.com/r/TheOnion/{href}'\n",
    "    \n",
    "    # Use requests library to get the content \n",
    "    onion_res = requests.get(subredditonion_url)\n",
    "    \n",
    "    # Loop through each row in the tbody of the restaurants table\n",
    "    for row in table.find('tbody').find_all('tr'):\n",
    "        # We'll use almost all the <td /> tags for each row, might as well create a variable\n",
    "        cells = row.find_all('td')\n",
    "        \n",
    "    # Be courteous and throttle your scrapes!\n",
    "    time.sleep(3)"
   ]
  },
  {
   "cell_type": "code",
   "execution_count": null,
   "id": "1e5c982a",
   "metadata": {},
   "outputs": [],
   "source": [
    "df = pd.DataFrame(onion)\n",
    "df.head()"
   ]
  },
  {
   "cell_type": "code",
   "execution_count": 3,
   "id": "98ba6a09",
   "metadata": {},
   "outputs": [
    {
     "ename": "NameError",
     "evalue": "name 'df' is not defined",
     "output_type": "error",
     "traceback": [
      "\u001b[1;31m---------------------------------------------------------------------------\u001b[0m",
      "\u001b[1;31mNameError\u001b[0m                                 Traceback (most recent call last)",
      "\u001b[1;32m<ipython-input-3-633337079cd0>\u001b[0m in \u001b[0;36m<module>\u001b[1;34m\u001b[0m\n\u001b[1;32m----> 1\u001b[1;33m \u001b[0mdf\u001b[0m\u001b[1;33m.\u001b[0m\u001b[0mshape\u001b[0m\u001b[1;33m\u001b[0m\u001b[1;33m\u001b[0m\u001b[0m\n\u001b[0m",
      "\u001b[1;31mNameError\u001b[0m: name 'df' is not defined"
     ]
    }
   ],
   "source": [
    "df.shape"
   ]
  },
  {
   "cell_type": "code",
   "execution_count": null,
   "id": "b34eadbc",
   "metadata": {},
   "outputs": [],
   "source": [
    "df.to_csv('onion2.csv', index=False)"
   ]
  }
 ],
 "metadata": {
  "kernelspec": {
   "display_name": "Python 3",
   "language": "python",
   "name": "python3"
  },
  "language_info": {
   "codemirror_mode": {
    "name": "ipython",
    "version": 3
   },
   "file_extension": ".py",
   "mimetype": "text/x-python",
   "name": "python",
   "nbconvert_exporter": "python",
   "pygments_lexer": "ipython3",
   "version": "3.8.8"
  }
 },
 "nbformat": 4,
 "nbformat_minor": 5
}
